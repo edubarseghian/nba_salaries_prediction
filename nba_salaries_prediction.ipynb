{
 "cells": [
  {
   "cell_type": "markdown",
   "id": "3d08028c-be52-4d84-a995-34b690c3e8a5",
   "metadata": {
    "id": "3d08028c-be52-4d84-a995-34b690c3e8a5"
   },
   "source": [
    "# Making Predictions with NBA data"
   ]
  },
  {
   "cell_type": "markdown",
   "id": "4ff2f3cb-7e1a-4705-bce7-44a56c0113e1",
   "metadata": {
    "id": "4ff2f3cb-7e1a-4705-bce7-44a56c0113e1"
   },
   "source": [
    "We're now going to make predictive models for regression and classification tasks using Scikit Learn."
   ]
  },
  {
   "cell_type": "markdown",
   "id": "73bd1212-887d-4b10-a277-30156aaf410b",
   "metadata": {
    "id": "73bd1212-887d-4b10-a277-30156aaf410b",
    "tags": []
   },
   "source": [
    "## Using Regression Models to Estimate players Salaries"
   ]
  },
  {
   "cell_type": "markdown",
   "id": "e51670c9-30ec-4dcf-b3f4-e5ba90019818",
   "metadata": {
    "id": "e51670c9-30ec-4dcf-b3f4-e5ba90019818"
   },
   "source": [
    "A player's salary can be explained by a lot of factors: \n",
    "\n",
    "- Years in the league: NBA contracts are limited in price, players have caps on how much money they make depending on their years playing in the league\n",
    "- Age: Highly correlated to the previous one, minimun age of 19 years\n",
    "- Draft position: A rookie contract value depends on the draft position.\n",
    "- Performance in statistical categories: after the rookie contract, players can negotiate freely with teams, and usually statistical categories like points, rebounds and assists are extremely important.  \n",
    "- Team: Even though there are limits to what all teams can expend in players salary, they all allocate their resources differently, and can be more willing to pay the penalties incurred by exceeding those limitations.\n",
    "- Year in which the contract was signed: the mininum and maximum values of contracts possibles in the NBA changes depending on league revenue.\n",
    "- Intangibles: For example, good defensive players might not always have great stats but can be extremely important for a team, the same can be said about veteran players that help young ones to learn and are good locker-room guys.\n",
    "\n",
    "But we're going to take a simplified approach, we'll try to use the data we already have to make the best estimator possible, and then we will analyze what went right and what could've gone wrong with our results."
   ]
  },
  {
   "cell_type": "markdown",
   "id": "6f110fec-8919-4427-89f7-b3e581176703",
   "metadata": {
    "id": "6f110fec-8919-4427-89f7-b3e581176703"
   },
   "source": [
    "### Analyzing our data"
   ]
  },
  {
   "cell_type": "code",
   "execution_count": 1,
   "id": "bafda55f-4831-49e4-abf6-cb8b2faf16ac",
   "metadata": {
    "colab": {
     "base_uri": "https://localhost:8080/"
    },
    "executionInfo": {
     "elapsed": 30238,
     "status": "ok",
     "timestamp": 1665754005972,
     "user": {
      "displayName": "Eduardo Andres",
      "userId": "05872806371588886564"
     },
     "user_tz": 180
    },
    "id": "bafda55f-4831-49e4-abf6-cb8b2faf16ac",
    "outputId": "7afcf6c2-6b92-4ae7-9ade-ee1323989857"
   },
   "outputs": [
    {
     "name": "stdout",
     "output_type": "stream",
     "text": [
      "Not running on CoLab\n"
     ]
    }
   ],
   "source": [
    "from sklearn.linear_model import LinearRegression, SGDRegressor, LogisticRegression\n",
    "from sklearn.model_selection import train_test_split\n",
    "from sklearn.preprocessing import PolynomialFeatures, MinMaxScaler, StandardScaler, OneHotEncoder, RobustScaler\n",
    "from sklearn.pipeline import make_pipeline\n",
    "from sklearn.metrics import median_absolute_error, classification_report, confusion_matrix, precision_recall_fscore_support, mean_absolute_error\n",
    "from sklearn.tree import DecisionTreeRegressor, plot_tree, DecisionTreeClassifier\n",
    "\n",
    "import numpy as np\n",
    "import pandas as pd\n",
    "pd.set_option('display.float_format', lambda x: '%.5f' % x)\n",
    "\n",
    "import matplotlib.pyplot as plt\n",
    "import seaborn as sns\n",
    "\n",
    "from collections import OrderedDict\n",
    "import itertools\n",
    "\n",
    "\n",
    "# To avoid showing the ConvergenceWarning while running regressors\n",
    "from sklearn.exceptions import ConvergenceWarning, UndefinedMetricWarning\n",
    "import warnings\n",
    "warnings.simplefilter(action='ignore', category=ConvergenceWarning)\n",
    "#warnings.simplefilter(action='ignore', category=UndefinedMetricWarning)\n",
    "\n",
    "import os\n",
    "\n",
    "if 'google.colab' in str(get_ipython()):\n",
    "  from google.colab import drive\n",
    "  drive.mount('/content/drive')\n",
    "  #drive.flush_and_unmount()\n",
    "\n",
    "  path = '/content/drive/My Drive/python_estudiando/' \n",
    "  import sys\n",
    "  sys.path.insert(0,path)\n",
    "else:\n",
    "  print('Not running on CoLab')\n",
    "  path = os.getcwd()+\"/\""
   ]
  },
  {
   "cell_type": "code",
   "execution_count": 5,
   "id": "1825a348-7771-4499-a973-16095aa83946",
   "metadata": {},
   "outputs": [
    {
     "data": {
      "text/html": [
       "<div>\n",
       "<style scoped>\n",
       "    .dataframe tbody tr th:only-of-type {\n",
       "        vertical-align: middle;\n",
       "    }\n",
       "\n",
       "    .dataframe tbody tr th {\n",
       "        vertical-align: top;\n",
       "    }\n",
       "\n",
       "    .dataframe thead th {\n",
       "        text-align: right;\n",
       "    }\n",
       "</style>\n",
       "<table border=\"1\" class=\"dataframe\">\n",
       "  <thead>\n",
       "    <tr style=\"text-align: right;\">\n",
       "      <th></th>\n",
       "      <th>PLAYER_NAME</th>\n",
       "      <th>TEAM_NAME</th>\n",
       "      <th>POSITION</th>\n",
       "      <th>HEIGHT</th>\n",
       "      <th>WEIGHT</th>\n",
       "      <th>COUNTRY</th>\n",
       "      <th>BIRTHDATE</th>\n",
       "      <th>SEASON_EXP</th>\n",
       "      <th>DRAFT_NUMBER</th>\n",
       "      <th>GP</th>\n",
       "      <th>MIN</th>\n",
       "      <th>PTS</th>\n",
       "      <th>REB</th>\n",
       "      <th>AST</th>\n",
       "      <th>STL</th>\n",
       "      <th>BLK</th>\n",
       "      <th>SALARY</th>\n",
       "      <th>AGE</th>\n",
       "    </tr>\n",
       "  </thead>\n",
       "  <tbody>\n",
       "    <tr>\n",
       "      <th>1630173</th>\n",
       "      <td>Precious Achiuwa</td>\n",
       "      <td>Raptors</td>\n",
       "      <td>Forward</td>\n",
       "      <td>203</td>\n",
       "      <td>102</td>\n",
       "      <td>Nigeria</td>\n",
       "      <td>1999-09-19</td>\n",
       "      <td>2</td>\n",
       "      <td>20.00000</td>\n",
       "      <td>134</td>\n",
       "      <td>18.40000</td>\n",
       "      <td>7.20000</td>\n",
       "      <td>5.10000</td>\n",
       "      <td>0.80000</td>\n",
       "      <td>0.40000</td>\n",
       "      <td>0.50000</td>\n",
       "      <td>2711280</td>\n",
       "      <td>22 years, 11 months, 29 days</td>\n",
       "    </tr>\n",
       "    <tr>\n",
       "      <th>203500</th>\n",
       "      <td>Steven Adams</td>\n",
       "      <td>Grizzlies</td>\n",
       "      <td>Center</td>\n",
       "      <td>211</td>\n",
       "      <td>120</td>\n",
       "      <td>New Zealand</td>\n",
       "      <td>1993-07-20</td>\n",
       "      <td>9</td>\n",
       "      <td>12.00000</td>\n",
       "      <td>664</td>\n",
       "      <td>26.80000</td>\n",
       "      <td>9.30000</td>\n",
       "      <td>8.00000</td>\n",
       "      <td>1.50000</td>\n",
       "      <td>0.90000</td>\n",
       "      <td>0.90000</td>\n",
       "      <td>17073171</td>\n",
       "      <td>29 years, 1 months, 28 days</td>\n",
       "    </tr>\n",
       "  </tbody>\n",
       "</table>\n",
       "</div>"
      ],
      "text/plain": [
       "              PLAYER_NAME  TEAM_NAME POSITION  HEIGHT  WEIGHT      COUNTRY  \\\n",
       "1630173  Precious Achiuwa    Raptors  Forward     203     102      Nigeria   \n",
       "203500       Steven Adams  Grizzlies   Center     211     120  New Zealand   \n",
       "\n",
       "          BIRTHDATE  SEASON_EXP  DRAFT_NUMBER   GP      MIN     PTS     REB  \\\n",
       "1630173  1999-09-19           2      20.00000  134 18.40000 7.20000 5.10000   \n",
       "203500   1993-07-20           9      12.00000  664 26.80000 9.30000 8.00000   \n",
       "\n",
       "            AST     STL     BLK    SALARY                           AGE  \n",
       "1630173 0.80000 0.40000 0.50000   2711280  22 years, 11 months, 29 days  \n",
       "203500  1.50000 0.90000 0.90000  17073171   29 years, 1 months, 28 days  "
      ]
     },
     "execution_count": 5,
     "metadata": {},
     "output_type": "execute_result"
    }
   ],
   "source": [
    "working_df = pd.read_csv(path+\"nba_players_processed_dataset.csv\", index_col=\"Unnamed: 0\")\n",
    "working_df.head(2)"
   ]
  },
  {
   "cell_type": "code",
   "execution_count": 2,
   "id": "L0ccGIJBqqb9",
   "metadata": {
    "id": "L0ccGIJBqqb9"
   },
   "outputs": [],
   "source": [
    "data = pd.read_csv(\"https://raw.githubusercontent.com/anyoneai/notebooks/main/datasets/project2_players_df.csv\")"
   ]
  },
  {
   "cell_type": "code",
   "execution_count": 6,
   "id": "9b43f120-a45c-4184-9d11-33f612f21e17",
   "metadata": {},
   "outputs": [
    {
     "data": {
      "text/html": [
       "<div>\n",
       "<style scoped>\n",
       "    .dataframe tbody tr th:only-of-type {\n",
       "        vertical-align: middle;\n",
       "    }\n",
       "\n",
       "    .dataframe tbody tr th {\n",
       "        vertical-align: top;\n",
       "    }\n",
       "\n",
       "    .dataframe thead th {\n",
       "        text-align: right;\n",
       "    }\n",
       "</style>\n",
       "<table border=\"1\" class=\"dataframe\">\n",
       "  <thead>\n",
       "    <tr style=\"text-align: right;\">\n",
       "      <th></th>\n",
       "      <th>PERSON_ID</th>\n",
       "      <th>PLAYER_NAME</th>\n",
       "      <th>TEAM_NAME</th>\n",
       "      <th>POSITION</th>\n",
       "      <th>HEIGHT</th>\n",
       "      <th>WEIGHT</th>\n",
       "      <th>COUNTRY</th>\n",
       "      <th>BIRTHDATE</th>\n",
       "      <th>SEASON_EXP</th>\n",
       "      <th>DRAFT_NUMBER</th>\n",
       "      <th>GP</th>\n",
       "      <th>MIN</th>\n",
       "      <th>PTS</th>\n",
       "      <th>REB</th>\n",
       "      <th>AST</th>\n",
       "      <th>STL</th>\n",
       "      <th>BLK</th>\n",
       "      <th>SALARY</th>\n",
       "      <th>AGE</th>\n",
       "    </tr>\n",
       "  </thead>\n",
       "  <tbody>\n",
       "    <tr>\n",
       "      <th>0</th>\n",
       "      <td>1630173</td>\n",
       "      <td>Precious Achiuwa</td>\n",
       "      <td>Raptors</td>\n",
       "      <td>Forward</td>\n",
       "      <td>203</td>\n",
       "      <td>102</td>\n",
       "      <td>Nigeria</td>\n",
       "      <td>1999-09-19</td>\n",
       "      <td>2</td>\n",
       "      <td>20</td>\n",
       "      <td>134</td>\n",
       "      <td>18.40000</td>\n",
       "      <td>7.20000</td>\n",
       "      <td>5.10000</td>\n",
       "      <td>0.80000</td>\n",
       "      <td>0.40000</td>\n",
       "      <td>0.50000</td>\n",
       "      <td>2711280</td>\n",
       "      <td>23 years, 0 months, 0 days</td>\n",
       "    </tr>\n",
       "    <tr>\n",
       "      <th>1</th>\n",
       "      <td>203500</td>\n",
       "      <td>Steven Adams</td>\n",
       "      <td>Grizzlies</td>\n",
       "      <td>Center</td>\n",
       "      <td>211</td>\n",
       "      <td>120</td>\n",
       "      <td>New Zealand</td>\n",
       "      <td>1993-07-20</td>\n",
       "      <td>9</td>\n",
       "      <td>12</td>\n",
       "      <td>664</td>\n",
       "      <td>26.80000</td>\n",
       "      <td>9.30000</td>\n",
       "      <td>8.00000</td>\n",
       "      <td>1.50000</td>\n",
       "      <td>0.90000</td>\n",
       "      <td>0.90000</td>\n",
       "      <td>17073171</td>\n",
       "      <td>29 years, 1 months, 30 days</td>\n",
       "    </tr>\n",
       "  </tbody>\n",
       "</table>\n",
       "</div>"
      ],
      "text/plain": [
       "   PERSON_ID       PLAYER_NAME  TEAM_NAME POSITION  HEIGHT  WEIGHT  \\\n",
       "0    1630173  Precious Achiuwa    Raptors  Forward     203     102   \n",
       "1     203500      Steven Adams  Grizzlies   Center     211     120   \n",
       "\n",
       "       COUNTRY   BIRTHDATE  SEASON_EXP DRAFT_NUMBER   GP      MIN     PTS  \\\n",
       "0      Nigeria  1999-09-19           2           20  134 18.40000 7.20000   \n",
       "1  New Zealand  1993-07-20           9           12  664 26.80000 9.30000   \n",
       "\n",
       "      REB     AST     STL     BLK    SALARY                          AGE  \n",
       "0 5.10000 0.80000 0.40000 0.50000   2711280   23 years, 0 months, 0 days  \n",
       "1 8.00000 1.50000 0.90000 0.90000  17073171  29 years, 1 months, 30 days  "
      ]
     },
     "execution_count": 6,
     "metadata": {},
     "output_type": "execute_result"
    }
   ],
   "source": [
    "data.head(2)"
   ]
  },
  {
   "cell_type": "markdown",
   "id": "e098b76d-c520-474b-9998-a263354fe27b",
   "metadata": {
    "id": "e098b76d-c520-474b-9998-a263354fe27b"
   },
   "source": [
    "1.1. Plot all players statistics (\"PTS\", \"REB\", \"AST\",\"STL\",\"BLK\") against salary"
   ]
  },
  {
   "cell_type": "code",
   "execution_count": null,
   "id": "v5EueWRN6o7p",
   "metadata": {
    "colab": {
     "base_uri": "https://localhost:8080/",
     "height": 1000
    },
    "executionInfo": {
     "elapsed": 1371,
     "status": "ok",
     "timestamp": 1664911698642,
     "user": {
      "displayName": "Eduardo Andres",
      "userId": "05872806371588886564"
     },
     "user_tz": 180
    },
    "id": "v5EueWRN6o7p",
    "outputId": "2af39829-5eb8-4e6b-d06a-bdab8b5acd02"
   },
   "outputs": [
    {
     "data": {
      "image/png": "[encoded data removed]",
      "text/plain": [
       "<Figure size 504x360 with 1 Axes>"
      ]
     },
     "metadata": {
      "needs_background": "light"
     },
     "output_type": "display_data"
    },
    {
     "data": {
      "image/png": "[encoded data removed]",
      "text/plain": [
       "<Figure size 504x360 with 1 Axes>"
      ]
     },
     "metadata": {
      "needs_background": "light"
     },
     "output_type": "display_data"
    },
    {
     "data": {
      "image/png": "[encoded data removed]",
      "text/plain": [
       "<Figure size 504x360 with 1 Axes>"
      ]
     },
     "metadata": {
      "needs_background": "light"
     },
     "output_type": "display_data"
    },
    {
     "data": {
      "image/png": "[encoded data removed]",
      "text/plain": [
       "<Figure size 504x360 with 1 Axes>"
      ]
     },
     "metadata": {
      "needs_background": "light"
     },
     "output_type": "display_data"
    },
    {
     "data": {
      "image/png": "[encoded data removed]",
      "text/plain": [
       "<Figure size 504x360 with 1 Axes>"
      ]
     },
     "metadata": {
      "needs_background": "light"
     },
     "output_type": "display_data"
    }
   ],
   "source": [
    "#fig, ax = plt.subplots(2, 3)\n",
    "for estadistica in [\"PTS\", \"REB\", \"AST\",\"STL\",\"BLK\"]:\n",
    "  sns.scatterplot(data=data, x=estadistica, y='SALARY').set(title= f\"{estadistica} vs salary\", ylabel= \"Salary in millions\", xlabel= estadistica)\n",
    "  fig = plt.gcf()\n",
    "  fig.set_size_inches(7, 5)\n",
    "  plt.show()"
   ]
  },
  {
   "cell_type": "markdown",
   "id": "bbf0fe81-4aed-4dd9-8500-0919b4ec1e07",
   "metadata": {
    "id": "bbf0fe81-4aed-4dd9-8500-0919b4ec1e07"
   },
   "source": [
    "In general, there is a positive correlation between these basic game stats and the salary. It is the most evident in the Points per game case. The only exception may be the Blocks vs Salary relationship."
   ]
  },
  {
   "cell_type": "markdown",
   "id": "17735366-22bf-4cd8-a392-9dfb01652da0",
   "metadata": {
    "id": "17735366-22bf-4cd8-a392-9dfb01652da0"
   },
   "source": [
    "### Splitting the Dataset"
   ]
  },
  {
   "cell_type": "code",
   "execution_count": null,
   "id": "d532e0fb-e478-48a0-971b-1ad1d428fe95",
   "metadata": {
    "id": "d532e0fb-e478-48a0-971b-1ad1d428fe95"
   },
   "outputs": [],
   "source": [
    "X = data.drop(\"SALARY\", axis=1)\n",
    "y = data.SALARY\n",
    "\n",
    "X_train, X_test, y_train, y_test = train_test_split( X, y, test_size=0.2, \n",
    "                                                           random_state=12,\n",
    "                                                           shuffle=True\n",
    "                                                    )"
   ]
  },
  {
   "cell_type": "markdown",
   "id": "5TpInGhkR6fo",
   "metadata": {
    "id": "5TpInGhkR6fo"
   },
   "source": [
    "*Don't change anything in this cell, just make it run correctly*"
   ]
  },
  {
   "cell_type": "markdown",
   "id": "6aec0deb-7efe-438c-8a4a-39f940aeb474",
   "metadata": {
    "id": "6aec0deb-7efe-438c-8a4a-39f940aeb474"
   },
   "source": [
    "### Baseline Model and Evaluation Metric"
   ]
  },
  {
   "cell_type": "markdown",
   "id": "40ca78ad-8dc1-4b13-99bd-27dcd138a809",
   "metadata": {
    "id": "40ca78ad-8dc1-4b13-99bd-27dcd138a809"
   },
   "source": [
    "In every project, we need a baseline model that implements a very simple algorithm or heuristic so we can compare our results with it. \n",
    "In this case, we could create a function that always returns the average player salary, evaluate that, and then compare the result with our modeling to see if we are improving. "
   ]
  },
  {
   "cell_type": "markdown",
   "id": "71a7eb29-2bdf-4faf-93e9-3206dbc9cca2",
   "metadata": {
    "id": "71a7eb29-2bdf-4faf-93e9-3206dbc9cca2"
   },
   "source": [
    "We need an evaluation metric to see how well our models fit the data. For this project we will use [Mean Absolute Error](https://scikit-learn.org/stable/modules/generated/sklearn.metrics.mean_absolute_error.html#sklearn.metrics.mean_absolute_error) as our regression evaluation metric, because it is a really simple metric to interpret. A lower value means the model performs better. \n",
    "\n",
    "For this particular problem, we will always round the value, as we don't need decimals for this task."
   ]
  },
  {
   "cell_type": "markdown",
   "id": "cefd619d-e6b0-4e70-acf8-f0f4a90fe896",
   "metadata": {
    "id": "cefd619d-e6b0-4e70-acf8-f0f4a90fe896"
   },
   "source": [
    "Let's create a Baseline model class, that implements fit() and predict() methods. This model will receive a list of all players salaries. It should return a numpy array with the same length but every element should have the same value (the average salary)."
   ]
  },
  {
   "cell_type": "code",
   "execution_count": null,
   "id": "8ee01164-1ef2-44dc-8baa-74b630444577",
   "metadata": {
    "id": "8ee01164-1ef2-44dc-8baa-74b630444577"
   },
   "outputs": [],
   "source": [
    "class BaselineModel():\n",
    "  \"\"\"\n",
    "  A baseline model that always returns the same value, the mean of the \n",
    "  players salary in the train data\n",
    "  \"\"\"\n",
    "  def __init__(self):\n",
    "    self.w0 = 0\n",
    "    self.w1 = 0\n",
    "\n",
    "  def fit(self, y_train, n_dim):\n",
    "    \"\"\"\n",
    "    Fit the training data. \n",
    "    \n",
    "    Parameters\n",
    "    ----------\n",
    "    y_train: Union[pd.Series, np.ndarray]\n",
    "        a pandas series or numpy array containing salary information\n",
    "\n",
    "    y_test:  Union[pd.Series, np.ndarray]\n",
    "       a pandas series or numpy array, to get the size of the test dataset\n",
    "    \"\"\"\n",
    "    self.w0 = np.mean(y_train) \n",
    "    self.w0 = y_listpred = np.ones(n_dim) * self.w0\n",
    "  \n",
    "  def predict(self, X):\n",
    "    return self.w0\n",
    "    \n",
    "    \"\"\"\n",
    "    Predict salaries \n",
    "    \n",
    "    Parameters\n",
    "    ----------\n",
    "    X: Union[pd.DataFrame, pd.Series, np.ndarray]\n",
    "        a pandas series, dataframe or numpy array with the \n",
    "        \n",
    "    Returns\n",
    "    -------\n",
    "    np.ndarray\n",
    "        a numpy array of the same length as X, with all elements equal to \n",
    "        the mean salary calculated in fit()\n",
    "    \"\"\"\n",
    "      "
   ]
  },
  {
   "cell_type": "code",
   "execution_count": null,
   "id": "oUfZj5Pi3VZB",
   "metadata": {
    "colab": {
     "base_uri": "https://localhost:8080/"
    },
    "executionInfo": {
     "elapsed": 266,
     "status": "ok",
     "timestamp": 1664918728924,
     "user": {
      "displayName": "Eduardo Andres",
      "userId": "05872806371588886564"
     },
     "user_tz": 180
    },
    "id": "oUfZj5Pi3VZB",
    "outputId": "67a91e95-f88a-4aaf-ae90-dbbb43dd6483"
   },
   "outputs": [
    {
     "data": {
      "text/plain": [
       "6408963.28"
      ]
     },
     "execution_count": 17,
     "metadata": {},
     "output_type": "execute_result"
    }
   ],
   "source": [
    "model = BaselineModel()\n",
    "model.fit(y_train, y_test.shape[0])\n",
    "mean_constant_predictor = model.predict(y_train)\n",
    "\n",
    "baseline_mae = median_absolute_error(mean_constant_predictor, y_test)\n",
    "baseline_mae.round(2)"
   ]
  },
  {
   "cell_type": "markdown",
   "id": "c9597b03-31fd-4a9c-8dad-9479666355cd",
   "metadata": {
    "id": "c9597b03-31fd-4a9c-8dad-9479666355cd"
   },
   "source": [
    "### Regression with a single variable, scoring."
   ]
  },
  {
   "cell_type": "code",
   "execution_count": null,
   "id": "aA973Mhk-ajA",
   "metadata": {
    "colab": {
     "base_uri": "https://localhost:8080/"
    },
    "executionInfo": {
     "elapsed": 249,
     "status": "ok",
     "timestamp": 1664921047714,
     "user": {
      "displayName": "Eduardo Andres",
      "userId": "05872806371588886564"
     },
     "user_tz": 180
    },
    "id": "aA973Mhk-ajA",
    "outputId": "e795106a-623e-4c60-9935-3ab124e05a71"
   },
   "outputs": [
    {
     "name": "stdout",
     "output_type": "stream",
     "text": [
      "pendiente = [34293421.61], Ordenada = -3644675.19\n"
     ]
    }
   ],
   "source": [
    "mm_scaler = MinMaxScaler(feature_range=(0, 1), clip=False)\n",
    "mm_scaler.fit(X_train['PTS'].values.reshape(-1, 1))\n",
    "\n",
    "# transform x_train\n",
    "X_train['PTS'] = mm_scaler.transform(X_train['PTS'].values.reshape(-1, 1))\n",
    "# transform X_test\n",
    "X_test['PTS'] = mm_scaler.transform(X_test['PTS'].values.reshape(-1, 1))\n",
    "\n",
    "linear_model = LinearRegression()\n",
    "linear_model.fit(X_train[[\"PTS\"]], y_train)\n",
    "w1 = linear_model.coef_.round(2)\n",
    "w0 = linear_model.intercept_.round(2)\n",
    "print(f\"pendiente = {w1}, Ordenada = {w0}\")"
   ]
  },
  {
   "cell_type": "markdown",
   "id": "Pbky8zU6Hr3v",
   "metadata": {
    "id": "Pbky8zU6Hr3v"
   },
   "source": [
    "### Here we plot the linear regressor on the training dataset"
   ]
  },
  {
   "cell_type": "code",
   "execution_count": null,
   "id": "ORlVqGppARW0",
   "metadata": {
    "colab": {
     "base_uri": "https://localhost:8080/",
     "height": 402
    },
    "executionInfo": {
     "elapsed": 806,
     "status": "ok",
     "timestamp": 1664911733048,
     "user": {
      "displayName": "Eduardo Andres",
      "userId": "05872806371588886564"
     },
     "user_tz": 180
    },
    "id": "ORlVqGppARW0",
    "outputId": "39df6e72-580f-4aa4-e7ee-0fcc2301a1f3"
   },
   "outputs": [
    {
     "data": {
      "text/plain": [
       "[<matplotlib.lines.Line2D at 0x7feb5ec1ca90>]"
      ]
     },
     "execution_count": 9,
     "metadata": {},
     "output_type": "execute_result"
    },
    {
     "data": {
      "image/png": "[encoded data removed]",
      "text/plain": [
       "<Figure size 1080x432 with 1 Axes>"
      ]
     },
     "metadata": {
      "needs_background": "light"
     },
     "output_type": "display_data"
    }
   ],
   "source": [
    "plt.figure(figsize = (15, 6))\n",
    "plt.scatter( X_train[[\"PTS\"]], y_train, s=10, c=\"red\")\n",
    "plt.plot(X_train[[\"PTS\"]], linear_model.predict(X_train[[\"PTS\"]]), label='Regresion Lineal', c='m')"
   ]
  },
  {
   "cell_type": "code",
   "execution_count": null,
   "id": "ClSNKmvZHTy2",
   "metadata": {
    "colab": {
     "base_uri": "https://localhost:8080/"
    },
    "executionInfo": {
     "elapsed": 266,
     "status": "ok",
     "timestamp": 1664921055424,
     "user": {
      "displayName": "Eduardo Andres",
      "userId": "05872806371588886564"
     },
     "user_tz": 180
    },
    "id": "ClSNKmvZHTy2",
    "outputId": "c1b1d8cf-9495-4e3c-af58-898978e9048d"
   },
   "outputs": [
    {
     "data": {
      "text/plain": [
       "3621555.18"
      ]
     },
     "execution_count": 85,
     "metadata": {},
     "output_type": "execute_result"
    }
   ],
   "source": [
    "prediction = linear_model.predict(X_test[[\"PTS\"]])\n",
    "median_absolute_error(prediction, y_test).round(2)"
   ]
  },
  {
   "cell_type": "markdown",
   "id": "1c490e55-2bff-4a06-a01e-c6859d7edb52",
   "metadata": {
    "id": "1c490e55-2bff-4a06-a01e-c6859d7edb52"
   },
   "source": [
    "### [SGDRegressor](https://scikit-learn.org/stable/modules/generated/sklearn.linear_model.SGDRegressor.html) using the default parameters."
   ]
  },
  {
   "cell_type": "code",
   "execution_count": null,
   "id": "15d198ad-a601-4722-937b-3be52090c8d1",
   "metadata": {
    "colab": {
     "base_uri": "https://localhost:8080/"
    },
    "executionInfo": {
     "elapsed": 254,
     "status": "ok",
     "timestamp": 1664921059478,
     "user": {
      "displayName": "Eduardo Andres",
      "userId": "05872806371588886564"
     },
     "user_tz": 180
    },
    "id": "15d198ad-a601-4722-937b-3be52090c8d1",
    "outputId": "c53a2beb-6524-4f9d-ec71-b0930d27e9d1"
   },
   "outputs": [
    {
     "data": {
      "text/plain": [
       "3649252.6895293705"
      ]
     },
     "execution_count": 86,
     "metadata": {},
     "output_type": "execute_result"
    }
   ],
   "source": [
    "sgd_0 = SGDRegressor()\n",
    "sgd_0.fit(X_train[[\"PTS\"]], y_train)\n",
    "\n",
    "prediction = sgd_0.predict(X_test[[\"PTS\"]])\n",
    "default_mae = median_absolute_error(prediction, y_test)\n",
    "default_mae"
   ]
  },
  {
   "cell_type": "markdown",
   "id": "e87147d9-5b57-4984-9f0d-e595cd6d15d3",
   "metadata": {
    "id": "e87147d9-5b57-4984-9f0d-e595cd6d15d3"
   },
   "source": [
    "1.8. \n",
    "\n",
    "Write a function that tries different configurations of hyperparameters: epochs, alpha.\n",
    "\n",
    "|Theorical concept| symbol | sklearn symbol | Explanation |\n",
    "|   :---:    |   :---:    |   :---:   |   :---:   |\n",
    "|Learning rate|  alpha | eta0 | The initial eta rate for the ‘constant’, ‘invscaling’ or ‘adaptive’ schedules. Will be updated with different methods depending on 'learning_rate'|\n",
    "| Regularization | lambda | alpha | Will adjust the strength of the regularization term of the Loss function. Also used to update the eta when learning_rate is set to \"optimal\". The higher the value, the stronger the regularization. |\n",
    "| xxx | epochs | max_iter | The maximum number of passes over the training data (aka epochs). It only impacts the behavior in the fit method, and not the partial_fit method.|\n",
    "| xxx | epochs | learning_rate | The learning schedule. ‘constant’, ‘optimal’, ‘invscaling’ or ‘adaptive’ |\n",
    "\n",
    "The learning rate (eta) in the SGDRegressor sklearn implementation continually updates (except when 'learning_rate' is set to \"constant\")\n",
    "\n",
    "             \"\"\"\n",
    "              The learning rate schedule:\n",
    "\n",
    "             ‘constant’: eta = eta0\n",
    "             ‘optimal’: eta = 1.0 / (alpha * (t + t0)) where t0 is chosen by a heuristic proposed by Leon Bottou.\n",
    "             ‘invscaling’: eta = eta0 / pow(t, power_t)\n",
    "             ‘adaptive’: eta = eta0, as long as the training keeps decreasing. \n",
    "                          Each time n_iter_no_change consecutive epochs fail to decrease the training loss by tol or fail to increase validation score by tol if early_stopping is True, \n",
    "                          the current learning rate is divided by 5.\n",
    "             \"\"\"\n",
    "             loss='squared_error', \n",
    "             penalty='l2', \n",
    "             \n",
    "\n",
    "\n",
    "\n",
    "For each combination, evaluate the trained algorithm on the test set, then save the results of each hyperparameter combination, finally select the one that has the lowest mean absolute error and print the combination and the MAE."
   ]
  },
  {
   "cell_type": "code",
   "execution_count": null,
   "id": "9e1f26f4-1eb4-4ecc-bfc2-9d8583f00d0d",
   "metadata": {
    "id": "9e1f26f4-1eb4-4ecc-bfc2-9d8583f00d0d"
   },
   "outputs": [],
   "source": [
    "# We add some variables to the function so we can use it again on further exercises.\n",
    "\n",
    "def search_best_hyperparameters(max_iter, eta0, X_train, y_train, X_test, y_test):\n",
    "  provisional_results = pd.DataFrame(columns=[\"max_iter\", \"eta0\", \"mae\"])\n",
    "  for epochs in max_iter:\n",
    "    for eta in eta0:\n",
    "      sgd_0 = SGDRegressor(max_iter = epochs, eta0 = eta)\n",
    "      sgd_0.fit(X_train, y_train)\n",
    "      prediction = sgd_0.predict(X_test)\n",
    "      a = median_absolute_error(prediction, y_test)\n",
    "      result_0 = {\"max_iter\": epochs, \"eta0\": eta, \"mae\": a}\n",
    "      provisional_results = provisional_results.append(result_0, ignore_index=True)\n",
    "  desired_row = provisional_results.loc[provisional_results.mae == provisional_results.mae.min()].reset_index().iloc[0,1:].to_dict()\n",
    "  result = { \"hyperparameters\": {\"max_iter\": desired_row[\"max_iter\"], \"eta0\": desired_row[\"eta0\"]}, \n",
    "             \"mae\":  desired_row[\"mae\"]\n",
    "            }\n",
    "  return result"
   ]
  },
  {
   "cell_type": "code",
   "execution_count": null,
   "id": "hlXcLIJYJkFh",
   "metadata": {
    "colab": {
     "base_uri": "https://localhost:8080/"
    },
    "executionInfo": {
     "elapsed": 11876,
     "status": "ok",
     "timestamp": 1664921095273,
     "user": {
      "displayName": "Eduardo Andres",
      "userId": "05872806371588886564"
     },
     "user_tz": 180
    },
    "id": "hlXcLIJYJkFh",
    "outputId": "ce35351e-b8e6-49da-cbd2-dc44ba6ebdb0"
   },
   "outputs": [
    {
     "data": {
      "text/plain": [
       "{'hyperparameters': {'max_iter': 2000.0, 'eta0': 0.1},\n",
       " 'mae': 3488790.105074181}"
      ]
     },
     "execution_count": 88,
     "metadata": {},
     "output_type": "execute_result"
    }
   ],
   "source": [
    "max_iter = [1000, 2000, 5000, 1000000]\n",
    "eta0 = [0.0001, 0.001, 0.01, 0.1]\n",
    "\n",
    "result = search_best_hyperparameters(max_iter, eta0, X_train[[\"PTS\"]], y_train, X_test[[\"PTS\"]], y_test)\n",
    "result"
   ]
  },
  {
   "cell_type": "markdown",
   "id": "776e0c7a-d592-4479-aec6-870edff61def",
   "metadata": {
    "id": "776e0c7a-d592-4479-aec6-870edff61def"
   },
   "source": [
    "### Comparing results:"
   ]
  },
  {
   "cell_type": "code",
   "execution_count": null,
   "id": "2e520ef6-52ed-48dc-8450-03031f3a03a6",
   "metadata": {
    "colab": {
     "base_uri": "https://localhost:8080/"
    },
    "executionInfo": {
     "elapsed": 246,
     "status": "ok",
     "timestamp": 1664921153389,
     "user": {
      "displayName": "Eduardo Andres",
      "userId": "05872806371588886564"
     },
     "user_tz": 180
    },
    "id": "2e520ef6-52ed-48dc-8450-03031f3a03a6",
    "outputId": "5d8b3d80-6c58-4a57-887d-f83233327a2e"
   },
   "outputs": [
    {
     "name": "stdout",
     "output_type": "stream",
     "text": [
      "Mean Absolute Error for each model:\n",
      "Baseline: 6408963.279883383\n",
      "Default SGDRegressor: 3649252.6895293705\n",
      "Best SGDRegressor: 3488790.105074181\n"
     ]
    }
   ],
   "source": [
    "best_mae = result[\"mae\"]\n",
    "\n",
    "print(\"Mean Absolute Error for each model:\")\n",
    "print(f\"Baseline: {baseline_mae}\")\n",
    "print(f\"Default SGDRegressor: {default_mae}\")\n",
    "print(f\"Best SGDRegressor: {best_mae}\")"
   ]
  },
  {
   "cell_type": "markdown",
   "id": "247f4716-496a-4040-9519-77f7a6839691",
   "metadata": {
    "id": "247f4716-496a-4040-9519-77f7a6839691"
   },
   "source": [
    "### Multivariable Linear Regression\n",
    "\n",
    "We'll start with the following variables:\n",
    "\n",
    "- Points, Rebounds, Assists, Blocks\n",
    "- Experience, Position, Draft Number"
   ]
  },
  {
   "cell_type": "code",
   "execution_count": null,
   "id": "64b265b4-d4e5-40a6-a9c3-cce920ecaa1b",
   "metadata": {
    "colab": {
     "base_uri": "https://localhost:8080/",
     "height": 206
    },
    "executionInfo": {
     "elapsed": 423,
     "status": "ok",
     "timestamp": 1665754512440,
     "user": {
      "displayName": "Eduardo Andres",
      "userId": "05872806371588886564"
     },
     "user_tz": 180
    },
    "id": "64b265b4-d4e5-40a6-a9c3-cce920ecaa1b",
    "outputId": "59ff5106-4d97-46ce-d18a-9a2ccc036225"
   },
   "outputs": [
    {
     "data": {
      "text/html": [
       "\n",
       "  <div id=\"df-d326a644-b994-4725-a644-8199ba118ef4\">\n",
       "    <div class=\"colab-df-container\">\n",
       "      <div>\n",
       "<style scoped>\n",
       "    .dataframe tbody tr th:only-of-type {\n",
       "        vertical-align: middle;\n",
       "    }\n",
       "\n",
       "    .dataframe tbody tr th {\n",
       "        vertical-align: top;\n",
       "    }\n",
       "\n",
       "    .dataframe thead th {\n",
       "        text-align: right;\n",
       "    }\n",
       "</style>\n",
       "<table border=\"1\" class=\"dataframe\">\n",
       "  <thead>\n",
       "    <tr style=\"text-align: right;\">\n",
       "      <th></th>\n",
       "      <th>PTS</th>\n",
       "      <th>REB</th>\n",
       "      <th>AST</th>\n",
       "      <th>BLK</th>\n",
       "      <th>SEASON_EXP</th>\n",
       "      <th>POSITION</th>\n",
       "      <th>DRAFT_NUMBER</th>\n",
       "      <th>SALARY</th>\n",
       "    </tr>\n",
       "  </thead>\n",
       "  <tbody>\n",
       "    <tr>\n",
       "      <th>0</th>\n",
       "      <td>7.2</td>\n",
       "      <td>5.1</td>\n",
       "      <td>0.8</td>\n",
       "      <td>0.5</td>\n",
       "      <td>2</td>\n",
       "      <td>Forward</td>\n",
       "      <td>20.0</td>\n",
       "      <td>2711280</td>\n",
       "    </tr>\n",
       "    <tr>\n",
       "      <th>1</th>\n",
       "      <td>9.3</td>\n",
       "      <td>8.0</td>\n",
       "      <td>1.5</td>\n",
       "      <td>0.9</td>\n",
       "      <td>9</td>\n",
       "      <td>Center</td>\n",
       "      <td>12.0</td>\n",
       "      <td>17073171</td>\n",
       "    </tr>\n",
       "    <tr>\n",
       "      <th>2</th>\n",
       "      <td>13.5</td>\n",
       "      <td>8.3</td>\n",
       "      <td>3.5</td>\n",
       "      <td>0.9</td>\n",
       "      <td>5</td>\n",
       "      <td>Center</td>\n",
       "      <td>14.0</td>\n",
       "      <td>28103550</td>\n",
       "    </tr>\n",
       "    <tr>\n",
       "      <th>3</th>\n",
       "      <td>4.1</td>\n",
       "      <td>2.7</td>\n",
       "      <td>0.7</td>\n",
       "      <td>0.3</td>\n",
       "      <td>1</td>\n",
       "      <td>Forward</td>\n",
       "      <td>30.0</td>\n",
       "      <td>1994520</td>\n",
       "    </tr>\n",
       "    <tr>\n",
       "      <th>4</th>\n",
       "      <td>19.1</td>\n",
       "      <td>8.1</td>\n",
       "      <td>1.9</td>\n",
       "      <td>1.1</td>\n",
       "      <td>16</td>\n",
       "      <td>Center</td>\n",
       "      <td>2.0</td>\n",
       "      <td>2641691</td>\n",
       "    </tr>\n",
       "  </tbody>\n",
       "</table>\n",
       "</div>\n",
       "      <button class=\"colab-df-convert\" onclick=\"convertToInteractive('df-d326a644-b994-4725-a644-8199ba118ef4')\"\n",
       "              title=\"Convert this dataframe to an interactive table.\"\n",
       "              style=\"display:none;\">\n",
       "        \n",
       "  <svg xmlns=\"http://www.w3.org/2000/svg\" height=\"24px\"viewBox=\"0 0 24 24\"\n",
       "       width=\"24px\">\n",
       "    <path d=\"M0 0h24v24H0V0z\" fill=\"none\"/>\n",
       "    <path d=\"M18.56 5.44l.94 2.06.94-2.06 2.06-.94-2.06-.94-.94-2.06-.94 2.06-2.06.94zm-11 1L8.5 8.5l.94-2.06 2.06-.94-2.06-.94L8.5 2.5l-.94 2.06-2.06.94zm10 10l.94 2.06.94-2.06 2.06-.94-2.06-.94-.94-2.06-.94 2.06-2.06.94z\"/><path d=\"M17.41 7.96l-1.37-1.37c-.4-.4-.92-.59-1.43-.59-.52 0-1.04.2-1.43.59L10.3 9.45l-7.72 7.72c-.78.78-.78 2.05 0 2.83L4 21.41c.39.39.9.59 1.41.59.51 0 1.02-.2 1.41-.59l7.78-7.78 2.81-2.81c.8-.78.8-2.07 0-2.86zM5.41 20L4 18.59l7.72-7.72 1.47 1.35L5.41 20z\"/>\n",
       "  </svg>\n",
       "      </button>\n",
       "      \n",
       "  <style>\n",
       "    .colab-df-container {\n",
       "      display:flex;\n",
       "      flex-wrap:wrap;\n",
       "      gap: 12px;\n",
       "    }\n",
       "\n",
       "    .colab-df-convert {\n",
       "      background-color: #E8F0FE;\n",
       "      border: none;\n",
       "      border-radius: 50%;\n",
       "      cursor: pointer;\n",
       "      display: none;\n",
       "      fill: #1967D2;\n",
       "      height: 32px;\n",
       "      padding: 0 0 0 0;\n",
       "      width: 32px;\n",
       "    }\n",
       "\n",
       "    .colab-df-convert:hover {\n",
       "      background-color: #E2EBFA;\n",
       "      box-shadow: 0px 1px 2px rgba(60, 64, 67, 0.3), 0px 1px 3px 1px rgba(60, 64, 67, 0.15);\n",
       "      fill: #174EA6;\n",
       "    }\n",
       "\n",
       "    [theme=dark] .colab-df-convert {\n",
       "      background-color: #3B4455;\n",
       "      fill: #D2E3FC;\n",
       "    }\n",
       "\n",
       "    [theme=dark] .colab-df-convert:hover {\n",
       "      background-color: #434B5C;\n",
       "      box-shadow: 0px 1px 3px 1px rgba(0, 0, 0, 0.15);\n",
       "      filter: drop-shadow(0px 1px 2px rgba(0, 0, 0, 0.3));\n",
       "      fill: #FFFFFF;\n",
       "    }\n",
       "  </style>\n",
       "\n",
       "      <script>\n",
       "        const buttonEl =\n",
       "          document.querySelector('#df-d326a644-b994-4725-a644-8199ba118ef4 button.colab-df-convert');\n",
       "        buttonEl.style.display =\n",
       "          google.colab.kernel.accessAllowed ? 'block' : 'none';\n",
       "\n",
       "        async function convertToInteractive(key) {\n",
       "          const element = document.querySelector('#df-d326a644-b994-4725-a644-8199ba118ef4');\n",
       "          const dataTable =\n",
       "            await google.colab.kernel.invokeFunction('convertToInteractive',\n",
       "                                                     [key], {});\n",
       "          if (!dataTable) return;\n",
       "\n",
       "          const docLinkHtml = 'Like what you see? Visit the ' +\n",
       "            '<a target=\"_blank\" href=https://colab.research.google.com/notebooks/data_table.ipynb>data table notebook</a>'\n",
       "            + ' to learn more about interactive tables.';\n",
       "          element.innerHTML = '';\n",
       "          dataTable['output_type'] = 'display_data';\n",
       "          await google.colab.output.renderOutput(dataTable, element);\n",
       "          const docLink = document.createElement('div');\n",
       "          docLink.innerHTML = docLinkHtml;\n",
       "          element.appendChild(docLink);\n",
       "        }\n",
       "      </script>\n",
       "    </div>\n",
       "  </div>\n",
       "  "
      ],
      "text/plain": [
       "   PTS  REB  AST  BLK  SEASON_EXP POSITION  DRAFT_NUMBER    SALARY\n",
       "0  7.2  5.1  0.8  0.5           2  Forward          20.0   2711280\n",
       "1  9.3  8.0  1.5  0.9           9   Center          12.0  17073171\n",
       "2 13.5  8.3  3.5  0.9           5   Center          14.0  28103550\n",
       "3  4.1  2.7  0.7  0.3           1  Forward          30.0   1994520\n",
       "4 19.1  8.1  1.9  1.1          16   Center           2.0   2641691"
      ]
     },
     "execution_count": 12,
     "metadata": {},
     "output_type": "execute_result"
    }
   ],
   "source": [
    "mv_regression_df = pd.read_csv(path+\"nba_players_processed_dataset.csv\", index_col = \"Unnamed: 0\")\n",
    "mv_regression_df = mv_regression_df[[\"PTS\", \"REB\", \"AST\", \"BLK\", \"SEASON_EXP\", \"POSITION\", \"DRAFT_NUMBER\", \"SALARY\"]]\n",
    "\n",
    "pd.set_option('display.float_format', lambda x: '%.1f' % x)\n",
    "mv_regression_df.head()"
   ]
  },
  {
   "cell_type": "code",
   "execution_count": null,
   "id": "-zLEO0vtutqt",
   "metadata": {
    "id": "-zLEO0vtutqt"
   },
   "outputs": [],
   "source": [
    "# 1.11  We do not use draft_lot, but pandas cut instead\n",
    "def draft_lot(x):\n",
    "  if x < 16:\n",
    "    return \"firstround_lottery\"\n",
    "  elif x < 31:\n",
    "    return \"firstround_non_lottery\"\n",
    "  elif x < 61:\n",
    "    return \"second_round\"\n",
    "  else:\n",
    "    # Another way to handle the NaNs, is :\n",
    "    # if type(x) == None    \n",
    "    return \"undrafted\"\n",
    "mv_regression_df[\"DRAFT\"] = mv_regression_df[\"DRAFT_NUMBER\"].apply(draft_lot) \n",
    "\n",
    "#mv_regression_df[\"DRAFT\"] = pd.cut(mv_regression_df[\"DRAFT_NUMBER\"], bins= [0, 15, 30, 60], labels = [\"firstround_lottery\", \"firstround_non_lottery\", \"second_round\"]) \n",
    "#mv_regression_df[\"DRAFT\"] = mv_regression_df[\"DRAFT\"].cat.add_categories(\"undrafted\").fillna(\"undrafted\")\n",
    "\n",
    "mv_regression_df = mv_regression_df.drop(\"DRAFT_NUMBER\", axis=1)\n",
    "\n",
    "enc = OneHotEncoder(sparse = False, drop='first')\n",
    "transformed_data = enc.fit_transform(mv_regression_df[[\"DRAFT\"]])"
   ]
  },
  {
   "cell_type": "code",
   "execution_count": null,
   "id": "jPMeoI1JvVp3",
   "metadata": {
    "id": "jPMeoI1JvVp3"
   },
   "outputs": [],
   "source": [
    "encoded_data = pd.DataFrame(transformed_data, index=mv_regression_df.index, columns = enc.get_feature_names_out())"
   ]
  },
  {
   "cell_type": "code",
   "execution_count": null,
   "id": "HwXVelc2vSmo",
   "metadata": {
    "id": "HwXVelc2vSmo"
   },
   "outputs": [],
   "source": [
    "mv_regression_df = pd.concat([mv_regression_df, encoded_data], axis=1)"
   ]
  },
  {
   "cell_type": "code",
   "execution_count": null,
   "id": "S5QRQnJWu4v0",
   "metadata": {
    "colab": {
     "base_uri": "https://localhost:8080/",
     "height": 424
    },
    "executionInfo": {
     "elapsed": 6,
     "status": "ok",
     "timestamp": 1665754567140,
     "user": {
      "displayName": "Eduardo Andres",
      "userId": "05872806371588886564"
     },
     "user_tz": 180
    },
    "id": "S5QRQnJWu4v0",
    "outputId": "9e270765-18bb-49fc-f990-8beff021b6e3"
   },
   "outputs": [
    {
     "data": {
      "text/html": [
       "\n",
       "  <div id=\"df-610604f8-d9b3-414f-8b2e-2f7c88634e0d\">\n",
       "    <div class=\"colab-df-container\">\n",
       "      <div>\n",
       "<style scoped>\n",
       "    .dataframe tbody tr th:only-of-type {\n",
       "        vertical-align: middle;\n",
       "    }\n",
       "\n",
       "    .dataframe tbody tr th {\n",
       "        vertical-align: top;\n",
       "    }\n",
       "\n",
       "    .dataframe thead th {\n",
       "        text-align: right;\n",
       "    }\n",
       "</style>\n",
       "<table border=\"1\" class=\"dataframe\">\n",
       "  <thead>\n",
       "    <tr style=\"text-align: right;\">\n",
       "      <th></th>\n",
       "      <th>PTS</th>\n",
       "      <th>REB</th>\n",
       "      <th>AST</th>\n",
       "      <th>BLK</th>\n",
       "      <th>SEASON_EXP</th>\n",
       "      <th>POSITION</th>\n",
       "      <th>SALARY</th>\n",
       "      <th>DRAFT</th>\n",
       "      <th>DRAFT_firstround_non_lottery</th>\n",
       "      <th>DRAFT_second_round</th>\n",
       "      <th>DRAFT_undrafted</th>\n",
       "    </tr>\n",
       "  </thead>\n",
       "  <tbody>\n",
       "    <tr>\n",
       "      <th>0</th>\n",
       "      <td>7.2</td>\n",
       "      <td>5.1</td>\n",
       "      <td>0.8</td>\n",
       "      <td>0.5</td>\n",
       "      <td>2</td>\n",
       "      <td>Forward</td>\n",
       "      <td>2711280</td>\n",
       "      <td>firstround_non_lottery</td>\n",
       "      <td>1.0</td>\n",
       "      <td>0.0</td>\n",
       "      <td>0.0</td>\n",
       "    </tr>\n",
       "    <tr>\n",
       "      <th>1</th>\n",
       "      <td>9.3</td>\n",
       "      <td>8.0</td>\n",
       "      <td>1.5</td>\n",
       "      <td>0.9</td>\n",
       "      <td>9</td>\n",
       "      <td>Center</td>\n",
       "      <td>17073171</td>\n",
       "      <td>firstround_lottery</td>\n",
       "      <td>0.0</td>\n",
       "      <td>0.0</td>\n",
       "      <td>0.0</td>\n",
       "    </tr>\n",
       "    <tr>\n",
       "      <th>2</th>\n",
       "      <td>13.5</td>\n",
       "      <td>8.3</td>\n",
       "      <td>3.5</td>\n",
       "      <td>0.9</td>\n",
       "      <td>5</td>\n",
       "      <td>Center</td>\n",
       "      <td>28103550</td>\n",
       "      <td>firstround_lottery</td>\n",
       "      <td>0.0</td>\n",
       "      <td>0.0</td>\n",
       "      <td>0.0</td>\n",
       "    </tr>\n",
       "    <tr>\n",
       "      <th>3</th>\n",
       "      <td>4.1</td>\n",
       "      <td>2.7</td>\n",
       "      <td>0.7</td>\n",
       "      <td>0.3</td>\n",
       "      <td>1</td>\n",
       "      <td>Forward</td>\n",
       "      <td>1994520</td>\n",
       "      <td>firstround_non_lottery</td>\n",
       "      <td>1.0</td>\n",
       "      <td>0.0</td>\n",
       "      <td>0.0</td>\n",
       "    </tr>\n",
       "    <tr>\n",
       "      <th>4</th>\n",
       "      <td>19.1</td>\n",
       "      <td>8.1</td>\n",
       "      <td>1.9</td>\n",
       "      <td>1.1</td>\n",
       "      <td>16</td>\n",
       "      <td>Center</td>\n",
       "      <td>2641691</td>\n",
       "      <td>firstround_lottery</td>\n",
       "      <td>0.0</td>\n",
       "      <td>0.0</td>\n",
       "      <td>0.0</td>\n",
       "    </tr>\n",
       "    <tr>\n",
       "      <th>...</th>\n",
       "      <td>...</td>\n",
       "      <td>...</td>\n",
       "      <td>...</td>\n",
       "      <td>...</td>\n",
       "      <td>...</td>\n",
       "      <td>...</td>\n",
       "      <td>...</td>\n",
       "      <td>...</td>\n",
       "      <td>...</td>\n",
       "      <td>...</td>\n",
       "      <td>...</td>\n",
       "    </tr>\n",
       "    <tr>\n",
       "      <th>495</th>\n",
       "      <td>7.2</td>\n",
       "      <td>3.2</td>\n",
       "      <td>3.0</td>\n",
       "      <td>0.4</td>\n",
       "      <td>7</td>\n",
       "      <td>Guard</td>\n",
       "      <td>8526316</td>\n",
       "      <td>firstround_non_lottery</td>\n",
       "      <td>1.0</td>\n",
       "      <td>0.0</td>\n",
       "      <td>0.0</td>\n",
       "    </tr>\n",
       "    <tr>\n",
       "      <th>499</th>\n",
       "      <td>12.8</td>\n",
       "      <td>5.8</td>\n",
       "      <td>1.8</td>\n",
       "      <td>0.4</td>\n",
       "      <td>15</td>\n",
       "      <td>Forward</td>\n",
       "      <td>14190000</td>\n",
       "      <td>firstround_lottery</td>\n",
       "      <td>0.0</td>\n",
       "      <td>0.0</td>\n",
       "      <td>0.0</td>\n",
       "    </tr>\n",
       "    <tr>\n",
       "      <th>500</th>\n",
       "      <td>25.3</td>\n",
       "      <td>3.9</td>\n",
       "      <td>9.1</td>\n",
       "      <td>0.2</td>\n",
       "      <td>4</td>\n",
       "      <td>Guard</td>\n",
       "      <td>8326471</td>\n",
       "      <td>firstround_lottery</td>\n",
       "      <td>0.0</td>\n",
       "      <td>0.0</td>\n",
       "      <td>0.0</td>\n",
       "    </tr>\n",
       "    <tr>\n",
       "      <th>501</th>\n",
       "      <td>5.3</td>\n",
       "      <td>5.2</td>\n",
       "      <td>0.9</td>\n",
       "      <td>0.4</td>\n",
       "      <td>1</td>\n",
       "      <td>Center</td>\n",
       "      <td>1489065</td>\n",
       "      <td>undrafted</td>\n",
       "      <td>0.0</td>\n",
       "      <td>0.0</td>\n",
       "      <td>1.0</td>\n",
       "    </tr>\n",
       "    <tr>\n",
       "      <th>502</th>\n",
       "      <td>8.3</td>\n",
       "      <td>6.5</td>\n",
       "      <td>1.1</td>\n",
       "      <td>0.8</td>\n",
       "      <td>6</td>\n",
       "      <td>Center</td>\n",
       "      <td>7518518</td>\n",
       "      <td>second_round</td>\n",
       "      <td>0.0</td>\n",
       "      <td>1.0</td>\n",
       "      <td>0.0</td>\n",
       "    </tr>\n",
       "  </tbody>\n",
       "</table>\n",
       "<p>433 rows × 11 columns</p>\n",
       "</div>\n",
       "      <button class=\"colab-df-convert\" onclick=\"convertToInteractive('df-610604f8-d9b3-414f-8b2e-2f7c88634e0d')\"\n",
       "              title=\"Convert this dataframe to an interactive table.\"\n",
       "              style=\"display:none;\">\n",
       "        \n",
       "  <svg xmlns=\"http://www.w3.org/2000/svg\" height=\"24px\"viewBox=\"0 0 24 24\"\n",
       "       width=\"24px\">\n",
       "    <path d=\"M0 0h24v24H0V0z\" fill=\"none\"/>\n",
       "    <path d=\"M18.56 5.44l.94 2.06.94-2.06 2.06-.94-2.06-.94-.94-2.06-.94 2.06-2.06.94zm-11 1L8.5 8.5l.94-2.06 2.06-.94-2.06-.94L8.5 2.5l-.94 2.06-2.06.94zm10 10l.94 2.06.94-2.06 2.06-.94-2.06-.94-.94-2.06-.94 2.06-2.06.94z\"/><path d=\"M17.41 7.96l-1.37-1.37c-.4-.4-.92-.59-1.43-.59-.52 0-1.04.2-1.43.59L10.3 9.45l-7.72 7.72c-.78.78-.78 2.05 0 2.83L4 21.41c.39.39.9.59 1.41.59.51 0 1.02-.2 1.41-.59l7.78-7.78 2.81-2.81c.8-.78.8-2.07 0-2.86zM5.41 20L4 18.59l7.72-7.72 1.47 1.35L5.41 20z\"/>\n",
       "  </svg>\n",
       "      </button>\n",
       "      \n",
       "  <style>\n",
       "    .colab-df-container {\n",
       "      display:flex;\n",
       "      flex-wrap:wrap;\n",
       "      gap: 12px;\n",
       "    }\n",
       "\n",
       "    .colab-df-convert {\n",
       "      background-color: #E8F0FE;\n",
       "      border: none;\n",
       "      border-radius: 50%;\n",
       "      cursor: pointer;\n",
       "      display: none;\n",
       "      fill: #1967D2;\n",
       "      height: 32px;\n",
       "      padding: 0 0 0 0;\n",
       "      width: 32px;\n",
       "    }\n",
       "\n",
       "    .colab-df-convert:hover {\n",
       "      background-color: #E2EBFA;\n",
       "      box-shadow: 0px 1px 2px rgba(60, 64, 67, 0.3), 0px 1px 3px 1px rgba(60, 64, 67, 0.15);\n",
       "      fill: #174EA6;\n",
       "    }\n",
       "\n",
       "    [theme=dark] .colab-df-convert {\n",
       "      background-color: #3B4455;\n",
       "      fill: #D2E3FC;\n",
       "    }\n",
       "\n",
       "    [theme=dark] .colab-df-convert:hover {\n",
       "      background-color: #434B5C;\n",
       "      box-shadow: 0px 1px 3px 1px rgba(0, 0, 0, 0.15);\n",
       "      filter: drop-shadow(0px 1px 2px rgba(0, 0, 0, 0.3));\n",
       "      fill: #FFFFFF;\n",
       "    }\n",
       "  </style>\n",
       "\n",
       "      <script>\n",
       "        const buttonEl =\n",
       "          document.querySelector('#df-610604f8-d9b3-414f-8b2e-2f7c88634e0d button.colab-df-convert');\n",
       "        buttonEl.style.display =\n",
       "          google.colab.kernel.accessAllowed ? 'block' : 'none';\n",
       "\n",
       "        async function convertToInteractive(key) {\n",
       "          const element = document.querySelector('#df-610604f8-d9b3-414f-8b2e-2f7c88634e0d');\n",
       "          const dataTable =\n",
       "            await google.colab.kernel.invokeFunction('convertToInteractive',\n",
       "                                                     [key], {});\n",
       "          if (!dataTable) return;\n",
       "\n",
       "          const docLinkHtml = 'Like what you see? Visit the ' +\n",
       "            '<a target=\"_blank\" href=https://colab.research.google.com/notebooks/data_table.ipynb>data table notebook</a>'\n",
       "            + ' to learn more about interactive tables.';\n",
       "          element.innerHTML = '';\n",
       "          dataTable['output_type'] = 'display_data';\n",
       "          await google.colab.output.renderOutput(dataTable, element);\n",
       "          const docLink = document.createElement('div');\n",
       "          docLink.innerHTML = docLinkHtml;\n",
       "          element.appendChild(docLink);\n",
       "        }\n",
       "      </script>\n",
       "    </div>\n",
       "  </div>\n",
       "  "
      ],
      "text/plain": [
       "     PTS  REB  AST  BLK  SEASON_EXP POSITION    SALARY  \\\n",
       "0    7.2  5.1  0.8  0.5           2  Forward   2711280   \n",
       "1    9.3  8.0  1.5  0.9           9   Center  17073171   \n",
       "2   13.5  8.3  3.5  0.9           5   Center  28103550   \n",
       "3    4.1  2.7  0.7  0.3           1  Forward   1994520   \n",
       "4   19.1  8.1  1.9  1.1          16   Center   2641691   \n",
       "..   ...  ...  ...  ...         ...      ...       ...   \n",
       "495  7.2  3.2  3.0  0.4           7    Guard   8526316   \n",
       "499 12.8  5.8  1.8  0.4          15  Forward  14190000   \n",
       "500 25.3  3.9  9.1  0.2           4    Guard   8326471   \n",
       "501  5.3  5.2  0.9  0.4           1   Center   1489065   \n",
       "502  8.3  6.5  1.1  0.8           6   Center   7518518   \n",
       "\n",
       "                      DRAFT  DRAFT_firstround_non_lottery  DRAFT_second_round  \\\n",
       "0    firstround_non_lottery                           1.0                 0.0   \n",
       "1        firstround_lottery                           0.0                 0.0   \n",
       "2        firstround_lottery                           0.0                 0.0   \n",
       "3    firstround_non_lottery                           1.0                 0.0   \n",
       "4        firstround_lottery                           0.0                 0.0   \n",
       "..                      ...                           ...                 ...   \n",
       "495  firstround_non_lottery                           1.0                 0.0   \n",
       "499      firstround_lottery                           0.0                 0.0   \n",
       "500      firstround_lottery                           0.0                 0.0   \n",
       "501               undrafted                           0.0                 0.0   \n",
       "502            second_round                           0.0                 1.0   \n",
       "\n",
       "     DRAFT_undrafted  \n",
       "0                0.0  \n",
       "1                0.0  \n",
       "2                0.0  \n",
       "3                0.0  \n",
       "4                0.0  \n",
       "..               ...  \n",
       "495              0.0  \n",
       "499              0.0  \n",
       "500              0.0  \n",
       "501              1.0  \n",
       "502              0.0  \n",
       "\n",
       "[433 rows x 11 columns]"
      ]
     },
     "execution_count": 17,
     "metadata": {},
     "output_type": "execute_result"
    }
   ],
   "source": [
    "mv_regression_df"
   ]
  },
  {
   "cell_type": "code",
   "execution_count": null,
   "id": "ebTHlZ2GK81w",
   "metadata": {
    "id": "ebTHlZ2GK81w"
   },
   "outputs": [],
   "source": [
    "# 1.11  We do not use draft_lot, but pandas cut instead\n",
    "def draft_lot(x):\n",
    "  if x < 16:\n",
    "    return \"firstround_lottery\"\n",
    "  elif x < 31:\n",
    "    return \"firstround_non_lottery\"\n",
    "  elif x < 61:\n",
    "    return \"second_round\"\n",
    "  else:\n",
    "    # Another way to handle the NaNs, is :\n",
    "    # if type(x) == None    \n",
    "    return \"undrafted\"\n",
    "mv_regression_df[\"DRAFT\"] = mv_regression_df[\"DRAFT_NUMBER\"].apply(draft_lot) \n",
    "\n",
    "#mv_regression_df[\"DRAFT\"] = pd.cut(mv_regression_df[\"DRAFT_NUMBER\"], bins= [0, 15, 30, 60], labels = [\"firstround_lottery\", \"firstround_non_lottery\", \"second_round\"]) \n",
    "#mv_regression_df[\"DRAFT\"] = mv_regression_df[\"DRAFT\"].cat.add_categories(\"undrafted\").fillna(\"undrafted\")\n",
    "\n",
    "mv_regression_df = mv_regression_df.drop(\"DRAFT_NUMBER\", axis=1)\n",
    "\n",
    "# 1.12\n",
    "enc = OneHotEncoder(sparse = False)#, drop='first')\n",
    "transformed_data = enc.fit_transform(mv_regression_df[[\"DRAFT\"]])\n",
    "encoded_data = pd.DataFrame(transformed_data, index=mv_regression_df.index, columns = enc.get_feature_names_out())\n",
    "mv_regression_df = pd.concat([mv_regression_df, encoded_data], axis=1)\n",
    "\n",
    "enc = OneHotEncoder(sparse = False)#, drop='first')\n",
    "transformed_data = enc.fit_transform(mv_regression_df[[\"POSITION\"]])\n",
    "encoded_data = pd.DataFrame(transformed_data, index=mv_regression_df.index, columns = enc.get_feature_names_out())\n",
    "mv_regression_df = pd.concat([mv_regression_df, encoded_data], axis=1)\n",
    "\n",
    "\n",
    "# 1.13\n",
    "# At the same time that we separate into features and labels, we drop the already encoded categorical columns.\n",
    "X = mv_regression_df.drop([\"SALARY\", \"DRAFT\", \"POSITION\"], axis=1)\n",
    "y = mv_regression_df.SALARY\n",
    "X_train, X_test, y_train, y_test = train_test_split( X, y, test_size=0.2,\n",
    "                                                           random_state=18,\n",
    "                                                           shuffle=True\n",
    "                                                    )\n",
    "\n",
    "# 1.14\n",
    "\n",
    "cols_to_scale = [\"PTS\", \"REB\", \"AST\", \"BLK\", \"SEASON_EXP\"]\n",
    "\n",
    "mm_scaler = MinMaxScaler()\n",
    "mm_scaler.fit(X_train[cols_to_scale])\n",
    "\n",
    "X_train[cols_to_scale] = mm_scaler.transform(X_train[cols_to_scale])\n",
    "X_test[cols_to_scale] = mm_scaler.transform(X_test[cols_to_scale])"
   ]
  },
  {
   "cell_type": "code",
   "execution_count": null,
   "id": "aaP2kfc4bZ43",
   "metadata": {
    "id": "aaP2kfc4bZ43"
   },
   "outputs": [],
   "source": [
    "#cols_to_scale = [\"PTS\", \"REB\", \"AST\", \"BLK\", \"SEASON_EXP\"]\n",
    "\n",
    "#mm_scaler = MinMaxScaler()\n",
    "#mm_scaler.fit(X_train[cols_to_scale].values.reshape(-1, len(cols_to_scale)))\n",
    "\n",
    "#X_train[cols_to_scale] = mm_scaler.transform(X_train[cols_to_scale].values.reshape(-1, len(cols_to_scale)))\n",
    "#X_test[cols_to_scale] = mm_scaler.transform(X_test[cols_to_scale].values.reshape(-1, len(cols_to_scale)))"
   ]
  },
  {
   "cell_type": "markdown",
   "id": "O_hN_VyuQhxt",
   "metadata": {
    "id": "O_hN_VyuQhxt"
   },
   "source": [
    "*Don't change anything in this cell, just make it run correctly*"
   ]
  },
  {
   "cell_type": "markdown",
   "id": "7790c25a-b516-4e3f-b311-6e5b026bfb80",
   "metadata": {
    "id": "7790c25a-b516-4e3f-b311-6e5b026bfb80"
   },
   "source": [
    "1.15. Write a function to train a SGDRegressor model with the new dataset, trying different hyperparameters, and selecting the one that performs the best.\n",
    "\n",
    "We can just use the function from Exercise 1.8"
   ]
  },
  {
   "cell_type": "code",
   "execution_count": null,
   "id": "2YywXt4BJBbV",
   "metadata": {
    "colab": {
     "base_uri": "https://localhost:8080/"
    },
    "executionInfo": {
     "elapsed": 48459,
     "status": "ok",
     "timestamp": 1664995230581,
     "user": {
      "displayName": "Eduardo Andres",
      "userId": "05872806371588886564"
     },
     "user_tz": 180
    },
    "id": "2YywXt4BJBbV",
    "outputId": "3cf19170-5cac-4413-950c-e51cb90650f9"
   },
   "outputs": [
    {
     "data": {
      "text/plain": [
       "{'hyperparameters': {'max_iter': 1000.0, 'eta0': 0.001},\n",
       " 'mae': 3057982.3670477}"
      ]
     },
     "execution_count": 309,
     "metadata": {},
     "output_type": "execute_result"
    }
   ],
   "source": [
    "max_iter = [1000, 2000, 5000, 1000000]\n",
    "eta0 = [0.0001, 0.001, 0.01, 0.1]\n",
    "\n",
    "result_multivariable = search_best_hyperparameters(max_iter, eta0, X_train, y_train, X_test, y_test)\n",
    "best_multivariate_mae_sgd = result_multivariable[\"mae\"]\n",
    "\n",
    "result_multivariable"
   ]
  },
  {
   "cell_type": "code",
   "execution_count": null,
   "id": "1n8450TStYxy",
   "metadata": {
    "colab": {
     "base_uri": "https://localhost:8080/"
    },
    "executionInfo": {
     "elapsed": 263,
     "status": "ok",
     "timestamp": 1664921257690,
     "user": {
      "displayName": "Eduardo Andres",
      "userId": "05872806371588886564"
     },
     "user_tz": 180
    },
    "id": "1n8450TStYxy",
    "outputId": "8478c164-6df8-41a2-8a63-bf4b79ed8562"
   },
   "outputs": [
    {
     "name": "stdout",
     "output_type": "stream",
     "text": [
      "Mean Absolute Error for each model:\n",
      "Baseline: 6408963.279883383\n",
      "Default SGDRegressor: 3649252.6895293705\n",
      "Best SGDRegressor: 3488790.105074181\n",
      "Best multivariate SGDRegressor: 3057132.770064302\n"
     ]
    }
   ],
   "source": [
    "print(\"Mean Absolute Error for each model:\")\n",
    "print(f\"Baseline: {baseline_mae}\")\n",
    "print(f\"Default SGDRegressor: {default_mae}\")\n",
    "print(f\"Best SGDRegressor: {best_mae}\")\n",
    "print(f\"Best multivariate SGDRegressor: {best_multivariate_mae_sgd}\")"
   ]
  },
  {
   "cell_type": "markdown",
   "id": "33d63bc7-448d-40a6-a314-6602c75e2284",
   "metadata": {
    "id": "33d63bc7-448d-40a6-a314-6602c75e2284"
   },
   "source": [
    "1.16. How did the model performed compared to our univariate models? \n",
    "\n",
    "Better, lower MAE, 20% better"
   ]
  },
  {
   "cell_type": "markdown",
   "id": "61930247-d4b0-4bdf-ad98-a421457e2c4a",
   "metadata": {
    "id": "61930247-d4b0-4bdf-ad98-a421457e2c4a"
   },
   "source": [
    "### DecisionTreeRegressor\n",
    "\n",
    "Trying different configuration for the following regularization hyperparameters:\n",
    "\n",
    "- max_depth\n",
    "- min_samples_leaf\n",
    "- max_features"
   ]
  },
  {
   "cell_type": "code",
   "execution_count": null,
   "id": "tzrglwQxwYbe",
   "metadata": {
    "colab": {
     "base_uri": "https://localhost:8080/"
    },
    "executionInfo": {
     "elapsed": 662,
     "status": "ok",
     "timestamp": 1665755942605,
     "user": {
      "displayName": "Eduardo Andres",
      "userId": "05872806371588886564"
     },
     "user_tz": 180
    },
    "id": "tzrglwQxwYbe",
    "outputId": "f6096aaa-abf5-4eda-9da2-b202a44e8547"
   },
   "outputs": [
    {
     "data": {
      "text/plain": [
       "{'hyperparameters': {'max_depth': 18,\n",
       "  'max_features': 10,\n",
       "  'min_samples_leaf': 10},\n",
       " 'mae': 3437870.629058694}"
      ]
     },
     "execution_count": 23,
     "metadata": {},
     "output_type": "execute_result"
    }
   ],
   "source": [
    "def search_best_hyperparameters(max_depth, min_samples_leaf, max_features, X_train, y_train, X_test, y_test):\n",
    "  result =  {\"max_depth\": None, \"min_samples_leaf\": None,  \"max_features\":None, \"mae\": np.Infinity}\n",
    "  for v1 in max_depth:\n",
    "    for v2 in min_samples_leaf:\n",
    "      for v3 in max_features:\n",
    "        arbol = DecisionTreeRegressor(max_depth = v1, min_samples_leaf = v2, max_features=v3)\n",
    "        arbol.fit(X_train, y_train)\n",
    "        prediction = arbol.predict(X_test)\n",
    "\n",
    "        if mean_absolute_error(prediction, y_test) < result[\"mae\"]:\n",
    "          result = {\"max_depth\": v1, \"min_samples_leaf\": v2,  \"max_features\":v3, \"mae\": mean_absolute_error(prediction, y_test)}\n",
    "  result = { \"hyperparameters\": {\"max_depth\": result[\"max_depth\"], \"max_features\": result[\"max_features\"], \"min_samples_leaf\": result[\"min_samples_leaf\"]}, \n",
    "             \"mae\":  result[\"mae\"]\n",
    "            }\n",
    "  return result\n",
    "\n",
    "# List of hyperparameter example values\n",
    "max_depth = [5, 10, 15, 17, 18, 20]\n",
    "min_samples_leaf = [2, 10, 20, 50]\n",
    "max_features = [5, 10]\n",
    "\n",
    "result_tree = search_best_hyperparameters(max_depth, min_samples_leaf, max_features, X_train, y_train, X_test, y_test)\n",
    "result_tree"
   ]
  },
  {
   "cell_type": "code",
   "execution_count": null,
   "id": "k411xXDtR9ed",
   "metadata": {
    "colab": {
     "base_uri": "https://localhost:8080/"
    },
    "executionInfo": {
     "elapsed": 1036,
     "status": "ok",
     "timestamp": 1664922686745,
     "user": {
      "displayName": "Eduardo Andres",
      "userId": "05872806371588886564"
     },
     "user_tz": 180
    },
    "id": "k411xXDtR9ed",
    "outputId": "f05a2f2a-22b5-4eab-e37b-2a79e0e19204"
   },
   "outputs": [
    {
     "data": {
      "text/plain": [
       "{'hyperparameters': {'max_depth': 18.0,\n",
       "  'max_features': 10.0,\n",
       "  'min_samples_leaf': 2.0},\n",
       " 'mae': 895287.3333333334}"
      ]
     },
     "execution_count": 100,
     "metadata": {},
     "output_type": "execute_result"
    }
   ],
   "source": [
    "def search_best_hyperparameters(max_depth, min_samples_leaf, max_features, X_train, y_train, X_test, y_test):\n",
    "  provisional_results = pd.DataFrame(columns=[\"max_depth\", \"min_samples_leaf\", \"max_features\", \"mae\"])\n",
    "  for v1 in max_depth:\n",
    "    for v2 in min_samples_leaf:\n",
    "      for v3 in max_features:\n",
    "        arbol = DecisionTreeRegressor(max_depth = v1, min_samples_leaf = v2, max_features=v3)\n",
    "        arbol.fit(X_train, y_train)\n",
    "        prediction = arbol.predict(X_test)\n",
    "        result_0 = {\"max_depth\": v1, \"min_samples_leaf\": v2,  \"max_features\":v3, \"mae\": median_absolute_error(prediction, y_test)}\n",
    "        provisional_results = provisional_results.append(result_0, ignore_index=True)\n",
    "  desired_row = provisional_results.loc[provisional_results.mae == provisional_results.mae.min()].reset_index().iloc[0,1:].to_dict()\n",
    "  result = { \"hyperparameters\": {\"max_depth\": desired_row[\"max_depth\"], \"max_features\": desired_row[\"max_features\"], \"min_samples_leaf\": desired_row[\"min_samples_leaf\"]}, \n",
    "             \"mae\":  desired_row[\"mae\"]\n",
    "            }\n",
    "  return result\n",
    "\n",
    "# List of hyperparameter example values\n",
    "max_depth = [5, 10, 15, 17, 18, 20]\n",
    "min_samples_leaf = [2, 10, 20, 50]\n",
    "max_features = [5, 10]\n",
    "\n",
    "result_tree = search_best_hyperparameters(max_depth, min_samples_leaf, max_features, X_train, y_train, X_test, y_test)\n",
    "result_tree"
   ]
  },
  {
   "cell_type": "code",
   "execution_count": null,
   "id": "Nx-G0NltIjc5",
   "metadata": {
    "id": "Nx-G0NltIjc5"
   },
   "outputs": [],
   "source": [
    "arbol = DecisionTreeRegressor(max_depth = 18, min_samples_leaf = 2, max_features=10)\n",
    "arbol.fit(X_train, y_train)\n",
    "\n",
    "plt.figure(figsize=(12, 10))\n",
    "plot_tree(arbol, filled=True, feature_names=X_train.columns, class_names= ['0', \"1\"])\n",
    "plt.show()"
   ]
  },
  {
   "cell_type": "markdown",
   "id": "71ef72fc-7386-433c-9725-2055f4016ae9",
   "metadata": {
    "id": "71ef72fc-7386-433c-9725-2055f4016ae9"
   },
   "source": [
    "### Comparing :"
   ]
  },
  {
   "cell_type": "code",
   "execution_count": null,
   "id": "_lrBRxMduxAl",
   "metadata": {
    "id": "_lrBRxMduxAl"
   },
   "outputs": [],
   "source": [
    "best_tree_mae = result_tree[\"mae\"]"
   ]
  },
  {
   "cell_type": "code",
   "execution_count": null,
   "id": "af1084d8-97a4-4618-b4f4-0952e0b39f09",
   "metadata": {
    "colab": {
     "base_uri": "https://localhost:8080/"
    },
    "executionInfo": {
     "elapsed": 242,
     "status": "ok",
     "timestamp": 1664923044615,
     "user": {
      "displayName": "Eduardo Andres",
      "userId": "05872806371588886564"
     },
     "user_tz": 180
    },
    "id": "af1084d8-97a4-4618-b4f4-0952e0b39f09",
    "outputId": "9fda8be4-1dfd-4c6b-86eb-f807c2f2ec39"
   },
   "outputs": [
    {
     "name": "stdout",
     "output_type": "stream",
     "text": [
      "Mean Absolute Error for each model:\n",
      "Baseline: 6408963.279883383\n",
      "Default SGDRegressor: 3649252.6895293705\n",
      "Best SGDRegressor: 3488790.105074181\n",
      "Best multivariate SGDRegressor: 3057132.770064302\n",
      "Best decision tree Regressor: 895287.3333333334\n"
     ]
    }
   ],
   "source": [
    "print(\"Mean Absolute Error for each model:\")\n",
    "print(f\"Baseline: {baseline_mae}\")\n",
    "print(f\"Default SGDRegressor: {default_mae}\")\n",
    "print(f\"Best SGDRegressor: {best_mae}\")\n",
    "print(f\"Best multivariate SGDRegressor: {best_multivariate_mae_sgd}\")\n",
    "print(f\"Best decision tree Regressor: {best_tree_mae}\")"
   ]
  },
  {
   "cell_type": "markdown",
   "id": "fpwZfPA-vCYJ",
   "metadata": {
    "id": "fpwZfPA-vCYJ"
   },
   "source": [
    "The decision tree improved a lot the results, by far the best regressor."
   ]
  },
  {
   "cell_type": "markdown",
   "id": "ce424a87-37af-470d-9a14-ec6ae2258eb1",
   "metadata": {
    "id": "ce424a87-37af-470d-9a14-ec6ae2258eb1"
   },
   "source": [
    "### Analyzing our results"
   ]
  },
  {
   "cell_type": "markdown",
   "id": "e204456d-cb86-47a0-9c3c-6307d8a831fa",
   "metadata": {
    "id": "e204456d-cb86-47a0-9c3c-6307d8a831fa"
   },
   "source": [
    "The non linear models worked better, just because the salary is not a linear function of the used features. Restrictions on salary cap, max contracts, rookie contracts or the extension of the contracts (which we dont have info of, a player´s performance may change dramatically for good or bad after a contract of several years of duration is signed)."
   ]
  },
  {
   "cell_type": "markdown",
   "id": "f09e5c20-3f7b-4938-a1b3-34ada990f181",
   "metadata": {
    "id": "f09e5c20-3f7b-4938-a1b3-34ada990f181"
   },
   "source": [
    "### Is there something else we could do to improve our results if wanted to make a more accurate model?\n",
    "\n",
    "Mainly try with more features and hyperparameters. Try also with the L2 metric so predictions that are far away from the reality get more penalized.\n",
    "\n",
    "Variables \"years since last contract was signed\", \"remaining contract duration\" would help in some cases. We dont have info about how many games a players played, or the minutes per game , or the shooting percentages."
   ]
  },
  {
   "cell_type": "markdown",
   "id": "25e23c2a-a0bf-4d39-bc1b-9524107f3a02",
   "metadata": {
    "id": "25e23c2a-a0bf-4d39-bc1b-9524107f3a02",
    "tags": []
   },
   "source": [
    "## 2. Predicting players All-NBA selections\n",
    "\n",
    " This is a [binary classification](https://en.wikipedia.org/wiki/Binary_classification) task.\n",
    "\n",
    "- You're trying to predict All-NBA selections, which are regular season honours. \n",
    "- All-NBA teams are divided in first, second and third teams of 5 players each, divided by position: 2 front court players (guards), 2 backcourt players (forwards) and 1 center.\n",
    "- As only 15 players are selected to All-NBA teams each year (out of more than 400 qualifying players), our dataset is going to be imbalanced. You're going to have to find a good strategy to deal with this inbalance.\n",
    "\n",
    "We'll use a dataset that contains historical information about players from season starting in 1983 and ending in the 2018-2019 season. The dataset contains statistics for all players, and a target column named \"all-nba\" : 1 means the player was selected to an All-NBA team that season."
   ]
  },
  {
   "cell_type": "code",
   "execution_count": null,
   "id": "zDulZn_XYtHP",
   "metadata": {
    "id": "zDulZn_XYtHP"
   },
   "outputs": [],
   "source": [
    "all_nba_df = pd.read_csv(\"https://raw.githubusercontent.com/anyoneai/notebooks/main/datasets/all_nba_1983_2017_dataset.csv\", index_col=0)"
   ]
  },
  {
   "cell_type": "markdown",
   "id": "Pkt8-S6r9Rx6",
   "metadata": {
    "id": "Pkt8-S6r9Rx6"
   },
   "source": [
    "Players that played for multiple teams during a season, have \"TOT\" at the team column.\n",
    "\n",
    "We may need to map the teams that relocated/changed names. Let´s use the following dictionary.\n",
    "\n",
    "This wil be particularly useful to use OneHotEncoder in exercises 2.8 and 2.10 ."
   ]
  },
  {
   "cell_type": "code",
   "execution_count": null,
   "id": "viQFxlvW3oZw",
   "metadata": {
    "colab": {
     "base_uri": "https://localhost:8080/",
     "height": 235
    },
    "executionInfo": {
     "elapsed": 536,
     "status": "ok",
     "timestamp": 1665757259719,
     "user": {
      "displayName": "Eduardo Andres",
      "userId": "05872806371588886564"
     },
     "user_tz": 180
    },
    "id": "viQFxlvW3oZw",
    "outputId": "9259e654-23eb-489f-9df6-f037fea1514b"
   },
   "outputs": [
    {
     "data": {
      "text/html": [
       "\n",
       "  <div id=\"df-c3f09430-7559-4874-aed5-774f29f107b5\">\n",
       "    <div class=\"colab-df-container\">\n",
       "      <div>\n",
       "<style scoped>\n",
       "    .dataframe tbody tr th:only-of-type {\n",
       "        vertical-align: middle;\n",
       "    }\n",
       "\n",
       "    .dataframe tbody tr th {\n",
       "        vertical-align: top;\n",
       "    }\n",
       "\n",
       "    .dataframe thead th {\n",
       "        text-align: right;\n",
       "    }\n",
       "</style>\n",
       "<table border=\"1\" class=\"dataframe\">\n",
       "  <thead>\n",
       "    <tr style=\"text-align: right;\">\n",
       "      <th></th>\n",
       "      <th>season_id</th>\n",
       "      <th>player_id</th>\n",
       "      <th>player_season</th>\n",
       "      <th>player</th>\n",
       "      <th>season</th>\n",
       "      <th>season_start</th>\n",
       "      <th>team</th>\n",
       "      <th>games</th>\n",
       "      <th>gamesstarted</th>\n",
       "      <th>mp</th>\n",
       "      <th>...</th>\n",
       "      <th>2p_perc</th>\n",
       "      <th>ft_perc</th>\n",
       "      <th>trb</th>\n",
       "      <th>ast</th>\n",
       "      <th>stl</th>\n",
       "      <th>blk</th>\n",
       "      <th>tov</th>\n",
       "      <th>pf</th>\n",
       "      <th>pts</th>\n",
       "      <th>all_nba</th>\n",
       "    </tr>\n",
       "  </thead>\n",
       "  <tbody>\n",
       "    <tr>\n",
       "      <th>0</th>\n",
       "      <td>0</td>\n",
       "      <td>0</td>\n",
       "      <td>1</td>\n",
       "      <td>Alaa Abdelnaby</td>\n",
       "      <td>1990-91</td>\n",
       "      <td>1990</td>\n",
       "      <td>POR</td>\n",
       "      <td>43</td>\n",
       "      <td>0</td>\n",
       "      <td>6.7</td>\n",
       "      <td>...</td>\n",
       "      <td>0.5</td>\n",
       "      <td>0.6</td>\n",
       "      <td>2.1</td>\n",
       "      <td>0.3</td>\n",
       "      <td>0.1</td>\n",
       "      <td>0.3</td>\n",
       "      <td>0.5</td>\n",
       "      <td>0.9</td>\n",
       "      <td>3.1</td>\n",
       "      <td>0</td>\n",
       "    </tr>\n",
       "    <tr>\n",
       "      <th>1</th>\n",
       "      <td>1</td>\n",
       "      <td>0</td>\n",
       "      <td>2</td>\n",
       "      <td>Alaa Abdelnaby</td>\n",
       "      <td>1991-92</td>\n",
       "      <td>1991</td>\n",
       "      <td>POR</td>\n",
       "      <td>71</td>\n",
       "      <td>1</td>\n",
       "      <td>13.2</td>\n",
       "      <td>...</td>\n",
       "      <td>0.5</td>\n",
       "      <td>0.8</td>\n",
       "      <td>3.7</td>\n",
       "      <td>0.4</td>\n",
       "      <td>0.4</td>\n",
       "      <td>0.2</td>\n",
       "      <td>0.9</td>\n",
       "      <td>1.9</td>\n",
       "      <td>6.1</td>\n",
       "      <td>0</td>\n",
       "    </tr>\n",
       "    <tr>\n",
       "      <th>2</th>\n",
       "      <td>2</td>\n",
       "      <td>0</td>\n",
       "      <td>3</td>\n",
       "      <td>Alaa Abdelnaby</td>\n",
       "      <td>1992-93</td>\n",
       "      <td>1992</td>\n",
       "      <td>TOT</td>\n",
       "      <td>75</td>\n",
       "      <td>52</td>\n",
       "      <td>17.5</td>\n",
       "      <td>...</td>\n",
       "      <td>0.5</td>\n",
       "      <td>0.8</td>\n",
       "      <td>4.5</td>\n",
       "      <td>0.4</td>\n",
       "      <td>0.3</td>\n",
       "      <td>0.3</td>\n",
       "      <td>1.3</td>\n",
       "      <td>2.5</td>\n",
       "      <td>7.7</td>\n",
       "      <td>0</td>\n",
       "    </tr>\n",
       "    <tr>\n",
       "      <th>3</th>\n",
       "      <td>3</td>\n",
       "      <td>0</td>\n",
       "      <td>4</td>\n",
       "      <td>Alaa Abdelnaby</td>\n",
       "      <td>1993-94</td>\n",
       "      <td>1993</td>\n",
       "      <td>BOS</td>\n",
       "      <td>13</td>\n",
       "      <td>0</td>\n",
       "      <td>12.2</td>\n",
       "      <td>...</td>\n",
       "      <td>0.4</td>\n",
       "      <td>0.6</td>\n",
       "      <td>3.5</td>\n",
       "      <td>0.2</td>\n",
       "      <td>0.2</td>\n",
       "      <td>0.2</td>\n",
       "      <td>1.3</td>\n",
       "      <td>1.5</td>\n",
       "      <td>4.9</td>\n",
       "      <td>0</td>\n",
       "    </tr>\n",
       "    <tr>\n",
       "      <th>4</th>\n",
       "      <td>4</td>\n",
       "      <td>0</td>\n",
       "      <td>5</td>\n",
       "      <td>Alaa Abdelnaby</td>\n",
       "      <td>1994-95</td>\n",
       "      <td>1994</td>\n",
       "      <td>TOT</td>\n",
       "      <td>54</td>\n",
       "      <td>0</td>\n",
       "      <td>9.4</td>\n",
       "      <td>...</td>\n",
       "      <td>0.5</td>\n",
       "      <td>0.6</td>\n",
       "      <td>2.1</td>\n",
       "      <td>0.2</td>\n",
       "      <td>0.3</td>\n",
       "      <td>0.2</td>\n",
       "      <td>0.8</td>\n",
       "      <td>1.9</td>\n",
       "      <td>4.7</td>\n",
       "      <td>0</td>\n",
       "    </tr>\n",
       "  </tbody>\n",
       "</table>\n",
       "<p>5 rows × 22 columns</p>\n",
       "</div>\n",
       "      <button class=\"colab-df-convert\" onclick=\"convertToInteractive('df-c3f09430-7559-4874-aed5-774f29f107b5')\"\n",
       "              title=\"Convert this dataframe to an interactive table.\"\n",
       "              style=\"display:none;\">\n",
       "        \n",
       "  <svg xmlns=\"http://www.w3.org/2000/svg\" height=\"24px\"viewBox=\"0 0 24 24\"\n",
       "       width=\"24px\">\n",
       "    <path d=\"M0 0h24v24H0V0z\" fill=\"none\"/>\n",
       "    <path d=\"M18.56 5.44l.94 2.06.94-2.06 2.06-.94-2.06-.94-.94-2.06-.94 2.06-2.06.94zm-11 1L8.5 8.5l.94-2.06 2.06-.94-2.06-.94L8.5 2.5l-.94 2.06-2.06.94zm10 10l.94 2.06.94-2.06 2.06-.94-2.06-.94-.94-2.06-.94 2.06-2.06.94z\"/><path d=\"M17.41 7.96l-1.37-1.37c-.4-.4-.92-.59-1.43-.59-.52 0-1.04.2-1.43.59L10.3 9.45l-7.72 7.72c-.78.78-.78 2.05 0 2.83L4 21.41c.39.39.9.59 1.41.59.51 0 1.02-.2 1.41-.59l7.78-7.78 2.81-2.81c.8-.78.8-2.07 0-2.86zM5.41 20L4 18.59l7.72-7.72 1.47 1.35L5.41 20z\"/>\n",
       "  </svg>\n",
       "      </button>\n",
       "      \n",
       "  <style>\n",
       "    .colab-df-container {\n",
       "      display:flex;\n",
       "      flex-wrap:wrap;\n",
       "      gap: 12px;\n",
       "    }\n",
       "\n",
       "    .colab-df-convert {\n",
       "      background-color: #E8F0FE;\n",
       "      border: none;\n",
       "      border-radius: 50%;\n",
       "      cursor: pointer;\n",
       "      display: none;\n",
       "      fill: #1967D2;\n",
       "      height: 32px;\n",
       "      padding: 0 0 0 0;\n",
       "      width: 32px;\n",
       "    }\n",
       "\n",
       "    .colab-df-convert:hover {\n",
       "      background-color: #E2EBFA;\n",
       "      box-shadow: 0px 1px 2px rgba(60, 64, 67, 0.3), 0px 1px 3px 1px rgba(60, 64, 67, 0.15);\n",
       "      fill: #174EA6;\n",
       "    }\n",
       "\n",
       "    [theme=dark] .colab-df-convert {\n",
       "      background-color: #3B4455;\n",
       "      fill: #D2E3FC;\n",
       "    }\n",
       "\n",
       "    [theme=dark] .colab-df-convert:hover {\n",
       "      background-color: #434B5C;\n",
       "      box-shadow: 0px 1px 3px 1px rgba(0, 0, 0, 0.15);\n",
       "      filter: drop-shadow(0px 1px 2px rgba(0, 0, 0, 0.3));\n",
       "      fill: #FFFFFF;\n",
       "    }\n",
       "  </style>\n",
       "\n",
       "      <script>\n",
       "        const buttonEl =\n",
       "          document.querySelector('#df-c3f09430-7559-4874-aed5-774f29f107b5 button.colab-df-convert');\n",
       "        buttonEl.style.display =\n",
       "          google.colab.kernel.accessAllowed ? 'block' : 'none';\n",
       "\n",
       "        async function convertToInteractive(key) {\n",
       "          const element = document.querySelector('#df-c3f09430-7559-4874-aed5-774f29f107b5');\n",
       "          const dataTable =\n",
       "            await google.colab.kernel.invokeFunction('convertToInteractive',\n",
       "                                                     [key], {});\n",
       "          if (!dataTable) return;\n",
       "\n",
       "          const docLinkHtml = 'Like what you see? Visit the ' +\n",
       "            '<a target=\"_blank\" href=https://colab.research.google.com/notebooks/data_table.ipynb>data table notebook</a>'\n",
       "            + ' to learn more about interactive tables.';\n",
       "          element.innerHTML = '';\n",
       "          dataTable['output_type'] = 'display_data';\n",
       "          await google.colab.output.renderOutput(dataTable, element);\n",
       "          const docLink = document.createElement('div');\n",
       "          docLink.innerHTML = docLinkHtml;\n",
       "          element.appendChild(docLink);\n",
       "        }\n",
       "      </script>\n",
       "    </div>\n",
       "  </div>\n",
       "  "
      ],
      "text/plain": [
       "   season_id  player_id  player_season          player   season  season_start  \\\n",
       "0          0          0              1  Alaa Abdelnaby  1990-91          1990   \n",
       "1          1          0              2  Alaa Abdelnaby  1991-92          1991   \n",
       "2          2          0              3  Alaa Abdelnaby  1992-93          1992   \n",
       "3          3          0              4  Alaa Abdelnaby  1993-94          1993   \n",
       "4          4          0              5  Alaa Abdelnaby  1994-95          1994   \n",
       "\n",
       "  team  games  gamesstarted   mp  ...  2p_perc  ft_perc  trb  ast  stl  blk  \\\n",
       "0  POR     43             0  6.7  ...      0.5      0.6  2.1  0.3  0.1  0.3   \n",
       "1  POR     71             1 13.2  ...      0.5      0.8  3.7  0.4  0.4  0.2   \n",
       "2  TOT     75            52 17.5  ...      0.5      0.8  4.5  0.4  0.3  0.3   \n",
       "3  BOS     13             0 12.2  ...      0.4      0.6  3.5  0.2  0.2  0.2   \n",
       "4  TOT     54             0  9.4  ...      0.5      0.6  2.1  0.2  0.3  0.2   \n",
       "\n",
       "   tov  pf  pts  all_nba  \n",
       "0  0.5 0.9  3.1        0  \n",
       "1  0.9 1.9  6.1        0  \n",
       "2  1.3 2.5  7.7        0  \n",
       "3  1.3 1.5  4.9        0  \n",
       "4  0.8 1.9  4.7        0  \n",
       "\n",
       "[5 rows x 22 columns]"
      ]
     },
     "execution_count": 26,
     "metadata": {},
     "output_type": "execute_result"
    }
   ],
   "source": [
    "all_nba_df.head()"
   ]
  },
  {
   "cell_type": "code",
   "execution_count": null,
   "id": "Nil8SE9r--_o",
   "metadata": {
    "id": "Nil8SE9r--_o"
   },
   "outputs": [],
   "source": [
    "final_dict = {x:x for x in all_nba_df.team.unique()}\n",
    "final_dict.update({'NOH':'NOP', 'NOK':'NOP', 'KCK': 'SAC', 'VAN':'MEM', 'SEA': 'OKC', 'NJN': 'BRK', 'WSB': 'WAS', 'SDC': 'LAC', 'CHH':'CHO', 'CHA':'CHO'})\n",
    "\n",
    "all_nba_df.team = all_nba_df.team.map(final_dict)"
   ]
  },
  {
   "cell_type": "code",
   "execution_count": null,
   "id": "88WptTGK9vba",
   "metadata": {
    "colab": {
     "base_uri": "https://localhost:8080/",
     "height": 582
    },
    "executionInfo": {
     "elapsed": 5,
     "status": "ok",
     "timestamp": 1665757286496,
     "user": {
      "displayName": "Eduardo Andres",
      "userId": "05872806371588886564"
     },
     "user_tz": 180
    },
    "id": "88WptTGK9vba",
    "outputId": "9cb65aba-8ded-4b08-ec7b-32dd9fcf172e"
   },
   "outputs": [
    {
     "data": {
      "text/html": [
       "\n",
       "  <div id=\"df-a2ddf4b4-3f2e-4544-ab52-f43e2fa93475\">\n",
       "    <div class=\"colab-df-container\">\n",
       "      <div>\n",
       "<style scoped>\n",
       "    .dataframe tbody tr th:only-of-type {\n",
       "        vertical-align: middle;\n",
       "    }\n",
       "\n",
       "    .dataframe tbody tr th {\n",
       "        vertical-align: top;\n",
       "    }\n",
       "\n",
       "    .dataframe thead th {\n",
       "        text-align: right;\n",
       "    }\n",
       "</style>\n",
       "<table border=\"1\" class=\"dataframe\">\n",
       "  <thead>\n",
       "    <tr style=\"text-align: right;\">\n",
       "      <th></th>\n",
       "      <th>season_id</th>\n",
       "      <th>player</th>\n",
       "      <th>team</th>\n",
       "    </tr>\n",
       "  </thead>\n",
       "  <tbody>\n",
       "    <tr>\n",
       "      <th>9350</th>\n",
       "      <td>9714</td>\n",
       "      <td>Alonzo Mourning</td>\n",
       "      <td>CHH</td>\n",
       "    </tr>\n",
       "    <tr>\n",
       "      <th>9351</th>\n",
       "      <td>9715</td>\n",
       "      <td>Alonzo Mourning</td>\n",
       "      <td>MIA</td>\n",
       "    </tr>\n",
       "    <tr>\n",
       "      <th>9352</th>\n",
       "      <td>9716</td>\n",
       "      <td>Alonzo Mourning</td>\n",
       "      <td>MIA</td>\n",
       "    </tr>\n",
       "    <tr>\n",
       "      <th>9353</th>\n",
       "      <td>9717</td>\n",
       "      <td>Alonzo Mourning</td>\n",
       "      <td>MIA</td>\n",
       "    </tr>\n",
       "    <tr>\n",
       "      <th>9354</th>\n",
       "      <td>9718</td>\n",
       "      <td>Alonzo Mourning</td>\n",
       "      <td>MIA</td>\n",
       "    </tr>\n",
       "    <tr>\n",
       "      <th>9355</th>\n",
       "      <td>9719</td>\n",
       "      <td>Alonzo Mourning</td>\n",
       "      <td>MIA</td>\n",
       "    </tr>\n",
       "    <tr>\n",
       "      <th>9356</th>\n",
       "      <td>9720</td>\n",
       "      <td>Alonzo Mourning</td>\n",
       "      <td>MIA</td>\n",
       "    </tr>\n",
       "    <tr>\n",
       "      <th>9357</th>\n",
       "      <td>9721</td>\n",
       "      <td>Alonzo Mourning</td>\n",
       "      <td>MIA</td>\n",
       "    </tr>\n",
       "    <tr>\n",
       "      <th>9358</th>\n",
       "      <td>9722</td>\n",
       "      <td>Alonzo Mourning</td>\n",
       "      <td>NJN</td>\n",
       "    </tr>\n",
       "    <tr>\n",
       "      <th>9359</th>\n",
       "      <td>9723</td>\n",
       "      <td>Alonzo Mourning</td>\n",
       "      <td>TOT</td>\n",
       "    </tr>\n",
       "    <tr>\n",
       "      <th>9360</th>\n",
       "      <td>9724</td>\n",
       "      <td>Alonzo Mourning</td>\n",
       "      <td>MIA</td>\n",
       "    </tr>\n",
       "    <tr>\n",
       "      <th>9361</th>\n",
       "      <td>9725</td>\n",
       "      <td>Alonzo Mourning</td>\n",
       "      <td>MIA</td>\n",
       "    </tr>\n",
       "    <tr>\n",
       "      <th>9362</th>\n",
       "      <td>9726</td>\n",
       "      <td>Alonzo Mourning</td>\n",
       "      <td>MIA</td>\n",
       "    </tr>\n",
       "    <tr>\n",
       "      <th>13629</th>\n",
       "      <td>14108</td>\n",
       "      <td>Kemba Walker</td>\n",
       "      <td>CHA</td>\n",
       "    </tr>\n",
       "    <tr>\n",
       "      <th>13630</th>\n",
       "      <td>14109</td>\n",
       "      <td>Kemba Walker</td>\n",
       "      <td>CHA</td>\n",
       "    </tr>\n",
       "    <tr>\n",
       "      <th>13631</th>\n",
       "      <td>14110</td>\n",
       "      <td>Kemba Walker</td>\n",
       "      <td>CHA</td>\n",
       "    </tr>\n",
       "    <tr>\n",
       "      <th>13633</th>\n",
       "      <td>14111</td>\n",
       "      <td>Kemba Walker</td>\n",
       "      <td>CHO</td>\n",
       "    </tr>\n",
       "  </tbody>\n",
       "</table>\n",
       "</div>\n",
       "      <button class=\"colab-df-convert\" onclick=\"convertToInteractive('df-a2ddf4b4-3f2e-4544-ab52-f43e2fa93475')\"\n",
       "              title=\"Convert this dataframe to an interactive table.\"\n",
       "              style=\"display:none;\">\n",
       "        \n",
       "  <svg xmlns=\"http://www.w3.org/2000/svg\" height=\"24px\"viewBox=\"0 0 24 24\"\n",
       "       width=\"24px\">\n",
       "    <path d=\"M0 0h24v24H0V0z\" fill=\"none\"/>\n",
       "    <path d=\"M18.56 5.44l.94 2.06.94-2.06 2.06-.94-2.06-.94-.94-2.06-.94 2.06-2.06.94zm-11 1L8.5 8.5l.94-2.06 2.06-.94-2.06-.94L8.5 2.5l-.94 2.06-2.06.94zm10 10l.94 2.06.94-2.06 2.06-.94-2.06-.94-.94-2.06-.94 2.06-2.06.94z\"/><path d=\"M17.41 7.96l-1.37-1.37c-.4-.4-.92-.59-1.43-.59-.52 0-1.04.2-1.43.59L10.3 9.45l-7.72 7.72c-.78.78-.78 2.05 0 2.83L4 21.41c.39.39.9.59 1.41.59.51 0 1.02-.2 1.41-.59l7.78-7.78 2.81-2.81c.8-.78.8-2.07 0-2.86zM5.41 20L4 18.59l7.72-7.72 1.47 1.35L5.41 20z\"/>\n",
       "  </svg>\n",
       "      </button>\n",
       "      \n",
       "  <style>\n",
       "    .colab-df-container {\n",
       "      display:flex;\n",
       "      flex-wrap:wrap;\n",
       "      gap: 12px;\n",
       "    }\n",
       "\n",
       "    .colab-df-convert {\n",
       "      background-color: #E8F0FE;\n",
       "      border: none;\n",
       "      border-radius: 50%;\n",
       "      cursor: pointer;\n",
       "      display: none;\n",
       "      fill: #1967D2;\n",
       "      height: 32px;\n",
       "      padding: 0 0 0 0;\n",
       "      width: 32px;\n",
       "    }\n",
       "\n",
       "    .colab-df-convert:hover {\n",
       "      background-color: #E2EBFA;\n",
       "      box-shadow: 0px 1px 2px rgba(60, 64, 67, 0.3), 0px 1px 3px 1px rgba(60, 64, 67, 0.15);\n",
       "      fill: #174EA6;\n",
       "    }\n",
       "\n",
       "    [theme=dark] .colab-df-convert {\n",
       "      background-color: #3B4455;\n",
       "      fill: #D2E3FC;\n",
       "    }\n",
       "\n",
       "    [theme=dark] .colab-df-convert:hover {\n",
       "      background-color: #434B5C;\n",
       "      box-shadow: 0px 1px 3px 1px rgba(0, 0, 0, 0.15);\n",
       "      filter: drop-shadow(0px 1px 2px rgba(0, 0, 0, 0.3));\n",
       "      fill: #FFFFFF;\n",
       "    }\n",
       "  </style>\n",
       "\n",
       "      <script>\n",
       "        const buttonEl =\n",
       "          document.querySelector('#df-a2ddf4b4-3f2e-4544-ab52-f43e2fa93475 button.colab-df-convert');\n",
       "        buttonEl.style.display =\n",
       "          google.colab.kernel.accessAllowed ? 'block' : 'none';\n",
       "\n",
       "        async function convertToInteractive(key) {\n",
       "          const element = document.querySelector('#df-a2ddf4b4-3f2e-4544-ab52-f43e2fa93475');\n",
       "          const dataTable =\n",
       "            await google.colab.kernel.invokeFunction('convertToInteractive',\n",
       "                                                     [key], {});\n",
       "          if (!dataTable) return;\n",
       "\n",
       "          const docLinkHtml = 'Like what you see? Visit the ' +\n",
       "            '<a target=\"_blank\" href=https://colab.research.google.com/notebooks/data_table.ipynb>data table notebook</a>'\n",
       "            + ' to learn more about interactive tables.';\n",
       "          element.innerHTML = '';\n",
       "          dataTable['output_type'] = 'display_data';\n",
       "          await google.colab.output.renderOutput(dataTable, element);\n",
       "          const docLink = document.createElement('div');\n",
       "          docLink.innerHTML = docLinkHtml;\n",
       "          element.appendChild(docLink);\n",
       "        }\n",
       "      </script>\n",
       "    </div>\n",
       "  </div>\n",
       "  "
      ],
      "text/plain": [
       "       season_id           player team\n",
       "9350        9714  Alonzo Mourning  CHH\n",
       "9351        9715  Alonzo Mourning  MIA\n",
       "9352        9716  Alonzo Mourning  MIA\n",
       "9353        9717  Alonzo Mourning  MIA\n",
       "9354        9718  Alonzo Mourning  MIA\n",
       "9355        9719  Alonzo Mourning  MIA\n",
       "9356        9720  Alonzo Mourning  MIA\n",
       "9357        9721  Alonzo Mourning  MIA\n",
       "9358        9722  Alonzo Mourning  NJN\n",
       "9359        9723  Alonzo Mourning  TOT\n",
       "9360        9724  Alonzo Mourning  MIA\n",
       "9361        9725  Alonzo Mourning  MIA\n",
       "9362        9726  Alonzo Mourning  MIA\n",
       "13629      14108     Kemba Walker  CHA\n",
       "13630      14109     Kemba Walker  CHA\n",
       "13631      14110     Kemba Walker  CHA\n",
       "13633      14111     Kemba Walker  CHO"
      ]
     },
     "execution_count": 27,
     "metadata": {},
     "output_type": "execute_result"
    }
   ],
   "source": [
    "all_nba_df.loc[all_nba_df.player.isin([\"Alonzo Mourning\", \"Kemba Walker\"])].iloc[2:-3,:][[\"season_id\", \"player\", \"team\"]]"
   ]
  },
  {
   "cell_type": "code",
   "execution_count": null,
   "id": "bb6725f6-418d-4159-b046-3bf33a8ead0b",
   "metadata": {
    "colab": {
     "base_uri": "https://localhost:8080/"
    },
    "executionInfo": {
     "elapsed": 318,
     "status": "ok",
     "timestamp": 1664972488681,
     "user": {
      "displayName": "Eduardo Andres",
      "userId": "05872806371588886564"
     },
     "user_tz": 180
    },
    "id": "bb6725f6-418d-4159-b046-3bf33a8ead0b",
    "outputId": "93b3023a-a573-49da-cd11-47eb91ac2254"
   },
   "outputs": [
    {
     "name": "stdout",
     "output_type": "stream",
     "text": [
      "Number of rows:  14825\n",
      "Number of seasons:  39\n",
      "Number of unique players:  2701\n",
      "Number of all-nba selections vs non selected: \t496\tvs\t14329\n"
     ]
    }
   ],
   "source": [
    "print(\"Number of rows: \", all_nba_df.shape[0])\n",
    "print(\"Number of seasons: \", all_nba_df.season.nunique())\n",
    "print(\"Number of unique players: \", all_nba_df.player.nunique())\n",
    "print(\"Number of all-nba selections vs non selected: \", all_nba_df.all_nba.sum(),\"vs\", len(all_nba_df)-all_nba_df.all_nba.sum(), sep=\"\\t\")"
   ]
  },
  {
   "cell_type": "markdown",
   "id": "6b4916b2-e8cf-4e30-a2ac-e1538c2f5cd5",
   "metadata": {
    "id": "6b4916b2-e8cf-4e30-a2ac-e1538c2f5cd5"
   },
   "source": [
    "2.2. Split the dataset in training and test sets. Make sure to keep the distribution of values in the target variable.\n",
    "\n",
    "Use columns: 'team', 'games', 'gamesstarted', 'mp', 'fg_perc', '3p_perc',\n",
    "       '2p_perc', 'ft_perc', 'trb', 'ast', 'stl', 'blk', 'tov', 'pf', 'pts','all_nba'.\n",
    "\n",
    "**Note:** Assign your features to `X` variable and labels to `y`.\n",
    "\n"
   ]
  },
  {
   "cell_type": "code",
   "execution_count": null,
   "id": "RS83LHC2Jveh",
   "metadata": {
    "id": "RS83LHC2Jveh"
   },
   "outputs": [],
   "source": [
    "X = all_nba_df[['team', 'games', 'gamesstarted', 'mp', 'fg_perc', '3p_perc', '2p_perc', 'ft_perc', 'trb', 'ast', 'stl', 'blk', 'tov', 'pf', 'pts']]\n",
    "y = all_nba_df['all_nba']\n",
    "X_train, X_test, y_train, y_test = train_test_split( X, y, test_size=0.2,\n",
    "                                                           random_state=24,\n",
    "                                                           shuffle=True, \n",
    "                                                           stratify = y\n",
    "                                                    )"
   ]
  },
  {
   "cell_type": "code",
   "execution_count": null,
   "id": "cfOIHI8V52gH",
   "metadata": {
    "id": "cfOIHI8V52gH"
   },
   "outputs": [],
   "source": [
    "CLASIFICACION n clases ------- matriz nxn   \n",
    "\n",
    "(i, j)    en la vida real es \"i\", pero el modelo predice \"j\"\n",
    "\n",
    "\n",
    "BINARIA   2x2\n",
    "\n",
    "TP = elementos de la clase 1, bien predichos    FP  = no tiene covid, el test dio positivo\n",
    "\n",
    "FN viceversa                                    TN = elementos de la clase 0, bien predichos \n",
    "\n",
    "\n",
    "\n",
    "ejemplo civid, minimizar falsos negativos\n",
    "\n",
    "\n",
    "500 1s\n",
    "200000 0s"
   ]
  },
  {
   "cell_type": "markdown",
   "id": "KpgcmrW6JX_d",
   "metadata": {
    "id": "KpgcmrW6JX_d"
   },
   "source": [
    "*Don't change anything in this cell, just make it run correctly*"
   ]
  },
  {
   "cell_type": "code",
   "execution_count": null,
   "id": "N2S6tsHUJXdm",
   "metadata": {
    "colab": {
     "base_uri": "https://localhost:8080/"
    },
    "executionInfo": {
     "elapsed": 293,
     "status": "ok",
     "timestamp": 1664972507613,
     "user": {
      "displayName": "Eduardo Andres",
      "userId": "05872806371588886564"
     },
     "user_tz": 180
    },
    "id": "N2S6tsHUJXdm",
    "outputId": "4d10bbaa-3eb9-4053-c740-7fff0b4a88b9"
   },
   "outputs": [
    {
     "name": "stdout",
     "output_type": "stream",
     "text": [
      "Success!\n"
     ]
    }
   ],
   "source": [
    "if X.shape == (14825, 15) and y.shape == (14825,):\n",
    "  print('Success!')\n",
    "else:\n",
    "  raise ValueError('Your features/labels shape is incorrect, please review your code')"
   ]
  },
  {
   "cell_type": "markdown",
   "id": "cedaf085-2a23-41ab-a55f-474e2ae6bb9c",
   "metadata": {
    "id": "cedaf085-2a23-41ab-a55f-474e2ae6bb9c"
   },
   "source": [
    "### Baseline model and Evaluation Metrics\n",
    "\n",
    "In this oportunity we'll define our baseline model as the model we can train with the minimun amount of work on the dataset. \n",
    "\n",
    "You're gonna train a [LogisticRegression](https://scikit-learn.org/stable/modules/generated/sklearn.linear_model.LogisticRegression.html) with default parameters, and without doing any preprocessing to our data."
   ]
  },
  {
   "cell_type": "markdown",
   "id": "a7f436a6-d3fe-4ead-8c09-b450d850b36f",
   "metadata": {
    "id": "a7f436a6-d3fe-4ead-8c09-b450d850b36f"
   },
   "source": [
    "Accuracy is not the best metric. In this case of a highly imbalanced dataset, we need to go deeper than that."
   ]
  },
  {
   "cell_type": "markdown",
   "id": "df1a22d1-3fd1-4e6f-9139-52a3466fb1c4",
   "metadata": {
    "id": "df1a22d1-3fd1-4e6f-9139-52a3466fb1c4"
   },
   "source": [
    "#### Scaling all numerical features "
   ]
  },
  {
   "cell_type": "code",
   "execution_count": null,
   "id": "7rYq7690jlSj",
   "metadata": {
    "id": "7rYq7690jlSj"
   },
   "outputs": [],
   "source": [
    "numeric_cols = list(X_train.select_dtypes(include=np.number).columns)\n",
    "mm_scaler = MinMaxScaler()\n",
    "mm_scaler.fit(X_train[numeric_cols])\n",
    "X_train[numeric_cols] = mm_scaler.transform(X_train[numeric_cols])\n",
    "X_test[numeric_cols] = mm_scaler.transform(X_test[numeric_cols])"
   ]
  },
  {
   "cell_type": "markdown",
   "id": "0ccfd642-fd2a-4ce6-af92-901156e2a009",
   "metadata": {
    "id": "0ccfd642-fd2a-4ce6-af92-901156e2a009"
   },
   "source": [
    "#### Train a LogisticRegression with default parameters, with only the numerical features (we omit the team information for now). This will be our baseline model. \n",
    "\n",
    "Evaluate it using accuracy, precision, recall, F1."
   ]
  },
  {
   "cell_type": "code",
   "execution_count": null,
   "id": "6f9ffef5-6333-481e-816f-9125c95fe117",
   "metadata": {
    "id": "6f9ffef5-6333-481e-816f-9125c95fe117"
   },
   "outputs": [],
   "source": [
    "logit = LogisticRegression()\n",
    "logit.fit(X_train.iloc[:,1:], y_train)\n",
    "prediction = logit.predict(X_test.iloc[:,1:])"
   ]
  },
  {
   "cell_type": "code",
   "execution_count": null,
   "id": "Tlo_EMgeIa51",
   "metadata": {
    "colab": {
     "base_uri": "https://localhost:8080/"
    },
    "executionInfo": {
     "elapsed": 283,
     "status": "ok",
     "timestamp": 1665000561236,
     "user": {
      "displayName": "Eduardo Andres",
      "userId": "05872806371588886564"
     },
     "user_tz": 180
    },
    "id": "Tlo_EMgeIa51",
    "outputId": "7e157c36-8394-45c0-fd68-655f0b4038ba"
   },
   "outputs": [
    {
     "name": "stdout",
     "output_type": "stream",
     "text": [
      "[[2859    7]\n",
      " [  48   51]]\n"
     ]
    }
   ],
   "source": [
    "print(confusion_matrix(y_test, prediction))"
   ]
  },
  {
   "cell_type": "code",
   "execution_count": null,
   "id": "jDPurS7DI4Zy",
   "metadata": {
    "colab": {
     "base_uri": "https://localhost:8080/"
    },
    "executionInfo": {
     "elapsed": 296,
     "status": "ok",
     "timestamp": 1664972524397,
     "user": {
      "displayName": "Eduardo Andres",
      "userId": "05872806371588886564"
     },
     "user_tz": 180
    },
    "id": "jDPurS7DI4Zy",
    "outputId": "f0acc3ed-5c66-4f34-b9f3-fcdd14f37e98"
   },
   "outputs": [
    {
     "name": "stdout",
     "output_type": "stream",
     "text": [
      "Accuracy:  0.9824620573355818\n",
      "Precision:  0.9854872149274361 0.8591549295774648\n",
      "Recall:  0.9965059399021663 0.5922330097087378\n"
     ]
    }
   ],
   "source": [
    "# 103 players actually All NBA\n",
    "# true_negatives                          actual_negatives - true_negatives\n",
    "# alcual_positives - true_positives       true_positives\n",
    "\n",
    "# 2859     7\n",
    "# 48      51\n",
    "\n",
    "# ACCURACY\n",
    "print(\"Accuracy: \", (2852+61)/(2852+42+61+10))\n",
    "\n",
    "# PRECISION:\n",
    "# 86% of the All-NBA predictions were actually True.\n",
    "# 99% of the NON-All-NBA predictions were actually True.\n",
    "print(\"Precision: \", 2852/(2852+42), 61/71)\n",
    "\n",
    "# RECALL\n",
    "# Out of all the players that actually did NOT get selected All-NBA, the model predicted this outcome correctly for almost all of them.\n",
    "# Out of all the players selected All-NBA, the model predicted this outcome correctly for almost 59% of them.\n",
    "print(\"Recall: \",2852/(2852+10) ,61/(42+61))\n",
    "\n",
    "# F1 Score: 2*(Precision * Recall) / (Precision + Recall)\n",
    "\n",
    "# Support:\n",
    "# How many players belonged to each class in the test dataset."
   ]
  },
  {
   "cell_type": "code",
   "execution_count": null,
   "id": "SszNmVsevmQY",
   "metadata": {
    "colab": {
     "base_uri": "https://localhost:8080/"
    },
    "executionInfo": {
     "elapsed": 279,
     "status": "ok",
     "timestamp": 1664997152785,
     "user": {
      "displayName": "Eduardo Andres",
      "userId": "05872806371588886564"
     },
     "user_tz": 180
    },
    "id": "SszNmVsevmQY",
    "outputId": "fe7ce08e-e244-4cda-c012-6225d10bae45"
   },
   "outputs": [
    {
     "name": "stdout",
     "output_type": "stream",
     "text": [
      "              precision    recall  f1-score   support\n",
      "\n",
      "           0       0.98      1.00      0.99      2866\n",
      "           1       0.88      0.52      0.65        99\n",
      "\n",
      "    accuracy                           0.98      2965\n",
      "   macro avg       0.93      0.76      0.82      2965\n",
      "weighted avg       0.98      0.98      0.98      2965\n",
      "\n"
     ]
    }
   ],
   "source": [
    "print(classification_report(y_test, prediction))"
   ]
  },
  {
   "cell_type": "code",
   "execution_count": null,
   "id": "AtsHpjNOyY1m",
   "metadata": {
    "colab": {
     "base_uri": "https://localhost:8080/"
    },
    "executionInfo": {
     "elapsed": 327,
     "status": "ok",
     "timestamp": 1664997156693,
     "user": {
      "displayName": "Eduardo Andres",
      "userId": "05872806371588886564"
     },
     "user_tz": 180
    },
    "id": "AtsHpjNOyY1m",
    "outputId": "1c0f3e88-517d-4caa-e82d-036ca9b6c8c7"
   },
   "outputs": [
    {
     "data": {
      "text/plain": [
       "{'0': {'precision': 0.9834881320949432,\n",
       "  'recall': 0.9975575715282624,\n",
       "  'f1-score': 0.9904728910445176,\n",
       "  'support': 2866},\n",
       " '1': {'precision': 0.8793103448275862,\n",
       "  'recall': 0.5151515151515151,\n",
       "  'f1-score': 0.6496815286624203,\n",
       "  'support': 99},\n",
       " 'accuracy': 0.9814502529510961,\n",
       " 'macro avg': {'precision': 0.9313992384612647,\n",
       "  'recall': 0.7563545433398888,\n",
       "  'f1-score': 0.820077209853469,\n",
       "  'support': 2965},\n",
       " 'weighted avg': {'precision': 0.9800096832114802,\n",
       "  'recall': 0.9814502529510961,\n",
       "  'f1-score': 0.979094022620967,\n",
       "  'support': 2965}}"
      ]
     },
     "execution_count": 325,
     "metadata": {},
     "output_type": "execute_result"
    }
   ],
   "source": [
    "classification_report(y_test, prediction, output_dict=True)"
   ]
  },
  {
   "cell_type": "markdown",
   "id": "t50dKDkUNZRd",
   "metadata": {
    "id": "t50dKDkUNZRd"
   },
   "source": [
    "The precision is the ratio tp / (tp + fp) where tp is the number of true positives and fp the number of false positives. The precision is intuitively the ability of the classifier not to label a negative sample as positive.\n",
    "\n",
    "The recall is the ratio tp / (tp + fn) where tp is the number of true positives and fn the number of false negatives. The recall is intuitively the ability of the classifier to find all the positive samples."
   ]
  },
  {
   "cell_type": "code",
   "execution_count": null,
   "id": "eVekKiPeM1Ep",
   "metadata": {
    "colab": {
     "base_uri": "https://localhost:8080/"
    },
    "executionInfo": {
     "elapsed": 252,
     "status": "ok",
     "timestamp": 1664924231936,
     "user": {
      "displayName": "Eduardo Andres",
      "userId": "05872806371588886564"
     },
     "user_tz": 180
    },
    "id": "eVekKiPeM1Ep",
    "outputId": "c392f296-6274-4926-f6b4-70e3fe4cdb20"
   },
   "outputs": [
    {
     "data": {
      "text/plain": [
       "(array([0.98348813, 0.87931034]),\n",
       " array([0.99755757, 0.51515152]),\n",
       " array([0.99047289, 0.64968153]),\n",
       " array([2866,   99]))"
      ]
     },
     "execution_count": 136,
     "metadata": {},
     "output_type": "execute_result"
    }
   ],
   "source": [
    "precision_recall_fscore_support(y_test, prediction)#, pos_label=0, average=\"binary\")"
   ]
  },
  {
   "cell_type": "code",
   "execution_count": null,
   "id": "1SKTVZ15N8SA",
   "metadata": {
    "colab": {
     "base_uri": "https://localhost:8080/"
    },
    "executionInfo": {
     "elapsed": 248,
     "status": "ok",
     "timestamp": 1664924247937,
     "user": {
      "displayName": "Eduardo Andres",
      "userId": "05872806371588886564"
     },
     "user_tz": 180
    },
    "id": "1SKTVZ15N8SA",
    "outputId": "709fa4c4-2b46-49d5-993d-6e7ab10afeb1"
   },
   "outputs": [
    {
     "data": {
      "text/plain": [
       "(0.9834881320949432, 0.9975575715282624, 0.9904728910445176, None)"
      ]
     },
     "execution_count": 137,
     "metadata": {},
     "output_type": "execute_result"
    }
   ],
   "source": [
    "precision_recall_fscore_support(y_test, prediction, pos_label=0, average=\"binary\")"
   ]
  },
  {
   "cell_type": "code",
   "execution_count": null,
   "id": "lFjRwDDROD68",
   "metadata": {
    "colab": {
     "base_uri": "https://localhost:8080/"
    },
    "executionInfo": {
     "elapsed": 261,
     "status": "ok",
     "timestamp": 1664924274483,
     "user": {
      "displayName": "Eduardo Andres",
      "userId": "05872806371588886564"
     },
     "user_tz": 180
    },
    "id": "lFjRwDDROD68",
    "outputId": "1ff2f834-d2ba-4c4d-b672-b3aaccf64941"
   },
   "outputs": [
    {
     "data": {
      "text/plain": [
       "(0.8793103448275862, 0.5151515151515151, 0.6496815286624203, None)"
      ]
     },
     "execution_count": 138,
     "metadata": {},
     "output_type": "execute_result"
    }
   ],
   "source": [
    "# Este es el ganador\n",
    "precision_recall_fscore_support(y_test, prediction, pos_label=1, average=\"binary\")"
   ]
  },
  {
   "cell_type": "code",
   "execution_count": null,
   "id": "WpLEU_AcOQSO",
   "metadata": {
    "colab": {
     "base_uri": "https://localhost:8080/"
    },
    "executionInfo": {
     "elapsed": 253,
     "status": "ok",
     "timestamp": 1664924326854,
     "user": {
      "displayName": "Eduardo Andres",
      "userId": "05872806371588886564"
     },
     "user_tz": 180
    },
    "id": "WpLEU_AcOQSO",
    "outputId": "108f5ee0-563e-4fe2-c47c-847b97b36e17"
   },
   "outputs": [
    {
     "data": {
      "text/plain": [
       "(0.8793103448275862, 0.5151515151515151, 0.6496815286624203, None)"
      ]
     },
     "execution_count": 139,
     "metadata": {},
     "output_type": "execute_result"
    }
   ],
   "source": [
    "# Este es el ganador\n",
    "precision_recall_fscore_support(y_test, prediction, average=\"binary\")"
   ]
  },
  {
   "cell_type": "markdown",
   "id": "27b6ddb3-576c-4238-9ec3-534aafee764b",
   "metadata": {
    "id": "27b6ddb3-576c-4238-9ec3-534aafee764b"
   },
   "source": [
    "2.8. One hot encode the Team feature. Make sure to drop the original column."
   ]
  },
  {
   "cell_type": "code",
   "execution_count": null,
   "id": "f4ca83ec-7aab-4cff-8ac7-1b224ff54dde",
   "metadata": {
    "id": "f4ca83ec-7aab-4cff-8ac7-1b224ff54dde"
   },
   "outputs": [],
   "source": [
    "# Instantiate the onehotencoder class \n",
    "enc = OneHotEncoder(sparse = False)#, drop='first')\n",
    "enc.fit(X_train[[\"team\"]])\n",
    "\n",
    "# transform X_train\n",
    "transformed_data = enc.transform(X_train[[\"team\"]])\n",
    "encoded_data = pd.DataFrame(transformed_data, index=X_train.index, columns = enc.get_feature_names_out())\n",
    "X_train = pd.concat([X_train, encoded_data], axis=1).drop([\"team\", 'team_TOT'], axis=1)\n",
    "\n",
    "# transform X_test\n",
    "transformed_data = enc.transform(X_test[[\"team\"]])\n",
    "encoded_data = pd.DataFrame(transformed_data, index=X_test.index, columns = enc.get_feature_names_out())\n",
    "X_test = pd.concat([X_test, encoded_data], axis=1).drop([\"team\", 'team_TOT'], axis=1)"
   ]
  },
  {
   "cell_type": "markdown",
   "id": "06240cb2-de21-4d4e-ae0e-0f90c3c0453a",
   "metadata": {
    "id": "06240cb2-de21-4d4e-ae0e-0f90c3c0453a"
   },
   "source": [
    "2.9. Train a logistic regresion model, find the best hyperparameters for: tols, C and max_iter. Try at least 4 values of each parameter. Remember to select based on f1 score, but report also precision and recall. Save the best performing model to use in the next steps.\n",
    "\n",
    "    - max_iter=100, Maximum number of iterations taken for the solvers to converge.\n",
    "    - C=1.0, float, Inverse of regularization strength; must be positive. Like in SVM, smaller values specify stronger regularization.\n",
    "    - tol=0.0001, float, Tolerance for stopping criteria.\n",
    "\n",
    "https://scikit-learn.org/stable/modules/generated/sklearn.metrics.precision_recall_fscore_support.html\n",
    "\n",
    "https://scikit-learn.org/stable/modules/generated/sklearn.linear_model.LogisticRegression.html"
   ]
  },
  {
   "cell_type": "code",
   "execution_count": null,
   "id": "bjuzKZzueV3Q",
   "metadata": {
    "colab": {
     "base_uri": "https://localhost:8080/"
    },
    "executionInfo": {
     "elapsed": 8155,
     "status": "ok",
     "timestamp": 1665000583481,
     "user": {
      "displayName": "Eduardo Andres",
      "userId": "05872806371588886564"
     },
     "user_tz": 180
    },
    "id": "bjuzKZzueV3Q",
    "outputId": "f72d5dab-9901-4f19-9973-19a1e551dc42"
   },
   "outputs": [
    {
     "data": {
      "text/plain": [
       "{'max_iter': 50,\n",
       " 'C': 5.0,\n",
       " 'tol': 0.0001,\n",
       " 'precision': 0.8333333333333334,\n",
       " 'recall': 0.6060606060606061,\n",
       " 'f1-score': 0.7017543859649124}"
      ]
     },
     "execution_count": 378,
     "metadata": {},
     "output_type": "execute_result"
    }
   ],
   "source": [
    "def search_best_hyperparameters(max_iter, C, tol, X_train, y_train, X_test, y_test):\n",
    "  # put the lists of hyperparameters into a dict\n",
    "  hyperparams_ordered_dict = OrderedDict({\"max_iter\":max_iter, \"C\":C, \"tol\":tol})\n",
    "  desired_metrics = [\"precision\", \"recall\", \"f1-score\"]\n",
    "  \n",
    "  # for each tuple of hyperparameters we train the model, predict, and store the results in the DataFrame named \"provisional_results\".\n",
    "  result = {\"max_iter\":0, \"C\":0, \"tol\":0, \"precision\":0, \"recall\":0, \"f1-score\":0}\n",
    "  for element in itertools.product(*hyperparams_ordered_dict.values()):\n",
    "    result_0 =  {llave:entrada for llave, entrada in zip(hyperparams_ordered_dict.keys(), element)}\n",
    "\n",
    "    model =  LogisticRegression(max_iter = result_0[\"max_iter\"],  C= result_0[\"C\"], tol = result_0[\"tol\"])\n",
    "    model.fit(X_train, y_train)\n",
    "    prediction = model.predict(X_test)\n",
    "    \n",
    "    metrics_tuple = precision_recall_fscore_support(y_test, prediction, average=\"binary\")[:3]\n",
    "    #(0.8793103448275862, 0.5151515151515151, 0.6496815286624203)\n",
    "\n",
    "    for a,b in zip(desired_metrics, metrics_tuple):\n",
    "      result_0[a] = b\n",
    "    \n",
    "    if result_0[\"f1-score\"] > result[\"f1-score\"]:\n",
    "      result = result_0\n",
    "\n",
    "  return result\n",
    "  #return provisional_results\n",
    "\n",
    "max_iter = [50, 100,150, 200]              # Maximum number of iterations taken for the solvers to converge.\n",
    "C = [5.0, 1.0, 0.1, 0.05]                   # Inverse of regularization strength; must be positive. Like in SVM, smaller values specify stronger regularization.\n",
    "                                            # I got the warnings when putting C too small C = 0.01\n",
    "tol = [0.0001, 0.0003, 0.0006, 0.001 ]     # Tolerance for stopping criteria\n",
    "\n",
    "result_logit = search_best_hyperparameters(max_iter, C, tol, X_train, y_train, X_test, y_test)\n",
    "best_logit = LogisticRegression(max_iter = result_logit[\"max_iter\"],  C= result_logit[\"C\"], tol = result_logit[\"tol\"])\n",
    "\n",
    "result_logit"
   ]
  },
  {
   "cell_type": "markdown",
   "id": "-iOz1o_EJnV_",
   "metadata": {
    "id": "-iOz1o_EJnV_"
   },
   "source": [
    "We store and train the best logisitc regressor."
   ]
  },
  {
   "cell_type": "code",
   "execution_count": null,
   "id": "tNsNGp5UIzz1",
   "metadata": {
    "colab": {
     "base_uri": "https://localhost:8080/"
    },
    "executionInfo": {
     "elapsed": 282,
     "status": "ok",
     "timestamp": 1665000603528,
     "user": {
      "displayName": "Eduardo Andres",
      "userId": "05872806371588886564"
     },
     "user_tz": 180
    },
    "id": "tNsNGp5UIzz1",
    "outputId": "d358e58f-89cd-4049-c315-f60d24313f8f"
   },
   "outputs": [
    {
     "data": {
      "text/plain": [
       "LogisticRegression(C=5.0, max_iter=50)"
      ]
     },
     "execution_count": 379,
     "metadata": {},
     "output_type": "execute_result"
    }
   ],
   "source": [
    "best_logit =  LogisticRegression(max_iter = result_logit[\"max_iter\"],  C= result_logit[\"C\"], tol = result_logit[\"tol\"])\n",
    "best_logit.fit(X_train, y_train)"
   ]
  },
  {
   "cell_type": "code",
   "execution_count": null,
   "id": "hxbHrRDDRkKD",
   "metadata": {
    "id": "hxbHrRDDRkKD"
   },
   "outputs": [],
   "source": [
    "#def search_best_hyperparameters(max_iter, C, tol, X_train, y_train, X_test, y_test):\n",
    "  # put the lists of hyperparameters into a dict\n",
    "  hyperparams_ordered_dict = OrderedDict({\"max_iter\":max_iter, \"C\":C, \"tol\":tol})\n",
    "\n",
    "  desired_metrics = [\"precision\", \"recall\", \"f1-score\"]\n",
    "\n",
    "  # name of the columns with metrics\n",
    "  metricas_names_list = [f\"{x[0]}-{x[1]}\" for x in itertools.product(*(y_train.unique(), desired_metrics))]\n",
    "  \n",
    "  # generate DataFrame, columns named after hyperparameters and metrics\n",
    "  provisional_results = pd.DataFrame(columns = list(hyperparams_ordered_dict.keys()) + metricas_names_list)\n",
    "  \n",
    "  # for each tuple of hyperparameters we train the model, predict, and store the results in the DataFrame named \"provisional_results\".\n",
    "  for element in itertools.product(*hyperparams_ordered_dict.values()):\n",
    "    result_0 =  {llave:entrada for llave, entrada in zip(hyperparams_ordered_dict.keys(), element)}\n",
    "    model =  LogisticRegression(max_iter = result_0[\"max_iter\"],  C= result_0[\"C\"], tol = result_0[\"tol\"])\n",
    "\n",
    "    model.fit(X_train, y_train)\n",
    "    prediction = model.predict(X_test)\n",
    "\n",
    "    metrics_dict = classification_report(y_test, prediction, output_dict=True)\n",
    "    \n",
    "    for x in itertools.product(*(y_train.unique(), desired_metrics)):\n",
    "      result_0[f\"{x[0]}-{x[1]}\"] = metrics_dict[str(x[0])][x[1]]\n",
    "\n",
    "    provisional_results = provisional_results.append(result_0, ignore_index=True)\n",
    "\n",
    "  # select row with best score\n",
    "  desired_dict = provisional_results.loc[provisional_results[\"1-f1-score\"] == provisional_results[\"1-f1-score\"].max()].reset_index().iloc[0,1:].to_dict()\n",
    "  desired_dict[\"hyperparameters\"] = {columna: desired_dict[columna] for columna in list(hyperparams_ordered_dict.keys()) }\n",
    "  for columna in list(hyperparams_ordered_dict.keys()):\n",
    "    del desired_dict[columna]\n",
    "  return desired_dict\n",
    "  #return provisional_results\n",
    "\n",
    "max_iter = [50, 100,150, 200]              # Maximum number of iterations taken for the solvers to converge.\n",
    "C = [5.0, 1.0, 0.1, 0.01]                   # Inverse of regularization strength; must be positive. Like in SVM, smaller values specify stronger regularization.\n",
    "tol = [0.0001, 0.0003, 0.0006, 0.001 ]     # Tolerance for stopping criteria\n",
    "\n",
    "#result_logit_2 = search_best_hyperparameters(max_iter, C, tol, X_train, y_train, X_test, y_test)"
   ]
  },
  {
   "cell_type": "markdown",
   "id": "xyVhwfh0FyTC",
   "metadata": {
    "id": "xyVhwfh0FyTC"
   },
   "source": [
    "I got the following warning while iterating."
   ]
  },
  {
   "cell_type": "code",
   "execution_count": null,
   "id": "X6iDPNKkEwTl",
   "metadata": {
    "id": "X6iDPNKkEwTl"
   },
   "outputs": [],
   "source": [
    "\"\"\"\n",
    "\n",
    "/usr/local/lib/python3.7/dist-packages/sklearn/metrics/_classification.py:1318: \n",
    "UndefinedMetricWarning: Precision and F-score are ill-defined and being set to 0.0 in labels with no predicted samples. \n",
    "Use `zero_division` parameter to control this behavior.\n",
    "\n",
    "  _warn_prf(average, modifier, msg_start, len(result))\n",
    "\n",
    "\"\"\""
   ]
  },
  {
   "cell_type": "markdown",
   "id": "9da9e93b-6265-44e4-89be-75e7178800e2",
   "metadata": {
    "id": "9da9e93b-6265-44e4-89be-75e7178800e2"
   },
   "source": [
    "Now we evaluate the results on a test dataset that has not being used to train or do hyperparameter tuning.\n",
    "\n",
    "Load the datasets into 2 dataframes."
   ]
  },
  {
   "cell_type": "code",
   "execution_count": null,
   "id": "79ea153a-b061-4df9-9c3d-1aaa0526c700",
   "metadata": {
    "id": "79ea153a-b061-4df9-9c3d-1aaa0526c700"
   },
   "outputs": [],
   "source": [
    "all_nba_2018_df = pd.read_csv(\"https://raw.githubusercontent.com/anyoneai/notebooks/main/datasets/all_nba_2018_dataset.csv\", index_col=0)\n",
    "all_nba_2018_selections = pd.read_csv(\"https://raw.githubusercontent.com/anyoneai/notebooks/main/datasets/all_nba_2018_selections.csv\", index_col=0)"
   ]
  },
  {
   "cell_type": "markdown",
   "id": "PqyDXYtKXgiY",
   "metadata": {
    "id": "PqyDXYtKXgiY"
   },
   "source": [
    "The 2 dataframes have the same index and number of rows."
   ]
  },
  {
   "cell_type": "code",
   "execution_count": null,
   "id": "0ybGN3AuXIX5",
   "metadata": {
    "colab": {
     "base_uri": "https://localhost:8080/"
    },
    "executionInfo": {
     "elapsed": 270,
     "status": "ok",
     "timestamp": 1665000277319,
     "user": {
      "displayName": "Eduardo Andres",
      "userId": "05872806371588886564"
     },
     "user_tz": 180
    },
    "id": "0ybGN3AuXIX5",
    "outputId": "3cc81a84-d5a3-4e63-e162-8007b985dc91"
   },
   "outputs": [
    {
     "data": {
      "text/plain": [
       "(True, True)"
      ]
     },
     "execution_count": 362,
     "metadata": {},
     "output_type": "execute_result"
    }
   ],
   "source": [
    "(all_nba_2018_df.index==all_nba_2018_selections.index).sum() == len(all_nba_2018_df), len(all_nba_2018_df) == len(all_nba_2018_selections)"
   ]
  },
  {
   "cell_type": "markdown",
   "id": "iWmFV9wbtvcH",
   "metadata": {
    "id": "iWmFV9wbtvcH"
   },
   "source": [
    "We want to scale the numerical features. \n",
    "From Exercise 2.5, we have the variable ***numeric_cols*** thas has the numeric columns(before encoding the TEAM column) of the dataset uset to train the models. This columns appear on ***all_nba_2018_df*** but on a different order.   "
   ]
  },
  {
   "cell_type": "code",
   "execution_count": null,
   "id": "sOxlnq84txZ7",
   "metadata": {
    "colab": {
     "base_uri": "https://localhost:8080/"
    },
    "executionInfo": {
     "elapsed": 286,
     "status": "ok",
     "timestamp": 1665000281210,
     "user": {
      "displayName": "Eduardo Andres",
      "userId": "05872806371588886564"
     },
     "user_tz": 180
    },
    "id": "sOxlnq84txZ7",
    "outputId": "2f441eae-a164-4e41-9f98-04b47446b15f"
   },
   "outputs": [
    {
     "data": {
      "text/plain": [
       "True"
      ]
     },
     "execution_count": 363,
     "metadata": {},
     "output_type": "execute_result"
    }
   ],
   "source": [
    "set(numeric_cols).issubset(set(all_nba_2018_df.columns))"
   ]
  },
  {
   "cell_type": "code",
   "execution_count": null,
   "id": "Ac89qi6rugOo",
   "metadata": {
    "colab": {
     "base_uri": "https://localhost:8080/"
    },
    "executionInfo": {
     "elapsed": 321,
     "status": "ok",
     "timestamp": 1665000283441,
     "user": {
      "displayName": "Eduardo Andres",
      "userId": "05872806371588886564"
     },
     "user_tz": 180
    },
    "id": "Ac89qi6rugOo",
    "outputId": "b864c1bc-41fa-44d5-cd94-413cea89d206"
   },
   "outputs": [
    {
     "data": {
      "text/plain": [
       "{'player',\n",
       " 'player_id',\n",
       " 'player_season',\n",
       " 'season',\n",
       " 'season_id',\n",
       " 'season_start',\n",
       " 'team'}"
      ]
     },
     "execution_count": 364,
     "metadata": {},
     "output_type": "execute_result"
    }
   ],
   "source": [
    "set(all_nba_2018_df.columns) - set(numeric_cols)"
   ]
  },
  {
   "cell_type": "markdown",
   "id": "_fcSQva0u7Cj",
   "metadata": {
    "id": "_fcSQva0u7Cj"
   },
   "source": [
    "With the exception of \"team\" (that we will encode), those remaining features won´t be used. \n",
    "\n",
    "For the numeric features, we must use the same MinMax scaler we used to train the model, also from Exercise 2.5"
   ]
  },
  {
   "cell_type": "code",
   "execution_count": null,
   "id": "O4p_ZROYvEjS",
   "metadata": {
    "colab": {
     "base_uri": "https://localhost:8080/"
    },
    "executionInfo": {
     "elapsed": 292,
     "status": "ok",
     "timestamp": 1665005714376,
     "user": {
      "displayName": "Eduardo Andres",
      "userId": "05872806371588886564"
     },
     "user_tz": 180
    },
    "id": "O4p_ZROYvEjS",
    "outputId": "4764f746-f368-4814-b720-3198f1b079bc"
   },
   "outputs": [
    {
     "name": "stderr",
     "output_type": "stream",
     "text": [
      "/usr/local/lib/python3.7/dist-packages/pandas/core/frame.py:3678: SettingWithCopyWarning: \n",
      "A value is trying to be set on a copy of a slice from a DataFrame.\n",
      "Try using .loc[row_indexer,col_indexer] = value instead\n",
      "\n",
      "See the caveats in the documentation: https://pandas.pydata.org/pandas-docs/stable/user_guide/indexing.html#returning-a-view-versus-a-copy\n",
      "  self[col] = igetitem(value, i)\n"
     ]
    }
   ],
   "source": [
    "backup_2018 =  all_nba_2018_df[['season_id', 'player_id', 'player_season', 'player', 'season','season_start' ]]\n",
    "\n",
    "all_nba_2018_df = all_nba_2018_df[numeric_cols + [\"team\"]]\n",
    "all_nba_2018_df[numeric_cols] = mm_scaler.transform(all_nba_2018_df[numeric_cols])"
   ]
  },
  {
   "cell_type": "markdown",
   "id": "I-AYs3DYcR3q",
   "metadata": {
    "id": "I-AYs3DYcR3q"
   },
   "source": [
    "Now we bring up the encoder from Exercise 2.8 to OneHotEncode \"team\". Remember that on Exercise 2.1 we have already dealt with the discrepancy in the number of teams for the datasets."
   ]
  },
  {
   "cell_type": "code",
   "execution_count": null,
   "id": "WrphXxcf-YjR",
   "metadata": {
    "id": "WrphXxcf-YjR"
   },
   "outputs": [],
   "source": [
    "# transform all_nba_2018_df with enc from Exercise 2.8\n",
    "transformed_data = enc.transform(all_nba_2018_df[[\"team\"]])\n",
    "encoded_data = pd.DataFrame(transformed_data, index = all_nba_2018_df.index, columns = enc.get_feature_names_out())\n",
    "all_nba_2018_df = pd.concat([all_nba_2018_df, encoded_data], axis=1).drop([\"team\", 'team_TOT'], axis=1)"
   ]
  },
  {
   "cell_type": "code",
   "execution_count": null,
   "id": "Y7fgqGQL2F5R",
   "metadata": {
    "colab": {
     "base_uri": "https://localhost:8080/"
    },
    "executionInfo": {
     "elapsed": 286,
     "status": "ok",
     "timestamp": 1665000505503,
     "user": {
      "displayName": "Eduardo Andres",
      "userId": "05872806371588886564"
     },
     "user_tz": 180
    },
    "id": "Y7fgqGQL2F5R",
    "outputId": "b98126b3-3e7b-4008-b42b-40b0ff50d392"
   },
   "outputs": [
    {
     "name": "stdout",
     "output_type": "stream",
     "text": [
      "Success!\n"
     ]
    }
   ],
   "source": [
    "if all_nba_2018_df.shape == (530, 44): # I have 44 columns instead of 54 because I worked with 30/31 teams from the beginning.\n",
    "  print('Success!')\n",
    "else:\n",
    "  raise ValueError('The shape is incorrect, please review your function')"
   ]
  },
  {
   "cell_type": "markdown",
   "id": "8b0bb296-b1b3-4ae4-b199-b11224c78a82",
   "metadata": {
    "id": "8b0bb296-b1b3-4ae4-b199-b11224c78a82"
   },
   "source": [
    "2.11. Predict and evaluate the model using precision, recall and f1 score. "
   ]
  },
  {
   "cell_type": "code",
   "execution_count": null,
   "id": "b00ddffa-3f09-4294-beb5-098c2d698af0",
   "metadata": {
    "colab": {
     "base_uri": "https://localhost:8080/"
    },
    "executionInfo": {
     "elapsed": 282,
     "status": "ok",
     "timestamp": 1665005723847,
     "user": {
      "displayName": "Eduardo Andres",
      "userId": "05872806371588886564"
     },
     "user_tz": 180
    },
    "id": "b00ddffa-3f09-4294-beb5-098c2d698af0",
    "outputId": "c59cf91b-d8cd-4413-bea7-7a0f3a42b295"
   },
   "outputs": [
    {
     "data": {
      "text/plain": [
       "{'precision': 0.6521739130434783,\n",
       " 'recall': 1.0,\n",
       " 'f1-score': 0.7894736842105263,\n",
       " 'support': 15}"
      ]
     },
     "execution_count": 489,
     "metadata": {},
     "output_type": "execute_result"
    }
   ],
   "source": [
    "prediction = best_logit.predict(all_nba_2018_df)\n",
    "\n",
    "classification_report(all_nba_2018_selections[[\"all_nba\"]], prediction,output_dict=True)[\"1\"]"
   ]
  },
  {
   "cell_type": "markdown",
   "id": "be98174e-4d1b-407d-8ecc-dd568f6e5368",
   "metadata": {
    "id": "be98174e-4d1b-407d-8ecc-dd568f6e5368"
   },
   "source": [
    "2.12. Analyze the results, what do you think it is happening?"
   ]
  },
  {
   "cell_type": "code",
   "execution_count": null,
   "id": "17f87aa8-dd84-462a-b26b-80400e4a87e3",
   "metadata": {
    "colab": {
     "base_uri": "https://localhost:8080/"
    },
    "executionInfo": {
     "elapsed": 268,
     "status": "ok",
     "timestamp": 1665000629111,
     "user": {
      "displayName": "Eduardo Andres",
      "userId": "05872806371588886564"
     },
     "user_tz": 180
    },
    "id": "17f87aa8-dd84-462a-b26b-80400e4a87e3",
    "outputId": "bc53e1a1-db57-411c-c979-412732bb87b6"
   },
   "outputs": [
    {
     "name": "stdout",
     "output_type": "stream",
     "text": [
      "[[0.95660377 0.01509434]\n",
      " [0.         0.02830189]]\n"
     ]
    }
   ],
   "source": [
    "print(confusion_matrix(all_nba_2018_selections[[\"all_nba\"]], prediction, normalize = \"all\"))"
   ]
  },
  {
   "cell_type": "code",
   "execution_count": null,
   "id": "bO4UeL0_xZZ0",
   "metadata": {
    "colab": {
     "base_uri": "https://localhost:8080/"
    },
    "executionInfo": {
     "elapsed": 380,
     "status": "ok",
     "timestamp": 1665000647718,
     "user": {
      "displayName": "Eduardo Andres",
      "userId": "05872806371588886564"
     },
     "user_tz": 180
    },
    "id": "bO4UeL0_xZZ0",
    "outputId": "79e524ac-0530-4235-916a-f12d48d8ac51"
   },
   "outputs": [
    {
     "name": "stdout",
     "output_type": "stream",
     "text": [
      "[[507   8]\n",
      " [  0  15]]\n"
     ]
    }
   ],
   "source": [
    "print(confusion_matrix(all_nba_2018_selections[[\"all_nba\"]], prediction))"
   ]
  },
  {
   "cell_type": "markdown",
   "id": "zFZcjFKCPPvg",
   "metadata": {
    "id": "zFZcjFKCPPvg"
   },
   "source": [
    "The dataset is naturally imbalanced, less than 3% of players have been selected All-NBA. That is why we don´t use accuracy in the first place.\n",
    "\n",
    "We are showing the specific metrics for the sub-population of All-NBA players, the one with the far less samples, and the most important to work on given the imbalance on the whole dataset and what we are trying to predict.\n",
    "\n",
    "We have no false negatives, each All-NBA player has been rightly predicted. So the recall is 1.\n",
    "\n",
    "With the exception of 8 false positives, the model works just fine. But at the same time, since there are only 15 real positives, the precision is of only 65%.\n",
    "\n",
    "The F1 of 79% shows exactly that balance between the not-so-great precision, and the perfect recall.\n",
    "\n",
    "\n",
    "\n"
   ]
  },
  {
   "cell_type": "markdown",
   "id": "77a8c607-5df7-43d2-8365-cbbb6f2b93e1",
   "metadata": {
    "id": "77a8c607-5df7-43d2-8365-cbbb6f2b93e1"
   },
   "source": [
    "----\n",
    "\n",
    "# Creating our custom Classifier\n",
    "\n",
    "----"
   ]
  },
  {
   "cell_type": "markdown",
   "id": "21dc0d0a-1d15-4f9e-b3ed-f83df1f51ce0",
   "metadata": {
    "id": "21dc0d0a-1d15-4f9e-b3ed-f83df1f51ce0"
   },
   "source": [
    "Each year, exactly 15 players are selected to the All-NBA teams. But our current model does not limit the number of positive classified players. So, we will have to wrap our model in a custom classifier that only returns as positive the 15 players with the higher probabilities. \n",
    "Fortunately, our chosen model provides access to the underlying probabilities."
   ]
  },
  {
   "cell_type": "markdown",
   "id": "e22326d3-c1ae-475b-9b31-7b02876f8bbc",
   "metadata": {
    "id": "e22326d3-c1ae-475b-9b31-7b02876f8bbc"
   },
   "source": [
    "Using the trained model, predict probabilities for all rows in the dataset, and create a new column that has the probability that the player was selected as all nba."
   ]
  },
  {
   "cell_type": "code",
   "execution_count": null,
   "id": "fddf0631-d676-485d-9748-a688e854c9f2",
   "metadata": {
    "id": "fddf0631-d676-485d-9748-a688e854c9f2"
   },
   "outputs": [],
   "source": [
    "all_nba_2018_selections[\"all_nba_probability\"] = best_logit.predict_proba(all_nba_2018_df)[:,1]"
   ]
  },
  {
   "cell_type": "code",
   "execution_count": null,
   "id": "l0ZIjtgNr8aq",
   "metadata": {
    "colab": {
     "base_uri": "https://localhost:8080/",
     "height": 725
    },
    "executionInfo": {
     "elapsed": 314,
     "status": "ok",
     "timestamp": 1665005735721,
     "user": {
      "displayName": "Eduardo Andres",
      "userId": "05872806371588886564"
     },
     "user_tz": 180
    },
    "id": "l0ZIjtgNr8aq",
    "outputId": "e403b2c7-f23d-4003-c66b-4094b7345d39"
   },
   "outputs": [
    {
     "name": "stdout",
     "output_type": "stream",
     "text": [
      "The 15 selections appear among the top 21 probabilities.\n"
     ]
    },
    {
     "data": {
      "text/html": [
       "\n",
       "  <div id=\"df-9cd57476-adb5-49d5-9b1d-eadd60e5c2de\">\n",
       "    <div class=\"colab-df-container\">\n",
       "      <div>\n",
       "<style scoped>\n",
       "    .dataframe tbody tr th:only-of-type {\n",
       "        vertical-align: middle;\n",
       "    }\n",
       "\n",
       "    .dataframe tbody tr th {\n",
       "        vertical-align: top;\n",
       "    }\n",
       "\n",
       "    .dataframe thead th {\n",
       "        text-align: right;\n",
       "    }\n",
       "</style>\n",
       "<table border=\"1\" class=\"dataframe\">\n",
       "  <thead>\n",
       "    <tr style=\"text-align: right;\">\n",
       "      <th></th>\n",
       "      <th>player_id</th>\n",
       "      <th>player</th>\n",
       "      <th>all_nba</th>\n",
       "      <th>all_nba_probability</th>\n",
       "    </tr>\n",
       "  </thead>\n",
       "  <tbody>\n",
       "    <tr>\n",
       "      <th>5604</th>\n",
       "      <td>1024</td>\n",
       "      <td>James Harden</td>\n",
       "      <td>1</td>\n",
       "      <td>1.0</td>\n",
       "    </tr>\n",
       "    <tr>\n",
       "      <th>453</th>\n",
       "      <td>83</td>\n",
       "      <td>Giannis Antetokounmpo</td>\n",
       "      <td>1</td>\n",
       "      <td>1.0</td>\n",
       "    </tr>\n",
       "    <tr>\n",
       "      <th>6857</th>\n",
       "      <td>1240</td>\n",
       "      <td>LeBron James</td>\n",
       "      <td>1</td>\n",
       "      <td>1.0</td>\n",
       "    </tr>\n",
       "    <tr>\n",
       "      <th>14479</th>\n",
       "      <td>2648</td>\n",
       "      <td>Russell Westbrook</td>\n",
       "      <td>1</td>\n",
       "      <td>1.0</td>\n",
       "    </tr>\n",
       "    <tr>\n",
       "      <th>3401</th>\n",
       "      <td>587</td>\n",
       "      <td>Anthony Davis</td>\n",
       "      <td>0</td>\n",
       "      <td>0.9</td>\n",
       "    </tr>\n",
       "    <tr>\n",
       "      <th>4145</th>\n",
       "      <td>740</td>\n",
       "      <td>Joel Embiid</td>\n",
       "      <td>1</td>\n",
       "      <td>0.9</td>\n",
       "    </tr>\n",
       "    <tr>\n",
       "      <th>4895</th>\n",
       "      <td>884</td>\n",
       "      <td>Paul George</td>\n",
       "      <td>1</td>\n",
       "      <td>0.9</td>\n",
       "    </tr>\n",
       "    <tr>\n",
       "      <th>3908</th>\n",
       "      <td>695</td>\n",
       "      <td>Kevin Durant</td>\n",
       "      <td>1</td>\n",
       "      <td>0.9</td>\n",
       "    </tr>\n",
       "    <tr>\n",
       "      <th>14027</th>\n",
       "      <td>2572</td>\n",
       "      <td>Nikola Vucevic</td>\n",
       "      <td>0</td>\n",
       "      <td>0.9</td>\n",
       "    </tr>\n",
       "    <tr>\n",
       "      <th>168</th>\n",
       "      <td>30</td>\n",
       "      <td>LaMarcus Aldridge</td>\n",
       "      <td>0</td>\n",
       "      <td>0.8</td>\n",
       "    </tr>\n",
       "    <tr>\n",
       "      <th>5399</th>\n",
       "      <td>979</td>\n",
       "      <td>Blake Griffin</td>\n",
       "      <td>1</td>\n",
       "      <td>0.8</td>\n",
       "    </tr>\n",
       "    <tr>\n",
       "      <th>8206</th>\n",
       "      <td>1511</td>\n",
       "      <td>Damian Lillard</td>\n",
       "      <td>1</td>\n",
       "      <td>0.8</td>\n",
       "    </tr>\n",
       "    <tr>\n",
       "      <th>3794</th>\n",
       "      <td>682</td>\n",
       "      <td>Andre Drummond</td>\n",
       "      <td>0</td>\n",
       "      <td>0.8</td>\n",
       "    </tr>\n",
       "    <tr>\n",
       "      <th>3538</th>\n",
       "      <td>633</td>\n",
       "      <td>DeMar DeRozan</td>\n",
       "      <td>0</td>\n",
       "      <td>0.7</td>\n",
       "    </tr>\n",
       "    <tr>\n",
       "      <th>5016</th>\n",
       "      <td>909</td>\n",
       "      <td>Rudy Gobert</td>\n",
       "      <td>1</td>\n",
       "      <td>0.7</td>\n",
       "    </tr>\n",
       "    <tr>\n",
       "      <th>13673</th>\n",
       "      <td>2501</td>\n",
       "      <td>Karl-Anthony Towns</td>\n",
       "      <td>0</td>\n",
       "      <td>0.7</td>\n",
       "    </tr>\n",
       "    <tr>\n",
       "      <th>8103</th>\n",
       "      <td>1492</td>\n",
       "      <td>Kawhi Leonard</td>\n",
       "      <td>1</td>\n",
       "      <td>0.7</td>\n",
       "    </tr>\n",
       "    <tr>\n",
       "      <th>14132</th>\n",
       "      <td>2585</td>\n",
       "      <td>Kemba Walker</td>\n",
       "      <td>1</td>\n",
       "      <td>0.7</td>\n",
       "    </tr>\n",
       "    <tr>\n",
       "      <th>3168</th>\n",
       "      <td>570</td>\n",
       "      <td>Stephen Curry</td>\n",
       "      <td>1</td>\n",
       "      <td>0.7</td>\n",
       "    </tr>\n",
       "    <tr>\n",
       "      <th>7225</th>\n",
       "      <td>1315</td>\n",
       "      <td>Nikola Jokic</td>\n",
       "      <td>1</td>\n",
       "      <td>0.6</td>\n",
       "    </tr>\n",
       "    <tr>\n",
       "      <th>6634</th>\n",
       "      <td>1204</td>\n",
       "      <td>Kyrie Irving</td>\n",
       "      <td>1</td>\n",
       "      <td>0.5</td>\n",
       "    </tr>\n",
       "  </tbody>\n",
       "</table>\n",
       "</div>\n",
       "      <button class=\"colab-df-convert\" onclick=\"convertToInteractive('df-9cd57476-adb5-49d5-9b1d-eadd60e5c2de')\"\n",
       "              title=\"Convert this dataframe to an interactive table.\"\n",
       "              style=\"display:none;\">\n",
       "        \n",
       "  <svg xmlns=\"http://www.w3.org/2000/svg\" height=\"24px\"viewBox=\"0 0 24 24\"\n",
       "       width=\"24px\">\n",
       "    <path d=\"M0 0h24v24H0V0z\" fill=\"none\"/>\n",
       "    <path d=\"M18.56 5.44l.94 2.06.94-2.06 2.06-.94-2.06-.94-.94-2.06-.94 2.06-2.06.94zm-11 1L8.5 8.5l.94-2.06 2.06-.94-2.06-.94L8.5 2.5l-.94 2.06-2.06.94zm10 10l.94 2.06.94-2.06 2.06-.94-2.06-.94-.94-2.06-.94 2.06-2.06.94z\"/><path d=\"M17.41 7.96l-1.37-1.37c-.4-.4-.92-.59-1.43-.59-.52 0-1.04.2-1.43.59L10.3 9.45l-7.72 7.72c-.78.78-.78 2.05 0 2.83L4 21.41c.39.39.9.59 1.41.59.51 0 1.02-.2 1.41-.59l7.78-7.78 2.81-2.81c.8-.78.8-2.07 0-2.86zM5.41 20L4 18.59l7.72-7.72 1.47 1.35L5.41 20z\"/>\n",
       "  </svg>\n",
       "      </button>\n",
       "      \n",
       "  <style>\n",
       "    .colab-df-container {\n",
       "      display:flex;\n",
       "      flex-wrap:wrap;\n",
       "      gap: 12px;\n",
       "    }\n",
       "\n",
       "    .colab-df-convert {\n",
       "      background-color: #E8F0FE;\n",
       "      border: none;\n",
       "      border-radius: 50%;\n",
       "      cursor: pointer;\n",
       "      display: none;\n",
       "      fill: #1967D2;\n",
       "      height: 32px;\n",
       "      padding: 0 0 0 0;\n",
       "      width: 32px;\n",
       "    }\n",
       "\n",
       "    .colab-df-convert:hover {\n",
       "      background-color: #E2EBFA;\n",
       "      box-shadow: 0px 1px 2px rgba(60, 64, 67, 0.3), 0px 1px 3px 1px rgba(60, 64, 67, 0.15);\n",
       "      fill: #174EA6;\n",
       "    }\n",
       "\n",
       "    [theme=dark] .colab-df-convert {\n",
       "      background-color: #3B4455;\n",
       "      fill: #D2E3FC;\n",
       "    }\n",
       "\n",
       "    [theme=dark] .colab-df-convert:hover {\n",
       "      background-color: #434B5C;\n",
       "      box-shadow: 0px 1px 3px 1px rgba(0, 0, 0, 0.15);\n",
       "      filter: drop-shadow(0px 1px 2px rgba(0, 0, 0, 0.3));\n",
       "      fill: #FFFFFF;\n",
       "    }\n",
       "  </style>\n",
       "\n",
       "      <script>\n",
       "        const buttonEl =\n",
       "          document.querySelector('#df-9cd57476-adb5-49d5-9b1d-eadd60e5c2de button.colab-df-convert');\n",
       "        buttonEl.style.display =\n",
       "          google.colab.kernel.accessAllowed ? 'block' : 'none';\n",
       "\n",
       "        async function convertToInteractive(key) {\n",
       "          const element = document.querySelector('#df-9cd57476-adb5-49d5-9b1d-eadd60e5c2de');\n",
       "          const dataTable =\n",
       "            await google.colab.kernel.invokeFunction('convertToInteractive',\n",
       "                                                     [key], {});\n",
       "          if (!dataTable) return;\n",
       "\n",
       "          const docLinkHtml = 'Like what you see? Visit the ' +\n",
       "            '<a target=\"_blank\" href=https://colab.research.google.com/notebooks/data_table.ipynb>data table notebook</a>'\n",
       "            + ' to learn more about interactive tables.';\n",
       "          element.innerHTML = '';\n",
       "          dataTable['output_type'] = 'display_data';\n",
       "          await google.colab.output.renderOutput(dataTable, element);\n",
       "          const docLink = document.createElement('div');\n",
       "          docLink.innerHTML = docLinkHtml;\n",
       "          element.appendChild(docLink);\n",
       "        }\n",
       "      </script>\n",
       "    </div>\n",
       "  </div>\n",
       "  "
      ],
      "text/plain": [
       "       player_id                 player  all_nba  all_nba_probability\n",
       "5604        1024           James Harden        1                  1.0\n",
       "453           83  Giannis Antetokounmpo        1                  1.0\n",
       "6857        1240           LeBron James        1                  1.0\n",
       "14479       2648      Russell Westbrook        1                  1.0\n",
       "3401         587          Anthony Davis        0                  0.9\n",
       "4145         740            Joel Embiid        1                  0.9\n",
       "4895         884            Paul George        1                  0.9\n",
       "3908         695           Kevin Durant        1                  0.9\n",
       "14027       2572         Nikola Vucevic        0                  0.9\n",
       "168           30      LaMarcus Aldridge        0                  0.8\n",
       "5399         979          Blake Griffin        1                  0.8\n",
       "8206        1511         Damian Lillard        1                  0.8\n",
       "3794         682         Andre Drummond        0                  0.8\n",
       "3538         633          DeMar DeRozan        0                  0.7\n",
       "5016         909            Rudy Gobert        1                  0.7\n",
       "13673       2501     Karl-Anthony Towns        0                  0.7\n",
       "8103        1492          Kawhi Leonard        1                  0.7\n",
       "14132       2585           Kemba Walker        1                  0.7\n",
       "3168         570          Stephen Curry        1                  0.7\n",
       "7225        1315           Nikola Jokic        1                  0.6\n",
       "6634        1204           Kyrie Irving        1                  0.5"
      ]
     },
     "execution_count": 491,
     "metadata": {},
     "output_type": "execute_result"
    }
   ],
   "source": [
    "threshold_proba = all_nba_2018_selections.loc[all_nba_2018_selections.all_nba == 1].all_nba_probability.min()\n",
    "\n",
    "print(\"The 15 selections appear among the top {} probabilities.\".format(len(all_nba_2018_selections.loc[all_nba_2018_selections.all_nba_probability >= threshold_proba])))\n",
    "\n",
    "all_nba_2018_selections.sort_values(\"all_nba_probability\", ascending=False).loc[all_nba_2018_selections.all_nba_probability >= threshold_proba]"
   ]
  },
  {
   "cell_type": "markdown",
   "id": "sZWioOGWsoWu",
   "metadata": {
    "id": "sZWioOGWsoWu"
   },
   "source": [
    "2.15"
   ]
  },
  {
   "cell_type": "markdown",
   "id": "aC4XkoRlu5gF",
   "metadata": {
    "id": "aC4XkoRlu5gF"
   },
   "source": [
    "Players actually selected from the all_nba_2018_selections dataset"
   ]
  },
  {
   "cell_type": "code",
   "execution_count": null,
   "id": "5seh5hgOu_ku",
   "metadata": {
    "colab": {
     "base_uri": "https://localhost:8080/",
     "height": 520
    },
    "executionInfo": {
     "elapsed": 297,
     "status": "ok",
     "timestamp": 1665005741171,
     "user": {
      "displayName": "Eduardo Andres",
      "userId": "05872806371588886564"
     },
     "user_tz": 180
    },
    "id": "5seh5hgOu_ku",
    "outputId": "87deebf8-b4c7-4e2c-a61a-f148b7fc700a"
   },
   "outputs": [
    {
     "data": {
      "text/html": [
       "\n",
       "  <div id=\"df-9cb7bed5-905a-4709-a56f-1be7543bfe94\">\n",
       "    <div class=\"colab-df-container\">\n",
       "      <div>\n",
       "<style scoped>\n",
       "    .dataframe tbody tr th:only-of-type {\n",
       "        vertical-align: middle;\n",
       "    }\n",
       "\n",
       "    .dataframe tbody tr th {\n",
       "        vertical-align: top;\n",
       "    }\n",
       "\n",
       "    .dataframe thead th {\n",
       "        text-align: right;\n",
       "    }\n",
       "</style>\n",
       "<table border=\"1\" class=\"dataframe\">\n",
       "  <thead>\n",
       "    <tr style=\"text-align: right;\">\n",
       "      <th></th>\n",
       "      <th>player_id</th>\n",
       "      <th>player</th>\n",
       "      <th>all_nba</th>\n",
       "      <th>all_nba_probability</th>\n",
       "    </tr>\n",
       "  </thead>\n",
       "  <tbody>\n",
       "    <tr>\n",
       "      <th>453</th>\n",
       "      <td>83</td>\n",
       "      <td>Giannis Antetokounmpo</td>\n",
       "      <td>1</td>\n",
       "      <td>1.0</td>\n",
       "    </tr>\n",
       "    <tr>\n",
       "      <th>3168</th>\n",
       "      <td>570</td>\n",
       "      <td>Stephen Curry</td>\n",
       "      <td>1</td>\n",
       "      <td>0.7</td>\n",
       "    </tr>\n",
       "    <tr>\n",
       "      <th>3908</th>\n",
       "      <td>695</td>\n",
       "      <td>Kevin Durant</td>\n",
       "      <td>1</td>\n",
       "      <td>0.9</td>\n",
       "    </tr>\n",
       "    <tr>\n",
       "      <th>4145</th>\n",
       "      <td>740</td>\n",
       "      <td>Joel Embiid</td>\n",
       "      <td>1</td>\n",
       "      <td>0.9</td>\n",
       "    </tr>\n",
       "    <tr>\n",
       "      <th>4895</th>\n",
       "      <td>884</td>\n",
       "      <td>Paul George</td>\n",
       "      <td>1</td>\n",
       "      <td>0.9</td>\n",
       "    </tr>\n",
       "    <tr>\n",
       "      <th>5016</th>\n",
       "      <td>909</td>\n",
       "      <td>Rudy Gobert</td>\n",
       "      <td>1</td>\n",
       "      <td>0.7</td>\n",
       "    </tr>\n",
       "    <tr>\n",
       "      <th>5399</th>\n",
       "      <td>979</td>\n",
       "      <td>Blake Griffin</td>\n",
       "      <td>1</td>\n",
       "      <td>0.8</td>\n",
       "    </tr>\n",
       "    <tr>\n",
       "      <th>5604</th>\n",
       "      <td>1024</td>\n",
       "      <td>James Harden</td>\n",
       "      <td>1</td>\n",
       "      <td>1.0</td>\n",
       "    </tr>\n",
       "    <tr>\n",
       "      <th>6634</th>\n",
       "      <td>1204</td>\n",
       "      <td>Kyrie Irving</td>\n",
       "      <td>1</td>\n",
       "      <td>0.5</td>\n",
       "    </tr>\n",
       "    <tr>\n",
       "      <th>6857</th>\n",
       "      <td>1240</td>\n",
       "      <td>LeBron James</td>\n",
       "      <td>1</td>\n",
       "      <td>1.0</td>\n",
       "    </tr>\n",
       "    <tr>\n",
       "      <th>7225</th>\n",
       "      <td>1315</td>\n",
       "      <td>Nikola Jokic</td>\n",
       "      <td>1</td>\n",
       "      <td>0.6</td>\n",
       "    </tr>\n",
       "    <tr>\n",
       "      <th>8103</th>\n",
       "      <td>1492</td>\n",
       "      <td>Kawhi Leonard</td>\n",
       "      <td>1</td>\n",
       "      <td>0.7</td>\n",
       "    </tr>\n",
       "    <tr>\n",
       "      <th>8206</th>\n",
       "      <td>1511</td>\n",
       "      <td>Damian Lillard</td>\n",
       "      <td>1</td>\n",
       "      <td>0.8</td>\n",
       "    </tr>\n",
       "    <tr>\n",
       "      <th>14132</th>\n",
       "      <td>2585</td>\n",
       "      <td>Kemba Walker</td>\n",
       "      <td>1</td>\n",
       "      <td>0.7</td>\n",
       "    </tr>\n",
       "    <tr>\n",
       "      <th>14479</th>\n",
       "      <td>2648</td>\n",
       "      <td>Russell Westbrook</td>\n",
       "      <td>1</td>\n",
       "      <td>1.0</td>\n",
       "    </tr>\n",
       "  </tbody>\n",
       "</table>\n",
       "</div>\n",
       "      <button class=\"colab-df-convert\" onclick=\"convertToInteractive('df-9cb7bed5-905a-4709-a56f-1be7543bfe94')\"\n",
       "              title=\"Convert this dataframe to an interactive table.\"\n",
       "              style=\"display:none;\">\n",
       "        \n",
       "  <svg xmlns=\"http://www.w3.org/2000/svg\" height=\"24px\"viewBox=\"0 0 24 24\"\n",
       "       width=\"24px\">\n",
       "    <path d=\"M0 0h24v24H0V0z\" fill=\"none\"/>\n",
       "    <path d=\"M18.56 5.44l.94 2.06.94-2.06 2.06-.94-2.06-.94-.94-2.06-.94 2.06-2.06.94zm-11 1L8.5 8.5l.94-2.06 2.06-.94-2.06-.94L8.5 2.5l-.94 2.06-2.06.94zm10 10l.94 2.06.94-2.06 2.06-.94-2.06-.94-.94-2.06-.94 2.06-2.06.94z\"/><path d=\"M17.41 7.96l-1.37-1.37c-.4-.4-.92-.59-1.43-.59-.52 0-1.04.2-1.43.59L10.3 9.45l-7.72 7.72c-.78.78-.78 2.05 0 2.83L4 21.41c.39.39.9.59 1.41.59.51 0 1.02-.2 1.41-.59l7.78-7.78 2.81-2.81c.8-.78.8-2.07 0-2.86zM5.41 20L4 18.59l7.72-7.72 1.47 1.35L5.41 20z\"/>\n",
       "  </svg>\n",
       "      </button>\n",
       "      \n",
       "  <style>\n",
       "    .colab-df-container {\n",
       "      display:flex;\n",
       "      flex-wrap:wrap;\n",
       "      gap: 12px;\n",
       "    }\n",
       "\n",
       "    .colab-df-convert {\n",
       "      background-color: #E8F0FE;\n",
       "      border: none;\n",
       "      border-radius: 50%;\n",
       "      cursor: pointer;\n",
       "      display: none;\n",
       "      fill: #1967D2;\n",
       "      height: 32px;\n",
       "      padding: 0 0 0 0;\n",
       "      width: 32px;\n",
       "    }\n",
       "\n",
       "    .colab-df-convert:hover {\n",
       "      background-color: #E2EBFA;\n",
       "      box-shadow: 0px 1px 2px rgba(60, 64, 67, 0.3), 0px 1px 3px 1px rgba(60, 64, 67, 0.15);\n",
       "      fill: #174EA6;\n",
       "    }\n",
       "\n",
       "    [theme=dark] .colab-df-convert {\n",
       "      background-color: #3B4455;\n",
       "      fill: #D2E3FC;\n",
       "    }\n",
       "\n",
       "    [theme=dark] .colab-df-convert:hover {\n",
       "      background-color: #434B5C;\n",
       "      box-shadow: 0px 1px 3px 1px rgba(0, 0, 0, 0.15);\n",
       "      filter: drop-shadow(0px 1px 2px rgba(0, 0, 0, 0.3));\n",
       "      fill: #FFFFFF;\n",
       "    }\n",
       "  </style>\n",
       "\n",
       "      <script>\n",
       "        const buttonEl =\n",
       "          document.querySelector('#df-9cb7bed5-905a-4709-a56f-1be7543bfe94 button.colab-df-convert');\n",
       "        buttonEl.style.display =\n",
       "          google.colab.kernel.accessAllowed ? 'block' : 'none';\n",
       "\n",
       "        async function convertToInteractive(key) {\n",
       "          const element = document.querySelector('#df-9cb7bed5-905a-4709-a56f-1be7543bfe94');\n",
       "          const dataTable =\n",
       "            await google.colab.kernel.invokeFunction('convertToInteractive',\n",
       "                                                     [key], {});\n",
       "          if (!dataTable) return;\n",
       "\n",
       "          const docLinkHtml = 'Like what you see? Visit the ' +\n",
       "            '<a target=\"_blank\" href=https://colab.research.google.com/notebooks/data_table.ipynb>data table notebook</a>'\n",
       "            + ' to learn more about interactive tables.';\n",
       "          element.innerHTML = '';\n",
       "          dataTable['output_type'] = 'display_data';\n",
       "          await google.colab.output.renderOutput(dataTable, element);\n",
       "          const docLink = document.createElement('div');\n",
       "          docLink.innerHTML = docLinkHtml;\n",
       "          element.appendChild(docLink);\n",
       "        }\n",
       "      </script>\n",
       "    </div>\n",
       "  </div>\n",
       "  "
      ],
      "text/plain": [
       "       player_id                 player  all_nba  all_nba_probability\n",
       "453           83  Giannis Antetokounmpo        1                  1.0\n",
       "3168         570          Stephen Curry        1                  0.7\n",
       "3908         695           Kevin Durant        1                  0.9\n",
       "4145         740            Joel Embiid        1                  0.9\n",
       "4895         884            Paul George        1                  0.9\n",
       "5016         909            Rudy Gobert        1                  0.7\n",
       "5399         979          Blake Griffin        1                  0.8\n",
       "5604        1024           James Harden        1                  1.0\n",
       "6634        1204           Kyrie Irving        1                  0.5\n",
       "6857        1240           LeBron James        1                  1.0\n",
       "7225        1315           Nikola Jokic        1                  0.6\n",
       "8103        1492          Kawhi Leonard        1                  0.7\n",
       "8206        1511         Damian Lillard        1                  0.8\n",
       "14132       2585           Kemba Walker        1                  0.7\n",
       "14479       2648      Russell Westbrook        1                  1.0"
      ]
     },
     "execution_count": 492,
     "metadata": {},
     "output_type": "execute_result"
    }
   ],
   "source": [
    "all_nba_2018_selections.loc[all_nba_2018_selections.all_nba == 1]"
   ]
  },
  {
   "cell_type": "markdown",
   "id": "Ff_kRKD_uBea",
   "metadata": {
    "id": "Ff_kRKD_uBea"
   },
   "source": [
    "Players actually selected missing from OUR predictions:"
   ]
  },
  {
   "cell_type": "code",
   "execution_count": null,
   "id": "NuDxafywuUcx",
   "metadata": {
    "colab": {
     "base_uri": "https://localhost:8080/",
     "height": 206
    },
    "executionInfo": {
     "elapsed": 306,
     "status": "ok",
     "timestamp": 1665005744081,
     "user": {
      "displayName": "Eduardo Andres",
      "userId": "05872806371588886564"
     },
     "user_tz": 180
    },
    "id": "NuDxafywuUcx",
    "outputId": "c4cc92e1-bd87-4888-a655-6e40dfb04a5c"
   },
   "outputs": [
    {
     "data": {
      "text/html": [
       "\n",
       "  <div id=\"df-5adc7e44-d994-4269-8499-e05343534e4b\">\n",
       "    <div class=\"colab-df-container\">\n",
       "      <div>\n",
       "<style scoped>\n",
       "    .dataframe tbody tr th:only-of-type {\n",
       "        vertical-align: middle;\n",
       "    }\n",
       "\n",
       "    .dataframe tbody tr th {\n",
       "        vertical-align: top;\n",
       "    }\n",
       "\n",
       "    .dataframe thead th {\n",
       "        text-align: right;\n",
       "    }\n",
       "</style>\n",
       "<table border=\"1\" class=\"dataframe\">\n",
       "  <thead>\n",
       "    <tr style=\"text-align: right;\">\n",
       "      <th></th>\n",
       "      <th>player_id</th>\n",
       "      <th>player</th>\n",
       "      <th>all_nba</th>\n",
       "      <th>all_nba_probability</th>\n",
       "    </tr>\n",
       "  </thead>\n",
       "  <tbody>\n",
       "    <tr>\n",
       "      <th>6634</th>\n",
       "      <td>1204</td>\n",
       "      <td>Kyrie Irving</td>\n",
       "      <td>1</td>\n",
       "      <td>0.5</td>\n",
       "    </tr>\n",
       "    <tr>\n",
       "      <th>7225</th>\n",
       "      <td>1315</td>\n",
       "      <td>Nikola Jokic</td>\n",
       "      <td>1</td>\n",
       "      <td>0.6</td>\n",
       "    </tr>\n",
       "    <tr>\n",
       "      <th>3168</th>\n",
       "      <td>570</td>\n",
       "      <td>Stephen Curry</td>\n",
       "      <td>1</td>\n",
       "      <td>0.7</td>\n",
       "    </tr>\n",
       "    <tr>\n",
       "      <th>14132</th>\n",
       "      <td>2585</td>\n",
       "      <td>Kemba Walker</td>\n",
       "      <td>1</td>\n",
       "      <td>0.7</td>\n",
       "    </tr>\n",
       "    <tr>\n",
       "      <th>8103</th>\n",
       "      <td>1492</td>\n",
       "      <td>Kawhi Leonard</td>\n",
       "      <td>1</td>\n",
       "      <td>0.7</td>\n",
       "    </tr>\n",
       "  </tbody>\n",
       "</table>\n",
       "</div>\n",
       "      <button class=\"colab-df-convert\" onclick=\"convertToInteractive('df-5adc7e44-d994-4269-8499-e05343534e4b')\"\n",
       "              title=\"Convert this dataframe to an interactive table.\"\n",
       "              style=\"display:none;\">\n",
       "        \n",
       "  <svg xmlns=\"http://www.w3.org/2000/svg\" height=\"24px\"viewBox=\"0 0 24 24\"\n",
       "       width=\"24px\">\n",
       "    <path d=\"M0 0h24v24H0V0z\" fill=\"none\"/>\n",
       "    <path d=\"M18.56 5.44l.94 2.06.94-2.06 2.06-.94-2.06-.94-.94-2.06-.94 2.06-2.06.94zm-11 1L8.5 8.5l.94-2.06 2.06-.94-2.06-.94L8.5 2.5l-.94 2.06-2.06.94zm10 10l.94 2.06.94-2.06 2.06-.94-2.06-.94-.94-2.06-.94 2.06-2.06.94z\"/><path d=\"M17.41 7.96l-1.37-1.37c-.4-.4-.92-.59-1.43-.59-.52 0-1.04.2-1.43.59L10.3 9.45l-7.72 7.72c-.78.78-.78 2.05 0 2.83L4 21.41c.39.39.9.59 1.41.59.51 0 1.02-.2 1.41-.59l7.78-7.78 2.81-2.81c.8-.78.8-2.07 0-2.86zM5.41 20L4 18.59l7.72-7.72 1.47 1.35L5.41 20z\"/>\n",
       "  </svg>\n",
       "      </button>\n",
       "      \n",
       "  <style>\n",
       "    .colab-df-container {\n",
       "      display:flex;\n",
       "      flex-wrap:wrap;\n",
       "      gap: 12px;\n",
       "    }\n",
       "\n",
       "    .colab-df-convert {\n",
       "      background-color: #E8F0FE;\n",
       "      border: none;\n",
       "      border-radius: 50%;\n",
       "      cursor: pointer;\n",
       "      display: none;\n",
       "      fill: #1967D2;\n",
       "      height: 32px;\n",
       "      padding: 0 0 0 0;\n",
       "      width: 32px;\n",
       "    }\n",
       "\n",
       "    .colab-df-convert:hover {\n",
       "      background-color: #E2EBFA;\n",
       "      box-shadow: 0px 1px 2px rgba(60, 64, 67, 0.3), 0px 1px 3px 1px rgba(60, 64, 67, 0.15);\n",
       "      fill: #174EA6;\n",
       "    }\n",
       "\n",
       "    [theme=dark] .colab-df-convert {\n",
       "      background-color: #3B4455;\n",
       "      fill: #D2E3FC;\n",
       "    }\n",
       "\n",
       "    [theme=dark] .colab-df-convert:hover {\n",
       "      background-color: #434B5C;\n",
       "      box-shadow: 0px 1px 3px 1px rgba(0, 0, 0, 0.15);\n",
       "      filter: drop-shadow(0px 1px 2px rgba(0, 0, 0, 0.3));\n",
       "      fill: #FFFFFF;\n",
       "    }\n",
       "  </style>\n",
       "\n",
       "      <script>\n",
       "        const buttonEl =\n",
       "          document.querySelector('#df-5adc7e44-d994-4269-8499-e05343534e4b button.colab-df-convert');\n",
       "        buttonEl.style.display =\n",
       "          google.colab.kernel.accessAllowed ? 'block' : 'none';\n",
       "\n",
       "        async function convertToInteractive(key) {\n",
       "          const element = document.querySelector('#df-5adc7e44-d994-4269-8499-e05343534e4b');\n",
       "          const dataTable =\n",
       "            await google.colab.kernel.invokeFunction('convertToInteractive',\n",
       "                                                     [key], {});\n",
       "          if (!dataTable) return;\n",
       "\n",
       "          const docLinkHtml = 'Like what you see? Visit the ' +\n",
       "            '<a target=\"_blank\" href=https://colab.research.google.com/notebooks/data_table.ipynb>data table notebook</a>'\n",
       "            + ' to learn more about interactive tables.';\n",
       "          element.innerHTML = '';\n",
       "          dataTable['output_type'] = 'display_data';\n",
       "          await google.colab.output.renderOutput(dataTable, element);\n",
       "          const docLink = document.createElement('div');\n",
       "          docLink.innerHTML = docLinkHtml;\n",
       "          element.appendChild(docLink);\n",
       "        }\n",
       "      </script>\n",
       "    </div>\n",
       "  </div>\n",
       "  "
      ],
      "text/plain": [
       "       player_id         player  all_nba  all_nba_probability\n",
       "6634        1204   Kyrie Irving        1                  0.5\n",
       "7225        1315   Nikola Jokic        1                  0.6\n",
       "3168         570  Stephen Curry        1                  0.7\n",
       "14132       2585   Kemba Walker        1                  0.7\n",
       "8103        1492  Kawhi Leonard        1                  0.7"
      ]
     },
     "execution_count": 493,
     "metadata": {},
     "output_type": "execute_result"
    }
   ],
   "source": [
    "all_nba_2018_selections.sort_values(\"all_nba_probability\")[:-15].loc[all_nba_2018_selections.all_nba == 1]"
   ]
  },
  {
   "cell_type": "markdown",
   "id": "MSbV0HpavMAa",
   "metadata": {
    "id": "MSbV0HpavMAa"
   },
   "source": [
    "Players in our predictions not selected "
   ]
  },
  {
   "cell_type": "code",
   "execution_count": null,
   "id": "FhosX-rht8bG",
   "metadata": {
    "colab": {
     "base_uri": "https://localhost:8080/",
     "height": 206
    },
    "executionInfo": {
     "elapsed": 307,
     "status": "ok",
     "timestamp": 1665005747150,
     "user": {
      "displayName": "Eduardo Andres",
      "userId": "05872806371588886564"
     },
     "user_tz": 180
    },
    "id": "FhosX-rht8bG",
    "outputId": "6793ae3f-d2c1-442d-9277-2eecc4b190a5"
   },
   "outputs": [
    {
     "data": {
      "text/html": [
       "\n",
       "  <div id=\"df-5f7fbd1e-e8ca-4e88-a3dc-f5b231e644c3\">\n",
       "    <div class=\"colab-df-container\">\n",
       "      <div>\n",
       "<style scoped>\n",
       "    .dataframe tbody tr th:only-of-type {\n",
       "        vertical-align: middle;\n",
       "    }\n",
       "\n",
       "    .dataframe tbody tr th {\n",
       "        vertical-align: top;\n",
       "    }\n",
       "\n",
       "    .dataframe thead th {\n",
       "        text-align: right;\n",
       "    }\n",
       "</style>\n",
       "<table border=\"1\" class=\"dataframe\">\n",
       "  <thead>\n",
       "    <tr style=\"text-align: right;\">\n",
       "      <th></th>\n",
       "      <th>player_id</th>\n",
       "      <th>player</th>\n",
       "      <th>all_nba</th>\n",
       "      <th>all_nba_probability</th>\n",
       "    </tr>\n",
       "  </thead>\n",
       "  <tbody>\n",
       "    <tr>\n",
       "      <th>3401</th>\n",
       "      <td>587</td>\n",
       "      <td>Anthony Davis</td>\n",
       "      <td>0</td>\n",
       "      <td>0.9</td>\n",
       "    </tr>\n",
       "    <tr>\n",
       "      <th>14027</th>\n",
       "      <td>2572</td>\n",
       "      <td>Nikola Vucevic</td>\n",
       "      <td>0</td>\n",
       "      <td>0.9</td>\n",
       "    </tr>\n",
       "    <tr>\n",
       "      <th>168</th>\n",
       "      <td>30</td>\n",
       "      <td>LaMarcus Aldridge</td>\n",
       "      <td>0</td>\n",
       "      <td>0.8</td>\n",
       "    </tr>\n",
       "    <tr>\n",
       "      <th>3794</th>\n",
       "      <td>682</td>\n",
       "      <td>Andre Drummond</td>\n",
       "      <td>0</td>\n",
       "      <td>0.8</td>\n",
       "    </tr>\n",
       "    <tr>\n",
       "      <th>3538</th>\n",
       "      <td>633</td>\n",
       "      <td>DeMar DeRozan</td>\n",
       "      <td>0</td>\n",
       "      <td>0.7</td>\n",
       "    </tr>\n",
       "  </tbody>\n",
       "</table>\n",
       "</div>\n",
       "      <button class=\"colab-df-convert\" onclick=\"convertToInteractive('df-5f7fbd1e-e8ca-4e88-a3dc-f5b231e644c3')\"\n",
       "              title=\"Convert this dataframe to an interactive table.\"\n",
       "              style=\"display:none;\">\n",
       "        \n",
       "  <svg xmlns=\"http://www.w3.org/2000/svg\" height=\"24px\"viewBox=\"0 0 24 24\"\n",
       "       width=\"24px\">\n",
       "    <path d=\"M0 0h24v24H0V0z\" fill=\"none\"/>\n",
       "    <path d=\"M18.56 5.44l.94 2.06.94-2.06 2.06-.94-2.06-.94-.94-2.06-.94 2.06-2.06.94zm-11 1L8.5 8.5l.94-2.06 2.06-.94-2.06-.94L8.5 2.5l-.94 2.06-2.06.94zm10 10l.94 2.06.94-2.06 2.06-.94-2.06-.94-.94-2.06-.94 2.06-2.06.94z\"/><path d=\"M17.41 7.96l-1.37-1.37c-.4-.4-.92-.59-1.43-.59-.52 0-1.04.2-1.43.59L10.3 9.45l-7.72 7.72c-.78.78-.78 2.05 0 2.83L4 21.41c.39.39.9.59 1.41.59.51 0 1.02-.2 1.41-.59l7.78-7.78 2.81-2.81c.8-.78.8-2.07 0-2.86zM5.41 20L4 18.59l7.72-7.72 1.47 1.35L5.41 20z\"/>\n",
       "  </svg>\n",
       "      </button>\n",
       "      \n",
       "  <style>\n",
       "    .colab-df-container {\n",
       "      display:flex;\n",
       "      flex-wrap:wrap;\n",
       "      gap: 12px;\n",
       "    }\n",
       "\n",
       "    .colab-df-convert {\n",
       "      background-color: #E8F0FE;\n",
       "      border: none;\n",
       "      border-radius: 50%;\n",
       "      cursor: pointer;\n",
       "      display: none;\n",
       "      fill: #1967D2;\n",
       "      height: 32px;\n",
       "      padding: 0 0 0 0;\n",
       "      width: 32px;\n",
       "    }\n",
       "\n",
       "    .colab-df-convert:hover {\n",
       "      background-color: #E2EBFA;\n",
       "      box-shadow: 0px 1px 2px rgba(60, 64, 67, 0.3), 0px 1px 3px 1px rgba(60, 64, 67, 0.15);\n",
       "      fill: #174EA6;\n",
       "    }\n",
       "\n",
       "    [theme=dark] .colab-df-convert {\n",
       "      background-color: #3B4455;\n",
       "      fill: #D2E3FC;\n",
       "    }\n",
       "\n",
       "    [theme=dark] .colab-df-convert:hover {\n",
       "      background-color: #434B5C;\n",
       "      box-shadow: 0px 1px 3px 1px rgba(0, 0, 0, 0.15);\n",
       "      filter: drop-shadow(0px 1px 2px rgba(0, 0, 0, 0.3));\n",
       "      fill: #FFFFFF;\n",
       "    }\n",
       "  </style>\n",
       "\n",
       "      <script>\n",
       "        const buttonEl =\n",
       "          document.querySelector('#df-5f7fbd1e-e8ca-4e88-a3dc-f5b231e644c3 button.colab-df-convert');\n",
       "        buttonEl.style.display =\n",
       "          google.colab.kernel.accessAllowed ? 'block' : 'none';\n",
       "\n",
       "        async function convertToInteractive(key) {\n",
       "          const element = document.querySelector('#df-5f7fbd1e-e8ca-4e88-a3dc-f5b231e644c3');\n",
       "          const dataTable =\n",
       "            await google.colab.kernel.invokeFunction('convertToInteractive',\n",
       "                                                     [key], {});\n",
       "          if (!dataTable) return;\n",
       "\n",
       "          const docLinkHtml = 'Like what you see? Visit the ' +\n",
       "            '<a target=\"_blank\" href=https://colab.research.google.com/notebooks/data_table.ipynb>data table notebook</a>'\n",
       "            + ' to learn more about interactive tables.';\n",
       "          element.innerHTML = '';\n",
       "          dataTable['output_type'] = 'display_data';\n",
       "          await google.colab.output.renderOutput(dataTable, element);\n",
       "          const docLink = document.createElement('div');\n",
       "          docLink.innerHTML = docLinkHtml;\n",
       "          element.appendChild(docLink);\n",
       "        }\n",
       "      </script>\n",
       "    </div>\n",
       "  </div>\n",
       "  "
      ],
      "text/plain": [
       "       player_id             player  all_nba  all_nba_probability\n",
       "3401         587      Anthony Davis        0                  0.9\n",
       "14027       2572     Nikola Vucevic        0                  0.9\n",
       "168           30  LaMarcus Aldridge        0                  0.8\n",
       "3794         682     Andre Drummond        0                  0.8\n",
       "3538         633      DeMar DeRozan        0                  0.7"
      ]
     },
     "execution_count": 494,
     "metadata": {},
     "output_type": "execute_result"
    }
   ],
   "source": [
    "all_nba_2018_selections.sort_values(\"all_nba_probability\", ascending=False)[:15].loc[all_nba_2018_selections.all_nba==0]"
   ]
  },
  {
   "cell_type": "markdown",
   "id": "66b994d0-d37a-43c2-a38f-ea5e86afa512",
   "metadata": {
    "id": "66b994d0-d37a-43c2-a38f-ea5e86afa512"
   },
   "source": [
    "Create a class named AllNbaSingleSeasonClassifier that takes a scikit learn model in the constructor, then implements a predict method that returns predictions with only the 15 most probable selections."
   ]
  },
  {
   "cell_type": "code",
   "execution_count": null,
   "id": "5fc85317-ffc5-45e9-8740-3703b5d1aa86",
   "metadata": {
    "id": "5fc85317-ffc5-45e9-8740-3703b5d1aa86"
   },
   "outputs": [],
   "source": [
    "class AllNbaSingleSeasonClassifier():\n",
    "  def __init__(self, model):\n",
    "    \"\"\"\n",
    "    Class constructor\n",
    "    \n",
    "    Parameters\n",
    "    ----------\n",
    "    model: BaseEstimator\n",
    "      a Scikit learn estimator\n",
    "    \"\"\"\n",
    "    \n",
    "    all_nba_df = pd.read_csv(\"https://raw.githubusercontent.com/anyoneai/notebooks/main/datasets/all_nba_1983_2017_dataset.csv\", index_col=0)\n",
    "    final_dict = {x:x for x in all_nba_df.team.unique()}\n",
    "    final_dict.update({'NOH':'NOP', 'NOK':'NOP', 'KCK': 'SAC', 'VAN':'MEM', 'SEA': 'OKC', 'NJN': 'BRK', 'WSB': 'WAS', 'SDC': 'LAC', 'CHH':'CHO', 'CHA':'CHO'})\n",
    "    all_nba_df.team = all_nba_df.team.map(final_dict)\n",
    "\n",
    "    X = all_nba_df[[\"team\", 'games', 'gamesstarted', 'mp', 'fg_perc', '3p_perc', '2p_perc', 'ft_perc', 'trb', 'ast', 'stl', 'blk', 'tov', 'pf', 'pts']]\n",
    "    y = all_nba_df['all_nba']\n",
    "    X_train, _, y_train,_ = train_test_split( X, y, test_size=0.2, random_state=24, shuffle=True, stratify = y)\n",
    "\n",
    "    # Scaling numerical features in the dataset\n",
    "    self.numeric_cols = list(X.columns)[1:]\n",
    "    self.mm_scaler = MinMaxScaler()\n",
    "    self.mm_scaler.fit(X_train[self.numeric_cols])\n",
    "    X_train[self.numeric_cols] = self.mm_scaler.transform(X_train[self.numeric_cols])\n",
    "    \n",
    "    # One hot encode the Team feature, drop original column.\n",
    "    self.onehot = OneHotEncoder(sparse = False)\n",
    "    self.onehot.fit(X_train[[\"team\"]])\n",
    "\n",
    "    # transform X_train\n",
    "    transformed_data = self.onehot.transform(X_train[[\"team\"]])\n",
    "    encoded_data = pd.DataFrame(transformed_data, index=X_train.index, columns = self.onehot.get_feature_names_out())\n",
    "    X_train = pd.concat([X_train, encoded_data], axis=1).drop([\"team\", 'team_TOT'], axis=1)\n",
    "\n",
    "    self.model = model\n",
    "    self.model.fit(X_train, y_train)\n",
    "\n",
    "      \n",
    "  def predict(self, df):\n",
    "    \"\"\"\n",
    "    Predicts all nba selections. This classifier will limit the number\n",
    "    of positive instances to 15\n",
    "    \n",
    "    Parameters\n",
    "    ----------\n",
    "    df_0 : pd.DataFrame\n",
    "      a dataframe with the players data\n",
    "        \n",
    "    Returns\n",
    "    -------\n",
    "    np.ndarray\n",
    "      An array of the same length as y, with 15 true results based on the players with most probabilities of\n",
    "      beign selected\n",
    "    \"\"\"\n",
    "    df_0 = df[self.numeric_cols + [\"team\"]]\n",
    "    df_0[self.numeric_cols] = self.mm_scaler.transform(df_0[self.numeric_cols])\n",
    "    \n",
    "    transformed_data = self.onehot.transform(df_0[[\"team\"]])\n",
    "    encoded_data = pd.DataFrame(transformed_data, index= df_0.index, columns = self.onehot.get_feature_names_out())\n",
    "    df_0 = pd.concat([df_0[self.numeric_cols], encoded_data], axis=1).drop(['team_TOT'], axis=1)\n",
    "\n",
    "    df[\"all_nba_probability\"] = self.model.predict_proba(df_0)[:,1]\n",
    "    \n",
    "\n",
    "    return df.sort_values(\"all_nba_probability\", ascending=False)[:15][\"player\"].values.tolist()"
   ]
  },
  {
   "cell_type": "code",
   "execution_count": null,
   "id": "1Tz0OhI0F4C2",
   "metadata": {
    "colab": {
     "base_uri": "https://localhost:8080/"
    },
    "executionInfo": {
     "elapsed": 562,
     "status": "ok",
     "timestamp": 1665012076787,
     "user": {
      "displayName": "Eduardo Andres",
      "userId": "05872806371588886564"
     },
     "user_tz": 180
    },
    "id": "1Tz0OhI0F4C2",
    "outputId": "d6eb1298-3fd9-40ab-b1d6-778b0e42d4ff"
   },
   "outputs": [
    {
     "name": "stderr",
     "output_type": "stream",
     "text": [
      "/usr/local/lib/python3.7/dist-packages/pandas/core/frame.py:3678: SettingWithCopyWarning: \n",
      "A value is trying to be set on a copy of a slice from a DataFrame.\n",
      "Try using .loc[row_indexer,col_indexer] = value instead\n",
      "\n",
      "See the caveats in the documentation: https://pandas.pydata.org/pandas-docs/stable/user_guide/indexing.html#returning-a-view-versus-a-copy\n",
      "  self[col] = igetitem(value, i)\n"
     ]
    },
    {
     "data": {
      "text/plain": [
       "['James Harden',\n",
       " 'Giannis Antetokounmpo',\n",
       " 'LeBron James',\n",
       " 'Russell Westbrook',\n",
       " 'Anthony Davis',\n",
       " 'Joel Embiid',\n",
       " 'Paul George',\n",
       " 'Kevin Durant',\n",
       " 'Nikola Vucevic',\n",
       " 'LaMarcus Aldridge',\n",
       " 'Blake Griffin',\n",
       " 'Damian Lillard',\n",
       " 'Andre Drummond',\n",
       " 'DeMar DeRozan',\n",
       " 'Rudy Gobert']"
      ]
     },
     "execution_count": 593,
     "metadata": {},
     "output_type": "execute_result"
    }
   ],
   "source": [
    "ejemplo = AllNbaSingleSeasonClassifier(best_logit)\n",
    "\n",
    "all_nba_2018_df = pd.read_csv(\"https://raw.githubusercontent.com/anyoneai/notebooks/main/datasets/all_nba_2018_dataset.csv\", index_col=0)\n",
    "\n",
    "ejemplo.predict(all_nba_2018_df)"
   ]
  },
  {
   "cell_type": "code",
   "execution_count": null,
   "id": "ac440daa-8a05-4a90-8729-a48af57092bb",
   "metadata": {
    "colab": {
     "base_uri": "https://localhost:8080/"
    },
    "executionInfo": {
     "elapsed": 1251,
     "status": "ok",
     "timestamp": 1665012800890,
     "user": {
      "displayName": "Eduardo Andres",
      "userId": "05872806371588886564"
     },
     "user_tz": 180
    },
    "id": "ac440daa-8a05-4a90-8729-a48af57092bb",
    "outputId": "ad4af8a3-8c5b-4c28-b942-495518a130df"
   },
   "outputs": [
    {
     "name": "stderr",
     "output_type": "stream",
     "text": [
      "/usr/local/lib/python3.7/dist-packages/pandas/core/frame.py:3678: SettingWithCopyWarning: \n",
      "A value is trying to be set on a copy of a slice from a DataFrame.\n",
      "Try using .loc[row_indexer,col_indexer] = value instead\n",
      "\n",
      "See the caveats in the documentation: https://pandas.pydata.org/pandas-docs/stable/user_guide/indexing.html#returning-a-view-versus-a-copy\n",
      "  self[col] = igetitem(value, i)\n"
     ]
    },
    {
     "name": "stdout",
     "output_type": "stream",
     "text": [
      "\n",
      " ------------------------------ \n",
      " LogisticRegression(C=5.0, max_iter=50) \n",
      "\n",
      "{'precision': 0.6666666666666666, 'recall': 0.6666666666666666, 'f1-score': 0.6666666666666666, 'support': 15} \n",
      "\n",
      "Predicted All NBA: ['James Harden', 'Giannis Antetokounmpo', 'LeBron James', 'Russell Westbrook', 'Anthony Davis']\n",
      "['Joel Embiid', 'Paul George', 'Kevin Durant', 'Nikola Vucevic', 'LaMarcus Aldridge']\n",
      "['Joel Embiid', 'Paul George', 'Kevin Durant', 'Nikola Vucevic', 'LaMarcus Aldridge']\n",
      " ------------------------------ \n",
      "\n"
     ]
    },
    {
     "name": "stderr",
     "output_type": "stream",
     "text": [
      "/usr/local/lib/python3.7/dist-packages/pandas/core/frame.py:3678: SettingWithCopyWarning: \n",
      "A value is trying to be set on a copy of a slice from a DataFrame.\n",
      "Try using .loc[row_indexer,col_indexer] = value instead\n",
      "\n",
      "See the caveats in the documentation: https://pandas.pydata.org/pandas-docs/stable/user_guide/indexing.html#returning-a-view-versus-a-copy\n",
      "  self[col] = igetitem(value, i)\n"
     ]
    },
    {
     "name": "stdout",
     "output_type": "stream",
     "text": [
      "\n",
      " ------------------------------ \n",
      " LogisticRegression() \n",
      "\n",
      "{'precision': 0.6, 'recall': 0.6, 'f1-score': 0.6, 'support': 15} \n",
      "\n",
      "Predicted All NBA: ['James Harden', 'Giannis Antetokounmpo', 'LeBron James', 'Russell Westbrook', 'Paul George']\n",
      "['Joel Embiid', 'Anthony Davis', 'Kevin Durant', 'Nikola Vucevic', 'Karl-Anthony Towns']\n",
      "['Joel Embiid', 'Anthony Davis', 'Kevin Durant', 'Nikola Vucevic', 'Karl-Anthony Towns']\n",
      " ------------------------------ \n",
      "\n",
      "\n",
      " ------------------------------ \n",
      " DecisionTreeClassifier() \n",
      "\n",
      "{'precision': 0.26666666666666666, 'recall': 0.26666666666666666, 'f1-score': 0.26666666666666666, 'support': 15} \n",
      "\n",
      "Predicted All NBA: ['Luka Doncic', 'Jrue Holiday', 'Kawhi Leonard', 'Kemba Walker', 'Damian Lillard']\n",
      "['Bradley Beal', 'Danilo Gallinari', 'Jordan Clarkson', 'Domantas Sabonis', 'Hassan Whiteside']\n",
      "['Bradley Beal', 'Danilo Gallinari', 'Jordan Clarkson', 'Domantas Sabonis', 'Hassan Whiteside']\n",
      " ------------------------------ \n",
      "\n"
     ]
    },
    {
     "name": "stderr",
     "output_type": "stream",
     "text": [
      "/usr/local/lib/python3.7/dist-packages/pandas/core/frame.py:3678: SettingWithCopyWarning: \n",
      "A value is trying to be set on a copy of a slice from a DataFrame.\n",
      "Try using .loc[row_indexer,col_indexer] = value instead\n",
      "\n",
      "See the caveats in the documentation: https://pandas.pydata.org/pandas-docs/stable/user_guide/indexing.html#returning-a-view-versus-a-copy\n",
      "  self[col] = igetitem(value, i)\n"
     ]
    }
   ],
   "source": [
    "DecisionTreeClassifier,\n",
    "all_nba_2018_df = pd.read_csv(\"https://raw.githubusercontent.com/anyoneai/notebooks/main/datasets/all_nba_2018_dataset.csv\", index_col=0)\n",
    "all_nba_2018_selections = pd.read_csv(\"https://raw.githubusercontent.com/anyoneai/notebooks/main/datasets/all_nba_2018_selections.csv\", index_col=0)[[\"player\", \"all_nba\"]]\n",
    "\n",
    "models_list = [best_logit, LogisticRegression(), DecisionTreeClassifier()]\n",
    "\n",
    "for predictor in models_list:\n",
    "  clase = AllNbaSingleSeasonClassifier(predictor)\n",
    "  prediction_list = clase.predict(all_nba_2018_df)\n",
    "\n",
    "  def h(player):\n",
    "    if player in prediction_list:\n",
    "      return 1\n",
    "    else:\n",
    "      return 0\n",
    "\n",
    "  all_nba_2018_selections[\"predicted_all_nba\"] = all_nba_2018_selections.player.apply(h)\n",
    "  \n",
    "  print(\"\\n\",\"-\"*30, \"\\n\", predictor, \"\\n\")\n",
    "  print(classification_report(all_nba_2018_selections[[\"all_nba\"]], all_nba_2018_selections[\"predicted_all_nba\"],output_dict=True)[\"1\"], \"\\n\")\n",
    "  print(f\"Predicted All NBA: {prediction_list[:5]}\\n{prediction_list[5:10]}\\n{prediction_list[5:10]}\\n\", \"-\"*30, \"\\n\")"
   ]
  },
  {
   "cell_type": "markdown",
   "id": "f4eb9454-b0d5-40f0-8cb3-0af1ce8ade34",
   "metadata": {
    "id": "f4eb9454-b0d5-40f0-8cb3-0af1ce8ade34"
   },
   "source": [
    "The main problem with this dataset was the unbalance. \n",
    "\n",
    "And the biggest mistake we made was NOT to include the season/year variable, since there is a fixed number of selections per season."
   ]
  },
  {
   "cell_type": "markdown",
   "id": "LVNnCT9gfWJs",
   "metadata": {
    "id": "LVNnCT9gfWJs"
   },
   "source": [
    "It is a highly unbalanced (whith respect to what we are trying to predict). It was correct to use classification models of course. \n",
    "\n",
    "We could have done a more broad hyperparameter tunning, or try with more kinds of classifiers.\n",
    "\n",
    "Prioritizing the F1-score was good.\n",
    "\n",
    "For a personal knowledge of the data we are dealing with:\n",
    "\n",
    "  - we did not use the feature \"season\" (or year) to train-predict. That is huge since there are only 15 selections per season. So a player´s stats may be good enough in one season, but not in another. \n",
    "  \n",
    "  - Frequent change rules in the NBA in favor of the offensive game over the years may generate an inflation on the raw stats, for example in points and assists. Another reason to use the season feature.\n",
    "\n",
    "  - nowadays the 3pt shooting is more important than ever. But if we did not take the years into account, there is noise. A good 3pt% in the 80s (without info about the number of 3s taken) may hurt our prediction.\n",
    "\n",
    "  - the ammount of shots taken per game may make a influence (I think we could actually reconstruct this as a linear combination of the points and shooting stast), but maybe it could have been included. \n",
    "\n",
    "  - maybe the goal was to only use individual stats, but team success usually influences All-NBA selections (at least take the win-loss record)\n",
    "\n",
    "  - we also didnt use the player positions into account. For example, each year there can only be 3 centers selected to the All-NBA teams.\n",
    "\n",
    "  - Also, until the season 1987-88 there were only 10 players selected (instead of 15), and we took data from that period ( https://en.wikipedia.org/wiki/All-NBA_Team ).\n",
    "\n",
    "  - There have been a couple of lockouts seasons (1998-99, 2011-12) with less games played per team, which adds noise to the \"games\" column.\n",
    "\n"
   ]
  },
  {
   "cell_type": "markdown",
   "id": "e81ac1ea-75ab-4fee-8148-20a4ea663791",
   "metadata": {
    "id": "e81ac1ea-75ab-4fee-8148-20a4ea663791"
   },
   "source": [
    "We could maybe include better features, include some team stats, include season/year, the position of the players, the number of shots taken. Also include team stats (win% at least). Also try including the age or season_experience of the player (players too young/old may not be selected).\n",
    "\n",
    "Mainly also doing a deeper hyperparameter tunning of the models selected. "
   ]
  },
  {
   "cell_type": "markdown",
   "id": "e1SaSijigDNW",
   "metadata": {
    "id": "e1SaSijigDNW"
   },
   "source": [
    "Get from NBA api team stats, mainly the win-loss record during the regular season. Team success usually impacts the All-NBA selections."
   ]
  }
 ],
 "metadata": {
  "colab": {
   "collapsed_sections": [],
   "provenance": [
    {
     "file_id": "12pWN3VnasosihJQmn1YOO-WKoyuelyyt",
     "timestamp": 1664711966083
    },
    {
     "file_id": "1QLW_SFHfF7Vwrg5rpfSBDfpvTyxN346V",
     "timestamp": 1664312646894
    }
   ]
  },
  "kernelspec": {
   "display_name": "Python [conda env:anyone_1_2_3]",
   "language": "python",
   "name": "conda-env-anyone_1_2_3-py"
  },
  "language_info": {
   "codemirror_mode": {
    "name": "ipython",
    "version": 3
   },
   "file_extension": ".py",
   "mimetype": "text/x-python",
   "name": "python",
   "nbconvert_exporter": "python",
   "pygments_lexer": "ipython3",
   "version": "3.10.8"
  }
 },
 "nbformat": 4,
 "nbformat_minor": 5
}
